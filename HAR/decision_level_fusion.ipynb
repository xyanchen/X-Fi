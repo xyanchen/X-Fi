{
 "cells": [
  {
   "cell_type": "code",
   "execution_count": 4,
   "metadata": {},
   "outputs": [],
   "source": [
    "import numpy as np\n",
    "import glob\n",
    "import scipy.io as sio\n",
    "import torch\n",
    "from torch import nn\n",
    "import random\n",
    "import csv\n",
    "import os\n",
    "from tqdm import tqdm\n",
    "from torch.utils.data import Dataset, DataLoader\n",
    "import yaml\n",
    "from evaluate import error\n",
    "import time\n",
    "import re\n",
    "from syn_DI_dataset import make_dataset, make_dataloader"
   ]
  },
  {
   "cell_type": "code",
   "execution_count": 5,
   "metadata": {},
   "outputs": [
    {
     "name": "stdout",
     "output_type": "stream",
     "text": [
      "['rgb', 'depth', 'lidar', 'mmwave']\n",
      "S02 ['A01', 'A02', 'A03', 'A04', 'A06', 'A08', 'A09', 'A11', 'A12', 'A13', 'A14', 'A15', 'A16', 'A18', 'A19', 'A20', 'A21', 'A22', 'A23', 'A24', 'A26']\n",
      "S03 ['A01', 'A02', 'A03', 'A04', 'A05', 'A06', 'A07', 'A08', 'A09', 'A10', 'A11', 'A12', 'A15', 'A16', 'A17', 'A18', 'A21', 'A22', 'A23', 'A24', 'A25', 'A26', 'A27']\n",
      "S05 ['A01', 'A02', 'A03', 'A04', 'A05', 'A06', 'A07', 'A09', 'A10', 'A11', 'A12', 'A13', 'A14', 'A15', 'A16', 'A19', 'A20', 'A21', 'A24', 'A25']\n",
      "S06 ['A01', 'A03', 'A04', 'A06', 'A07', 'A08', 'A10', 'A11', 'A12', 'A13', 'A14', 'A15', 'A18', 'A21', 'A22', 'A23', 'A24', 'A25', 'A26', 'A27']\n",
      "S08 ['A01', 'A02', 'A04', 'A05', 'A06', 'A07', 'A08', 'A09', 'A10', 'A11', 'A13', 'A14', 'A17', 'A19', 'A20', 'A21', 'A22', 'A23', 'A24', 'A25', 'A26', 'A27']\n",
      "S09 ['A01', 'A07', 'A08', 'A10', 'A11', 'A12', 'A13', 'A14', 'A15', 'A17', 'A18', 'A20', 'A21', 'A24', 'A25', 'A27']\n",
      "S11 ['A01', 'A02', 'A03', 'A05', 'A06', 'A08', 'A10', 'A11', 'A12', 'A13', 'A16', 'A17', 'A18', 'A19', 'A21', 'A23', 'A24', 'A25', 'A26', 'A27']\n",
      "S12 ['A01', 'A04', 'A05', 'A06', 'A07', 'A08', 'A09', 'A10', 'A11', 'A12', 'A14', 'A15', 'A17', 'A18', 'A19', 'A20', 'A21', 'A22', 'A23', 'A24', 'A25', 'A26', 'A27']\n",
      "S13 ['A01', 'A03', 'A04', 'A05', 'A06', 'A07', 'A08', 'A09', 'A10', 'A11', 'A14', 'A17', 'A18', 'A19', 'A20', 'A21', 'A22', 'A23', 'A25', 'A26', 'A27']\n",
      "S14 ['A01', 'A02', 'A03', 'A04', 'A05', 'A06', 'A07', 'A08', 'A09', 'A10', 'A11', 'A13', 'A15', 'A16', 'A17', 'A18', 'A19', 'A20', 'A21', 'A22', 'A23', 'A24', 'A25', 'A26']\n",
      "S15 ['A01', 'A02', 'A03', 'A04', 'A05', 'A07', 'A09', 'A10', 'A11', 'A12', 'A13', 'A14', 'A15', 'A16', 'A17', 'A18', 'A19', 'A20', 'A21', 'A22', 'A23', 'A24', 'A25', 'A26', 'A27']\n",
      "S16 ['A01', 'A04', 'A05', 'A06', 'A08', 'A09', 'A10', 'A12', 'A13', 'A14', 'A15', 'A16', 'A17', 'A19', 'A20', 'A23', 'A24', 'A27']\n",
      "S17 ['A01', 'A02', 'A03', 'A04', 'A05', 'A08', 'A09', 'A10', 'A11', 'A13', 'A16', 'A18', 'A19', 'A20', 'A21', 'A22', 'A23', 'A24', 'A25', 'A26', 'A27']\n",
      "S18 ['A01', 'A02', 'A03', 'A04', 'A05', 'A06', 'A07', 'A08', 'A09', 'A10', 'A11', 'A13', 'A14', 'A15', 'A16', 'A17', 'A18', 'A20', 'A21', 'A22', 'A23', 'A24', 'A26']\n",
      "S19 ['A01', 'A02', 'A04', 'A05', 'A06', 'A07', 'A08', 'A09', 'A10', 'A11', 'A12', 'A13', 'A15', 'A16', 'A17', 'A18', 'A19', 'A20', 'A21', 'A22', 'A24', 'A25', 'A26', 'A27']\n",
      "S21 ['A01', 'A02', 'A03', 'A04', 'A05', 'A06', 'A08', 'A10', 'A11', 'A12', 'A13', 'A14', 'A15', 'A16', 'A17', 'A19', 'A20', 'A24', 'A25', 'A26', 'A27']\n",
      "S23 ['A01', 'A02', 'A04', 'A05', 'A06', 'A07', 'A08', 'A09', 'A11', 'A12', 'A14', 'A16', 'A17', 'A19', 'A21', 'A22', 'A23', 'A24', 'A25', 'A26', 'A27']\n",
      "S25 ['A01', 'A02', 'A03', 'A05', 'A06', 'A07', 'A08', 'A09', 'A10', 'A11', 'A12', 'A13', 'A14', 'A16', 'A17', 'A18', 'A20', 'A21', 'A22', 'A23', 'A24', 'A25', 'A26', 'A27']\n",
      "S26 ['A01', 'A02', 'A03', 'A04', 'A05', 'A06', 'A09', 'A10', 'A13', 'A15', 'A16', 'A17', 'A18', 'A19', 'A20', 'A21', 'A22', 'A23', 'A25', 'A27']\n",
      "S27 ['A01', 'A02', 'A03', 'A04', 'A05', 'A06', 'A07', 'A08', 'A10', 'A11', 'A12', 'A13', 'A16', 'A17', 'A18', 'A19', 'A20', 'A22', 'A23', 'A25']\n",
      "S28 ['A01', 'A02', 'A03', 'A04', 'A05', 'A07', 'A08', 'A09', 'A11', 'A14', 'A15', 'A17', 'A18', 'A19', 'A20', 'A21', 'A22', 'A23', 'A25', 'A26', 'A27']\n",
      "S29 ['A01', 'A02', 'A03', 'A04', 'A05', 'A06', 'A07', 'A09', 'A12', 'A13', 'A14', 'A17', 'A18', 'A19', 'A20', 'A22', 'A23', 'A24', 'A25', 'A27']\n",
      "S30 ['A01', 'A02', 'A03', 'A04', 'A05', 'A06', 'A07', 'A08', 'A09', 'A12', 'A13', 'A14', 'A15', 'A16', 'A17', 'A18', 'A19', 'A21', 'A22', 'A24', 'A25', 'A26', 'A27']\n",
      "S31 ['A01', 'A02', 'A03', 'A04', 'A07', 'A08', 'A09', 'A10', 'A11', 'A12', 'A13', 'A14', 'A15', 'A16', 'A18', 'A19', 'A20', 'A21', 'A22', 'A23', 'A24', 'A25', 'A26', 'A27']\n",
      "S32 ['A01', 'A02', 'A04', 'A05', 'A06', 'A07', 'A08', 'A09', 'A10', 'A11', 'A12', 'A13', 'A14', 'A15', 'A16', 'A19', 'A22', 'A25', 'A26', 'A27']\n",
      "S33 ['A01', 'A02', 'A03', 'A04', 'A05', 'A06', 'A07', 'A08', 'A09', 'A10', 'A11', 'A12', 'A13', 'A14', 'A15', 'A16', 'A18', 'A19', 'A20', 'A21', 'A22', 'A23', 'A24', 'A25', 'A26']\n",
      "S34 ['A01', 'A02', 'A03', 'A05', 'A06', 'A07', 'A08', 'A09', 'A13', 'A14', 'A15', 'A16', 'A17', 'A18', 'A19', 'A20', 'A21', 'A22', 'A23', 'A24', 'A25', 'A26', 'A27']\n",
      "S35 ['A01', 'A02', 'A03', 'A04', 'A05', 'A06', 'A07', 'A08', 'A09', 'A10', 'A11', 'A12', 'A13', 'A15', 'A16', 'A17', 'A18', 'A21', 'A23', 'A24', 'A26', 'A27']\n",
      "S36 ['A01', 'A02', 'A04', 'A05', 'A09', 'A10', 'A11', 'A12', 'A14', 'A15', 'A16', 'A17', 'A18', 'A19', 'A20', 'A23', 'A24', 'A26', 'A27']\n",
      "S37 ['A01', 'A02', 'A03', 'A04', 'A05', 'A06', 'A07', 'A08', 'A09', 'A10', 'A12', 'A13', 'A14', 'A15', 'A16', 'A17', 'A18', 'A19', 'A20', 'A21', 'A22', 'A24', 'A25', 'A26', 'A27']\n",
      "S38 ['A01', 'A03', 'A04', 'A05', 'A07', 'A08', 'A09', 'A10', 'A11', 'A12', 'A13', 'A14', 'A15', 'A16', 'A19', 'A20', 'A21', 'A22', 'A23', 'A24', 'A25', 'A26', 'A27']\n",
      "S40 ['A01', 'A02', 'A03', 'A04', 'A05', 'A06', 'A07', 'A08', 'A09', 'A11', 'A12', 'A13', 'A14', 'A15', 'A16', 'A17', 'A18', 'A19', 'A20', 'A21', 'A22', 'A23', 'A24', 'A25', 'A27']\n",
      "S04 ['A02', 'A03', 'A06', 'A07', 'A10', 'A11', 'A12', 'A14', 'A15', 'A16', 'A17', 'A18', 'A19', 'A20', 'A21', 'A22', 'A23', 'A24', 'A26', 'A27']\n",
      "S07 ['A02', 'A03', 'A04', 'A05', 'A06', 'A07', 'A08', 'A09', 'A10', 'A11', 'A12', 'A14', 'A15', 'A16', 'A17', 'A19', 'A20', 'A21', 'A22', 'A23', 'A24', 'A25', 'A26']\n",
      "S20 ['A02', 'A03', 'A05', 'A06', 'A07', 'A10', 'A11', 'A12', 'A13', 'A14', 'A15', 'A16', 'A17', 'A18', 'A21', 'A22', 'A23', 'A25', 'A26']\n",
      "S22 ['A02', 'A03', 'A05', 'A06', 'A07', 'A08', 'A10', 'A11', 'A12', 'A13', 'A14', 'A15', 'A16', 'A17', 'A18', 'A19', 'A20', 'A21', 'A22', 'A23', 'A24', 'A25', 'A26', 'A27']\n",
      "S24 ['A02', 'A03', 'A04', 'A06', 'A07', 'A09', 'A10', 'A11', 'A12', 'A13', 'A14', 'A15', 'A16', 'A17', 'A18', 'A19', 'A20', 'A21', 'A22', 'A23', 'A24', 'A27']\n",
      "S39 ['A02', 'A03', 'A04', 'A05', 'A06', 'A07', 'A08', 'A09', 'A11', 'A12', 'A13', 'A14', 'A15', 'A16', 'A17', 'A18', 'A20', 'A22', 'A23', 'A25', 'A26', 'A27']\n",
      "S01 ['A03', 'A06', 'A07', 'A08', 'A09', 'A10', 'A12', 'A13', 'A14', 'A15', 'A17', 'A18', 'A19', 'A20', 'A21', 'A22', 'A24', 'A26', 'A27']\n",
      "S10 ['A03', 'A04', 'A08', 'A09', 'A10', 'A12', 'A13', 'A14', 'A15', 'A16', 'A17', 'A18', 'A19', 'A20', 'A23', 'A25', 'A26', 'A27']\n",
      "/n\n",
      "['rgb', 'depth', 'lidar', 'mmwave']\n",
      "S01 ['A01', 'A02', 'A04', 'A05', 'A11', 'A16', 'A23', 'A25']\n",
      "S04 ['A01', 'A04', 'A05', 'A08', 'A09', 'A13', 'A25']\n",
      "S07 ['A01', 'A13', 'A18', 'A27']\n",
      "S10 ['A01', 'A02', 'A05', 'A06', 'A07', 'A11', 'A21', 'A22', 'A24']\n",
      "S20 ['A01', 'A04', 'A08', 'A09', 'A19', 'A20', 'A24', 'A27']\n",
      "S22 ['A01', 'A04', 'A09']\n",
      "S24 ['A01', 'A05', 'A08', 'A25', 'A26']\n",
      "S39 ['A01', 'A10', 'A19', 'A21', 'A24']\n",
      "S06 ['A02', 'A05', 'A09', 'A16', 'A17', 'A19', 'A20']\n",
      "S09 ['A02', 'A03', 'A04', 'A05', 'A06', 'A09', 'A16', 'A19', 'A22', 'A23', 'A26']\n",
      "S12 ['A02', 'A03', 'A13', 'A16']\n",
      "S13 ['A02', 'A12', 'A13', 'A15', 'A16', 'A24']\n",
      "S16 ['A02', 'A03', 'A07', 'A11', 'A18', 'A21', 'A22', 'A25', 'A26']\n",
      "S38 ['A02', 'A06', 'A17', 'A18']\n",
      "S08 ['A03', 'A12', 'A15', 'A16', 'A18']\n",
      "S19 ['A03', 'A14', 'A23']\n",
      "S23 ['A03', 'A10', 'A13', 'A15', 'A18', 'A20']\n",
      "S32 ['A03', 'A17', 'A18', 'A20', 'A21', 'A23', 'A24']\n",
      "S36 ['A03', 'A06', 'A07', 'A08', 'A13', 'A21', 'A22', 'A25']\n",
      "S11 ['A04', 'A07', 'A09', 'A14', 'A15', 'A20', 'A22']\n",
      "S25 ['A04', 'A15', 'A19']\n",
      "S34 ['A04', 'A10', 'A11', 'A12']\n",
      "S02 ['A05', 'A07', 'A10', 'A17', 'A25', 'A27']\n",
      "S31 ['A05', 'A06', 'A17']\n",
      "S15 ['A06', 'A08']\n",
      "S17 ['A06', 'A07', 'A12', 'A14', 'A15', 'A17']\n",
      "S28 ['A06', 'A10', 'A12', 'A13', 'A16', 'A24']\n",
      "S21 ['A07', 'A09', 'A18', 'A21', 'A22', 'A23']\n",
      "S26 ['A07', 'A08', 'A11', 'A12', 'A14', 'A24', 'A26']\n",
      "S05 ['A08', 'A17', 'A18', 'A22', 'A23', 'A26', 'A27']\n",
      "S29 ['A08', 'A10', 'A11', 'A15', 'A16', 'A21', 'A26']\n",
      "S27 ['A09', 'A14', 'A15', 'A21', 'A24', 'A26', 'A27']\n",
      "S30 ['A10', 'A11', 'A20', 'A23']\n",
      "S40 ['A10', 'A26']\n",
      "S37 ['A11', 'A23']\n",
      "S14 ['A12', 'A14', 'A27']\n",
      "S18 ['A12', 'A19', 'A25', 'A27']\n",
      "S03 ['A13', 'A14', 'A19', 'A20']\n",
      "S35 ['A14', 'A19', 'A20', 'A22', 'A25']\n",
      "S33 ['A17', 'A27']\n"
     ]
    }
   ],
   "source": [
    "dataset_root = 'd:\\Data\\My_MMFi_Data\\MMFi_Dataset'\n",
    "with open('config.yaml', 'r') as fd:\n",
    "    config = yaml.load(fd, Loader=yaml.FullLoader)\n",
    "\n",
    "train_dataset, val_dataset = make_dataset(dataset_root, config)"
   ]
  },
  {
   "cell_type": "code",
   "execution_count": 6,
   "metadata": {},
   "outputs": [],
   "source": [
    "def collate_fn_padd(batch):\n",
    "    '''\n",
    "    Padds batch of variable length\n",
    "\n",
    "    note: it converts things ToTensor manually here since the ToTensor transform\n",
    "    assume it takes in images rather than arbitrary tensors.\n",
    "\n",
    "    dict_keys(['modality', 'scene', 'subject', 'action', 'idx', 'output', \n",
    "    'input_rgb', 'input_depth', 'input_lidar', 'input_mmwave'])\n",
    "    '''\n",
    "    ## get sequence lengths\n",
    "    # for t in batch:\n",
    "    #     print(t.keys())\n",
    "    #     print(a)\n",
    "    # #     # print(t[0].shape,t[1].shape)\n",
    "    all_actions = {'A01': 0., 'A02': 1., 'A03': 2., 'A04': 3., 'A05': 4., \n",
    "                'A06': 5., 'A07': 6., 'A08': 7., 'A09': 8., 'A10': 9.,\n",
    "                'A11': 10., 'A12': 11., 'A13': 12., 'A14': 13., 'A15': 14., \n",
    "                'A16': 15., 'A17': 16., 'A18': 17., 'A19': 18., 'A20': 19., \n",
    "                'A21': 20., 'A22': 21., 'A23': 22., 'A24': 23., 'A25': 24., \n",
    "                'A26': 25., 'A27': 26.}\n",
    "    # kpts = []\n",
    "    # [kpts.append(np.array(t['output'])) for t in batch]\n",
    "    # kpts = torch.FloatTensor(np.array(kpts))\n",
    "    labels = []\n",
    "    [labels.append(all_actions[t['action']]) for t in batch]\n",
    "    labels = torch.FloatTensor(labels)\n",
    "\n",
    "    # lengths = torch.tensor([t['input_mmwave'].shape[0] for t in batch ])\n",
    "\n",
    "    # rgb\n",
    "    rgb_data = np.array([(t['input_rgb']) for t in batch ])\n",
    "    rgb_data = torch.FloatTensor(rgb_data).permute(0,3,1,2)\n",
    "\n",
    "    # depth\n",
    "    depth_data = np.array([(t['input_depth']) for t in batch ])\n",
    "    depth_data = torch.FloatTensor(depth_data).permute(0,3,1,2)\n",
    "\n",
    "    # mmwave\n",
    "    ## padd\n",
    "    mmwave_data = [torch.Tensor(t['input_mmwave']) for t in batch ]\n",
    "    mmwave_data = torch.nn.utils.rnn.pad_sequence(mmwave_data)\n",
    "    ## compute mask\n",
    "    mmwave_data = mmwave_data.permute(1,0,2)\n",
    "\n",
    "    # lidar\n",
    "    ## padd\n",
    "    lidar_data = [torch.Tensor(t['input_lidar']) for t in batch ]\n",
    "    lidar_data = torch.nn.utils.rnn.pad_sequence(lidar_data)\n",
    "    ## compute mask\n",
    "    lidar_data = lidar_data.permute(1,0,2)\n",
    "\n",
    "    # # wifi-csi\n",
    "    # wifi_data = np.array([(t['input_wifi-csi']) for t in batch ])\n",
    "    # wifi_data = torch.FloatTensor(wifi_data)\n",
    "    \"要改\"\n",
    "    exist_list = [True, False, False, False]\n",
    "\n",
    "    return rgb_data, depth_data, lidar_data, mmwave_data, labels, exist_list\n",
    "    # return rgb_data, kpts, exist_list"
   ]
  },
  {
   "cell_type": "code",
   "execution_count": 8,
   "metadata": {},
   "outputs": [],
   "source": [
    "rng_generator = torch.manual_seed(config['init_rand_seed'])\n",
    "train_loader = make_dataloader(train_dataset, is_training=True, generator=rng_generator, **config['train_loader'], collate_fn = collate_fn_padd)\n",
    "val_loader = make_dataloader(val_dataset, is_training=False, generator=rng_generator, **config['val_loader'], collate_fn = collate_fn_padd)"
   ]
  },
  {
   "cell_type": "code",
   "execution_count": 9,
   "metadata": {},
   "outputs": [
    {
     "data": {
      "text/plain": [
       "single_model(\n",
       "  (feature_extractor): single_feature_extrator(\n",
       "    (lidar_extractor): lidar_feature_extractor(\n",
       "      (fc1): Sequential(\n",
       "        (0): Linear(in_features=3, out_features=32, bias=True)\n",
       "        (1): ReLU()\n",
       "        (2): Linear(in_features=32, out_features=32, bias=True)\n",
       "      )\n",
       "      (transformer1): TransformerBlock(\n",
       "        (fc1): Linear(in_features=32, out_features=512, bias=True)\n",
       "        (fc2): Linear(in_features=512, out_features=32, bias=True)\n",
       "        (fc_delta): Sequential(\n",
       "          (0): Linear(in_features=3, out_features=512, bias=True)\n",
       "          (1): ReLU()\n",
       "          (2): Linear(in_features=512, out_features=512, bias=True)\n",
       "        )\n",
       "        (fc_gamma): Sequential(\n",
       "          (0): Linear(in_features=512, out_features=512, bias=True)\n",
       "          (1): ReLU()\n",
       "          (2): Linear(in_features=512, out_features=512, bias=True)\n",
       "        )\n",
       "        (w_qs): Linear(in_features=512, out_features=512, bias=False)\n",
       "        (w_ks): Linear(in_features=512, out_features=512, bias=False)\n",
       "        (w_vs): Linear(in_features=512, out_features=512, bias=False)\n",
       "      )\n",
       "      (transition_downs): ModuleList(\n",
       "        (0): TransitionDown(\n",
       "          (sa): PointNetSetAbstraction(\n",
       "            (mlp_convs): ModuleList(\n",
       "              (0): Conv2d(35, 64, kernel_size=(1, 1), stride=(1, 1))\n",
       "              (1): Conv2d(64, 64, kernel_size=(1, 1), stride=(1, 1))\n",
       "            )\n",
       "            (mlp_bns): ModuleList(\n",
       "              (0-1): 2 x BatchNorm2d(64, eps=1e-05, momentum=0.1, affine=True, track_running_stats=True)\n",
       "            )\n",
       "          )\n",
       "        )\n",
       "      )\n",
       "      (transformers): ModuleList(\n",
       "        (0): TransformerBlock(\n",
       "          (fc1): Linear(in_features=64, out_features=512, bias=True)\n",
       "          (fc2): Linear(in_features=512, out_features=64, bias=True)\n",
       "          (fc_delta): Sequential(\n",
       "            (0): Linear(in_features=3, out_features=512, bias=True)\n",
       "            (1): ReLU()\n",
       "            (2): Linear(in_features=512, out_features=512, bias=True)\n",
       "          )\n",
       "          (fc_gamma): Sequential(\n",
       "            (0): Linear(in_features=512, out_features=512, bias=True)\n",
       "            (1): ReLU()\n",
       "            (2): Linear(in_features=512, out_features=512, bias=True)\n",
       "          )\n",
       "          (w_qs): Linear(in_features=512, out_features=512, bias=False)\n",
       "          (w_ks): Linear(in_features=512, out_features=512, bias=False)\n",
       "          (w_vs): Linear(in_features=512, out_features=512, bias=False)\n",
       "        )\n",
       "      )\n",
       "    )\n",
       "  )\n",
       "  (classification_head): classification_Head(\n",
       "    (norm): LayerNorm((512,), eps=1e-05, elementwise_affine=True)\n",
       "    (fc): Linear(in_features=512, out_features=27, bias=True)\n",
       "  )\n",
       ")"
      ]
     },
     "execution_count": 9,
     "metadata": {},
     "output_type": "execute_result"
    }
   ],
   "source": [
    "from baseline.baseline_model import single_model\n",
    "\n",
    "# model = model(['RGB'])\n",
    "# \"modality_list: list of string, choose from ['RGB', 'Depth', 'mmWave', 'Lidar', 'Wifi']\"\n",
    "rgb_model = single_model(['rgb'])\n",
    "# rgb_weights = torch.load('./baseline/baseline_weights/Single/RGB.pt')\n",
    "# print(rgb_weights.keys())\n",
    "# print(rgb_model)\n",
    "# print(rgb_model.state_dict().keys())\n",
    "rgb_model.load_state_dict(torch.load('./baseline/HAR_baseline_weights/Single/rgb_.pt'))\n",
    "rgb_model.cuda()\n",
    "\n",
    "depth_model = single_model(['depth'])\n",
    "depth_model.load_state_dict(torch.load('./baseline/HAR_baseline_weights/Single/depth_.pt'))\n",
    "depth_model.cuda()\n",
    "\n",
    "mmwave_model = single_model(['mmwave'])\n",
    "mmwave_model.load_state_dict(torch.load('./baseline/HAR_baseline_weights/Single/mmwave_.pt'))\n",
    "mmwave_model.cuda()\n",
    "\n",
    "lidar_model = single_model(['lidar'])\n",
    "lidar_model.load_state_dict(torch.load('./baseline/HAR_baseline_weights/Single/lidar_.pt'))\n",
    "lidar_model.cuda()"
   ]
  },
  {
   "cell_type": "code",
   "execution_count": 19,
   "metadata": {},
   "outputs": [],
   "source": [
    "def get_result(rgb_model,depth_model,mmwave_model,lidar_model, tensor_loader, device):\n",
    "    rgb_model.eval()\n",
    "    depth_model.eval()\n",
    "    mmwave_model.eval()\n",
    "    lidar_model.eval()\n",
    "    # test_mpjpe = 0\n",
    "    # test_pampjpe = 0\n",
    "    # test_mse = 0\n",
    "    # random.seed(config['modality_existances']['val_random_seed'])\n",
    "    for i, data in tqdm(enumerate(tensor_loader)):\n",
    "        # start_time = time.time()\n",
    "        rgb_data, depth_data, lidar_data, mmwave_data, label, exist_list = data\n",
    "        rgb_data = rgb_data.to(device)\n",
    "        depth_data = depth_data.to(device)\n",
    "        lidar_data = lidar_data.to(device)\n",
    "        mmwave_data = mmwave_data.to(device)\n",
    "        label.to(device)\n",
    "        labels = label.type(torch.FloatTensor)\n",
    "        # outputs = model(input_1, exist_list)\n",
    "        # outputs = outputs.type(torch.FloatTensor)\n",
    "        rgb_model.to('cuda')\n",
    "        rgb_outputs = rgb_model(rgb_data, [True, False, False, False, False])\n",
    "        rgb_model.to('cpu')\n",
    "        del rgb_data\n",
    "        depth_model.to('cuda')\n",
    "        depth_outputs = depth_model(depth_data, [False, True, False, False, False])\n",
    "        depth_model.to('cpu')\n",
    "        del depth_data\n",
    "        mmwave_model.to('cuda')\n",
    "        mmwave_outputs = mmwave_model(mmwave_data, [False, False, True, False, False])\n",
    "        mmwave_model.to('cpu')\n",
    "        del mmwave_data\n",
    "        lidar_model.to('cuda')\n",
    "        lidar_outputs = lidar_model(lidar_data, [False, False, False, True, False])\n",
    "        lidar_model.to('cpu')\n",
    "        del lidar_data\n",
    "        \n",
    "        # rgb_outputs = rgb_outputs.to(device)\n",
    "        rgb_outputs = rgb_outputs.detach().cpu().numpy()\n",
    "        depth_outputs = depth_outputs.detach().cpu().numpy()\n",
    "        mmwave_outputs = mmwave_outputs.detach().cpu().numpy()\n",
    "        lidar_outputs = lidar_outputs.detach().cpu().numpy()\n",
    "        labels = labels.detach().cpu().numpy()\n",
    "        \n",
    "        if i == 0:\n",
    "            rgb_result = rgb_outputs\n",
    "            depth_result = depth_outputs\n",
    "            mmwave_result = mmwave_outputs\n",
    "            lidar_result = lidar_outputs\n",
    "            all_label = labels\n",
    "            print(rgb_outputs.shape, depth_outputs.shape, mmwave_outputs.shape, lidar_outputs.shape, labels.shape)\n",
    "        else:\n",
    "            rgb_result = np.vstack((rgb_result, rgb_outputs))\n",
    "            depth_result = np.vstack((depth_result, depth_outputs))\n",
    "            mmwave_result = np.vstack((mmwave_result, mmwave_outputs))\n",
    "            lidar_result = np.vstack((lidar_result, lidar_outputs))\n",
    "            all_label = np.hstack((all_label, labels))\n",
    "            if i ==1:\n",
    "                print(rgb_result.shape, depth_result.shape, mmwave_result.shape, lidar_result.shape, all_label.shape)\n",
    "\n",
    "    np.save('./baseline_results/rgb_result.npy', rgb_result)\n",
    "    np.save('./baseline_results/depth_result.npy', depth_result)\n",
    "    np.save('./baseline_results/mmwave_result.npy', mmwave_result)\n",
    "    np.save('./baseline_results/lidar_result.npy', lidar_result)\n",
    "    np.save('./baseline_results/all_label.npy', all_label)\n",
    "\n",
    "    return"
   ]
  },
  {
   "cell_type": "code",
   "execution_count": 20,
   "metadata": {},
   "outputs": [
    {
     "name": "stderr",
     "output_type": "stream",
     "text": [
      "1it [00:01,  1.29s/it]"
     ]
    },
    {
     "name": "stdout",
     "output_type": "stream",
     "text": [
      "(8, 27) (8, 27) (8, 27) (8, 27) (8,)\n"
     ]
    },
    {
     "name": "stderr",
     "output_type": "stream",
     "text": [
      "2it [00:01,  1.09it/s]"
     ]
    },
    {
     "name": "stdout",
     "output_type": "stream",
     "text": [
      "(16, 27) (16, 27) (16, 27) (16, 27) (16,)\n"
     ]
    },
    {
     "name": "stderr",
     "output_type": "stream",
     "text": [
      "6805it [1:06:12,  1.71it/s]\n"
     ]
    }
   ],
   "source": [
    "device = torch.device(\"cuda\" if torch.cuda.is_available() else \"cpu\")\n",
    "get_result(rgb_model,depth_model,mmwave_model,lidar_model, val_loader, device)"
   ]
  },
  {
   "cell_type": "code",
   "execution_count": 21,
   "metadata": {},
   "outputs": [],
   "source": [
    "rgb_result=np.load('./baseline_results/rgb_result.npy')\n",
    "depth_result=np.load('./baseline_results/depth_result.npy')\n",
    "mmwave_result=np.load('./baseline_results/mmwave_result.npy')\n",
    "lidar_result=np.load('./baseline_results/lidar_result.npy')\n",
    "# wifi_result=np.load('./baseline_results/wifi_result.npy')\n",
    "all_label=np.load('./baseline_results/all_label.npy')"
   ]
  },
  {
   "cell_type": "code",
   "execution_count": 29,
   "metadata": {},
   "outputs": [
    {
     "name": "stdout",
     "output_type": "stream",
     "text": [
      "rgb accuracy: 0.25265923245090294\n"
     ]
    }
   ],
   "source": [
    "predict_y = np.argmax(rgb_result,axis=1)\n",
    "epoch_accuracy = (predict_y == all_label).sum() / all_label.size\n",
    "print('rgb accuracy:', epoch_accuracy)"
   ]
  },
  {
   "cell_type": "code",
   "execution_count": 30,
   "metadata": {},
   "outputs": [
    {
     "name": "stdout",
     "output_type": "stream",
     "text": [
      "depth accuracy: 0.4992192236327228\n"
     ]
    }
   ],
   "source": [
    "predict_y = np.argmax(depth_result,axis=1)\n",
    "epoch_accuracy = (predict_y == all_label).sum() / all_label.size\n",
    "print('depth accuracy:', epoch_accuracy)"
   ]
  },
  {
   "cell_type": "code",
   "execution_count": 31,
   "metadata": {},
   "outputs": [
    {
     "name": "stdout",
     "output_type": "stream",
     "text": [
      "mmwave accuracy: 0.8483089302445208\n"
     ]
    }
   ],
   "source": [
    "predict_y = np.argmax(mmwave_result,axis=1)\n",
    "epoch_accuracy = (predict_y == all_label).sum() / all_label.size\n",
    "print('mmwave accuracy:', epoch_accuracy)"
   ]
  },
  {
   "cell_type": "code",
   "execution_count": 32,
   "metadata": {},
   "outputs": [
    {
     "name": "stdout",
     "output_type": "stream",
     "text": [
      "lidar accuracy: 0.6383260154685577\n"
     ]
    }
   ],
   "source": [
    "predict_y = np.argmax(lidar_result,axis=1)\n",
    "epoch_accuracy = (predict_y == all_label).sum() / all_label.size\n",
    "print('lidar accuracy:', epoch_accuracy)"
   ]
  },
  {
   "cell_type": "code",
   "execution_count": 33,
   "metadata": {},
   "outputs": [
    {
     "name": "stdout",
     "output_type": "stream",
     "text": [
      "ID accuracy: 0.4762184704131685\n"
     ]
    }
   ],
   "source": [
    "ID_result = (rgb_result+depth_result)/2\n",
    "predict_y = np.argmax(ID_result,axis=1)\n",
    "epoch_accuracy = (predict_y == all_label).sum() / all_label.size\n",
    "print('ID accuracy:', epoch_accuracy)"
   ]
  },
  {
   "cell_type": "code",
   "execution_count": 34,
   "metadata": {},
   "outputs": [
    {
     "name": "stdout",
     "output_type": "stream",
     "text": [
      "IL accuracy: 0.47537339481564495\n"
     ]
    }
   ],
   "source": [
    "IL_result = (rgb_result+lidar_result)/2\n",
    "predict_y = np.argmax(IL_result,axis=1)\n",
    "epoch_accuracy = (predict_y == all_label).sum() / all_label.size\n",
    "print('IL accuracy:', epoch_accuracy)"
   ]
  },
  {
   "cell_type": "code",
   "execution_count": 35,
   "metadata": {},
   "outputs": [
    {
     "name": "stdout",
     "output_type": "stream",
     "text": [
      "IR accuracy: 0.7642055370822847\n"
     ]
    }
   ],
   "source": [
    "IR_result = (rgb_result+mmwave_result)/2\n",
    "predict_y = np.argmax(IR_result,axis=1)\n",
    "epoch_accuracy = (predict_y == all_label).sum() / all_label.size\n",
    "print('IR accuracy:', epoch_accuracy)"
   ]
  },
  {
   "cell_type": "code",
   "execution_count": 36,
   "metadata": {},
   "outputs": [
    {
     "name": "stdout",
     "output_type": "stream",
     "text": [
      "DL accuracy: 0.6054415519997061\n"
     ]
    }
   ],
   "source": [
    "DL_result = (depth_result+lidar_result)/2\n",
    "predict_y = np.argmax(DL_result,axis=1)\n",
    "epoch_accuracy = (predict_y == all_label).sum() / all_label.size\n",
    "print('DL accuracy:', epoch_accuracy)"
   ]
  },
  {
   "cell_type": "code",
   "execution_count": 37,
   "metadata": {},
   "outputs": [
    {
     "name": "stdout",
     "output_type": "stream",
     "text": [
      "DR accuracy: 0.7990373486671688\n"
     ]
    }
   ],
   "source": [
    "DR_result = (depth_result+mmwave_result)/2\n",
    "predict_y = np.argmax(DR_result,axis=1)\n",
    "epoch_accuracy = (predict_y == all_label).sum() / all_label.size\n",
    "print('DR accuracy:', epoch_accuracy)"
   ]
  },
  {
   "cell_type": "code",
   "execution_count": 39,
   "metadata": {},
   "outputs": [
    {
     "name": "stdout",
     "output_type": "stream",
     "text": [
      "LR accuracy: 0.8978744511601419\n"
     ]
    }
   ],
   "source": [
    "LR_result = (lidar_result+mmwave_result)/2\n",
    "predict_y = np.argmax(LR_result,axis=1)\n",
    "epoch_accuracy = (predict_y == all_label).sum() / all_label.size\n",
    "print('LR accuracy:', epoch_accuracy)"
   ]
  },
  {
   "cell_type": "code",
   "execution_count": 40,
   "metadata": {},
   "outputs": [
    {
     "name": "stdout",
     "output_type": "stream",
     "text": [
      "IDL accuracy: 0.5623059541087209\n"
     ]
    }
   ],
   "source": [
    "IDL_result = (rgb_result+depth_result+lidar_result)/3\n",
    "predict_y = np.argmax(IDL_result,axis=1)\n",
    "epoch_accuracy = (predict_y == all_label).sum() / all_label.size\n",
    "print('IDL accuracy:', epoch_accuracy)"
   ]
  },
  {
   "cell_type": "code",
   "execution_count": 41,
   "metadata": {},
   "outputs": [
    {
     "name": "stdout",
     "output_type": "stream",
     "text": [
      "IDR accuracy: 0.7159811143975162\n"
     ]
    }
   ],
   "source": [
    "IDR_result = (rgb_result+depth_result+mmwave_result)/3\n",
    "predict_y = np.argmax(IDR_result,axis=1)\n",
    "epoch_accuracy = (predict_y == all_label).sum() / all_label.size\n",
    "print('IDR accuracy:', epoch_accuracy)"
   ]
  },
  {
   "cell_type": "code",
   "execution_count": 42,
   "metadata": {},
   "outputs": [
    {
     "name": "stdout",
     "output_type": "stream",
     "text": [
      "ILR accuracy: 0.8233975713262176\n"
     ]
    }
   ],
   "source": [
    "ILR_result = (rgb_result+lidar_result+mmwave_result)/3\n",
    "predict_y = np.argmax(ILR_result,axis=1)\n",
    "epoch_accuracy = (predict_y == all_label).sum() / all_label.size\n",
    "print('ILR accuracy:', epoch_accuracy)"
   ]
  },
  {
   "cell_type": "code",
   "execution_count": 44,
   "metadata": {},
   "outputs": [
    {
     "name": "stdout",
     "output_type": "stream",
     "text": [
      "DLR accuracy: 0.8345488949718002\n"
     ]
    }
   ],
   "source": [
    "DLR_result = (depth_result+lidar_result+mmwave_result)/3\n",
    "predict_y = np.argmax(DLR_result,axis=1)\n",
    "epoch_accuracy = (predict_y == all_label).sum() / all_label.size\n",
    "print('DLR accuracy:', epoch_accuracy)"
   ]
  },
  {
   "cell_type": "code",
   "execution_count": 45,
   "metadata": {},
   "outputs": [
    {
     "name": "stdout",
     "output_type": "stream",
     "text": [
      "IDLR accuracy: 0.7650506126798082\n"
     ]
    }
   ],
   "source": [
    "IDLR_result = (rgb_result+depth_result+lidar_result+mmwave_result)/4\n",
    "predict_y = np.argmax(IDLR_result,axis=1)\n",
    "epoch_accuracy = (predict_y == all_label).sum() / all_label.size\n",
    "print('IDLR accuracy:', epoch_accuracy)"
   ]
  },
  {
   "cell_type": "code",
   "execution_count": null,
   "metadata": {},
   "outputs": [],
   "source": []
  }
 ],
 "metadata": {
  "kernelspec": {
   "display_name": "pytorch",
   "language": "python",
   "name": "python3"
  },
  "language_info": {
   "codemirror_mode": {
    "name": "ipython",
    "version": 3
   },
   "file_extension": ".py",
   "mimetype": "text/x-python",
   "name": "python",
   "nbconvert_exporter": "python",
   "pygments_lexer": "ipython3",
   "version": "3.9.7"
  }
 },
 "nbformat": 4,
 "nbformat_minor": 2
}

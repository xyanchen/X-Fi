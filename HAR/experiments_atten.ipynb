{
 "cells": [
  {
   "cell_type": "code",
   "execution_count": 1,
   "metadata": {},
   "outputs": [],
   "source": [
    "import numpy as np\n",
    "import glob\n",
    "import scipy.io as sio\n",
    "import torch\n",
    "from torch import nn\n",
    "import random\n",
    "import csv\n",
    "import os\n",
    "from tqdm import tqdm\n",
    "from torch.utils.data import Dataset, DataLoader\n",
    "import yaml\n",
    "from evaluate import error\n",
    "import time\n",
    "import re\n",
    "from syn_DI_dataset import make_dataset, make_dataloader\n",
    "import matplotlib.pyplot as plt"
   ]
  },
  {
   "cell_type": "code",
   "execution_count": 2,
   "metadata": {},
   "outputs": [
    {
     "name": "stdout",
     "output_type": "stream",
     "text": [
      "['rgb', 'depth', 'lidar', 'mmwave']\n",
      "S02 ['A01', 'A02', 'A03', 'A04', 'A06', 'A08', 'A09', 'A11', 'A12', 'A13', 'A14', 'A15', 'A16', 'A18', 'A19', 'A20', 'A21', 'A22', 'A23', 'A24', 'A26']\n",
      "S03 ['A01', 'A02', 'A03', 'A04', 'A05', 'A06', 'A07', 'A08', 'A09', 'A10', 'A11', 'A12', 'A15', 'A16', 'A17', 'A18', 'A21', 'A22', 'A23', 'A24', 'A25', 'A26', 'A27']\n",
      "S05 ['A01', 'A02', 'A03', 'A04', 'A05', 'A06', 'A07', 'A09', 'A10', 'A11', 'A12', 'A13', 'A14', 'A15', 'A16', 'A19', 'A20', 'A21', 'A24', 'A25']\n",
      "S06 ['A01', 'A03', 'A04', 'A06', 'A07', 'A08', 'A10', 'A11', 'A12', 'A13', 'A14', 'A15', 'A18', 'A21', 'A22', 'A23', 'A24', 'A25', 'A26', 'A27']\n",
      "S08 ['A01', 'A02', 'A04', 'A05', 'A06', 'A07', 'A08', 'A09', 'A10', 'A11', 'A13', 'A14', 'A17', 'A19', 'A20', 'A21', 'A22', 'A23', 'A24', 'A25', 'A26', 'A27']\n",
      "S09 ['A01', 'A07', 'A08', 'A10', 'A11', 'A12', 'A13', 'A14', 'A15', 'A17', 'A18', 'A20', 'A21', 'A24', 'A25', 'A27']\n",
      "S11 ['A01', 'A02', 'A03', 'A05', 'A06', 'A08', 'A10', 'A11', 'A12', 'A13', 'A16', 'A17', 'A18', 'A19', 'A21', 'A23', 'A24', 'A25', 'A26', 'A27']\n",
      "S12 ['A01', 'A04', 'A05', 'A06', 'A07', 'A08', 'A09', 'A10', 'A11', 'A12', 'A14', 'A15', 'A17', 'A18', 'A19', 'A20', 'A21', 'A22', 'A23', 'A24', 'A25', 'A26', 'A27']\n",
      "S13 ['A01', 'A03', 'A04', 'A05', 'A06', 'A07', 'A08', 'A09', 'A10', 'A11', 'A14', 'A17', 'A18', 'A19', 'A20', 'A21', 'A22', 'A23', 'A25', 'A26', 'A27']\n",
      "S14 ['A01', 'A02', 'A03', 'A04', 'A05', 'A06', 'A07', 'A08', 'A09', 'A10', 'A11', 'A13', 'A15', 'A16', 'A17', 'A18', 'A19', 'A20', 'A21', 'A22', 'A23', 'A24', 'A25', 'A26']\n",
      "S15 ['A01', 'A02', 'A03', 'A04', 'A05', 'A07', 'A09', 'A10', 'A11', 'A12', 'A13', 'A14', 'A15', 'A16', 'A17', 'A18', 'A19', 'A20', 'A21', 'A22', 'A23', 'A24', 'A25', 'A26', 'A27']\n",
      "S16 ['A01', 'A04', 'A05', 'A06', 'A08', 'A09', 'A10', 'A12', 'A13', 'A14', 'A15', 'A16', 'A17', 'A19', 'A20', 'A23', 'A24', 'A27']\n",
      "S17 ['A01', 'A02', 'A03', 'A04', 'A05', 'A08', 'A09', 'A10', 'A11', 'A13', 'A16', 'A18', 'A19', 'A20', 'A21', 'A22', 'A23', 'A24', 'A25', 'A26', 'A27']\n",
      "S18 ['A01', 'A02', 'A03', 'A04', 'A05', 'A06', 'A07', 'A08', 'A09', 'A10', 'A11', 'A13', 'A14', 'A15', 'A16', 'A17', 'A18', 'A20', 'A21', 'A22', 'A23', 'A24', 'A26']\n",
      "S19 ['A01', 'A02', 'A04', 'A05', 'A06', 'A07', 'A08', 'A09', 'A10', 'A11', 'A12', 'A13', 'A15', 'A16', 'A17', 'A18', 'A19', 'A20', 'A21', 'A22', 'A24', 'A25', 'A26', 'A27']\n",
      "S21 ['A01', 'A02', 'A03', 'A04', 'A05', 'A06', 'A08', 'A10', 'A11', 'A12', 'A13', 'A14', 'A15', 'A16', 'A17', 'A19', 'A20', 'A24', 'A25', 'A26', 'A27']\n",
      "S23 ['A01', 'A02', 'A04', 'A05', 'A06', 'A07', 'A08', 'A09', 'A11', 'A12', 'A14', 'A16', 'A17', 'A19', 'A21', 'A22', 'A23', 'A24', 'A25', 'A26', 'A27']\n",
      "S25 ['A01', 'A02', 'A03', 'A05', 'A06', 'A07', 'A08', 'A09', 'A10', 'A11', 'A12', 'A13', 'A14', 'A16', 'A17', 'A18', 'A20', 'A21', 'A22', 'A23', 'A24', 'A25', 'A26', 'A27']\n",
      "S26 ['A01', 'A02', 'A03', 'A04', 'A05', 'A06', 'A09', 'A10', 'A13', 'A15', 'A16', 'A17', 'A18', 'A19', 'A20', 'A21', 'A22', 'A23', 'A25', 'A27']\n",
      "S27 ['A01', 'A02', 'A03', 'A04', 'A05', 'A06', 'A07', 'A08', 'A10', 'A11', 'A12', 'A13', 'A16', 'A17', 'A18', 'A19', 'A20', 'A22', 'A23', 'A25']\n",
      "S28 ['A01', 'A02', 'A03', 'A04', 'A05', 'A07', 'A08', 'A09', 'A11', 'A14', 'A15', 'A17', 'A18', 'A19', 'A20', 'A21', 'A22', 'A23', 'A25', 'A26', 'A27']\n",
      "S29 ['A01', 'A02', 'A03', 'A04', 'A05', 'A06', 'A07', 'A09', 'A12', 'A13', 'A14', 'A17', 'A18', 'A19', 'A20', 'A22', 'A23', 'A24', 'A25', 'A27']\n",
      "S30 ['A01', 'A02', 'A03', 'A04', 'A05', 'A06', 'A07', 'A08', 'A09', 'A12', 'A13', 'A14', 'A15', 'A16', 'A17', 'A18', 'A19', 'A21', 'A22', 'A24', 'A25', 'A26', 'A27']\n",
      "S31 ['A01', 'A02', 'A03', 'A04', 'A07', 'A08', 'A09', 'A10', 'A11', 'A12', 'A13', 'A14', 'A15', 'A16', 'A18', 'A19', 'A20', 'A21', 'A22', 'A23', 'A24', 'A25', 'A26', 'A27']\n",
      "S32 ['A01', 'A02', 'A04', 'A05', 'A06', 'A07', 'A08', 'A09', 'A10', 'A11', 'A12', 'A13', 'A14', 'A15', 'A16', 'A19', 'A22', 'A25', 'A26', 'A27']\n",
      "S33 ['A01', 'A02', 'A03', 'A04', 'A05', 'A06', 'A07', 'A08', 'A09', 'A10', 'A11', 'A12', 'A13', 'A14', 'A15', 'A16', 'A18', 'A19', 'A20', 'A21', 'A22', 'A23', 'A24', 'A25', 'A26']\n",
      "S34 ['A01', 'A02', 'A03', 'A05', 'A06', 'A07', 'A08', 'A09', 'A13', 'A14', 'A15', 'A16', 'A17', 'A18', 'A19', 'A20', 'A21', 'A22', 'A23', 'A24', 'A25', 'A26', 'A27']\n",
      "S35 ['A01', 'A02', 'A03', 'A04', 'A05', 'A06', 'A07', 'A08', 'A09', 'A10', 'A11', 'A12', 'A13', 'A15', 'A16', 'A17', 'A18', 'A21', 'A23', 'A24', 'A26', 'A27']\n",
      "S36 ['A01', 'A02', 'A04', 'A05', 'A09', 'A10', 'A11', 'A12', 'A14', 'A15', 'A16', 'A17', 'A18', 'A19', 'A20', 'A23', 'A24', 'A26', 'A27']\n",
      "S37 ['A01', 'A02', 'A03', 'A04', 'A05', 'A06', 'A07', 'A08', 'A09', 'A10', 'A12', 'A13', 'A14', 'A15', 'A16', 'A17', 'A18', 'A19', 'A20', 'A21', 'A22', 'A24', 'A25', 'A26', 'A27']\n",
      "S38 ['A01', 'A03', 'A04', 'A05', 'A07', 'A08', 'A09', 'A10', 'A11', 'A12', 'A13', 'A14', 'A15', 'A16', 'A19', 'A20', 'A21', 'A22', 'A23', 'A24', 'A25', 'A26', 'A27']\n",
      "S40 ['A01', 'A02', 'A03', 'A04', 'A05', 'A06', 'A07', 'A08', 'A09', 'A11', 'A12', 'A13', 'A14', 'A15', 'A16', 'A17', 'A18', 'A19', 'A20', 'A21', 'A22', 'A23', 'A24', 'A25', 'A27']\n",
      "S04 ['A02', 'A03', 'A06', 'A07', 'A10', 'A11', 'A12', 'A14', 'A15', 'A16', 'A17', 'A18', 'A19', 'A20', 'A21', 'A22', 'A23', 'A24', 'A26', 'A27']\n",
      "S07 ['A02', 'A03', 'A04', 'A05', 'A06', 'A07', 'A08', 'A09', 'A10', 'A11', 'A12', 'A14', 'A15', 'A16', 'A17', 'A19', 'A20', 'A21', 'A22', 'A23', 'A24', 'A25', 'A26']\n",
      "S20 ['A02', 'A03', 'A05', 'A06', 'A07', 'A10', 'A11', 'A12', 'A13', 'A14', 'A15', 'A16', 'A17', 'A18', 'A21', 'A22', 'A23', 'A25', 'A26']\n",
      "S22 ['A02', 'A03', 'A05', 'A06', 'A07', 'A08', 'A10', 'A11', 'A12', 'A13', 'A14', 'A15', 'A16', 'A17', 'A18', 'A19', 'A20', 'A21', 'A22', 'A23', 'A24', 'A25', 'A26', 'A27']\n",
      "S24 ['A02', 'A03', 'A04', 'A06', 'A07', 'A09', 'A10', 'A11', 'A12', 'A13', 'A14', 'A15', 'A16', 'A17', 'A18', 'A19', 'A20', 'A21', 'A22', 'A23', 'A24', 'A27']\n",
      "S39 ['A02', 'A03', 'A04', 'A05', 'A06', 'A07', 'A08', 'A09', 'A11', 'A12', 'A13', 'A14', 'A15', 'A16', 'A17', 'A18', 'A20', 'A22', 'A23', 'A25', 'A26', 'A27']\n",
      "S01 ['A03', 'A06', 'A07', 'A08', 'A09', 'A10', 'A12', 'A13', 'A14', 'A15', 'A17', 'A18', 'A19', 'A20', 'A21', 'A22', 'A24', 'A26', 'A27']\n",
      "S10 ['A03', 'A04', 'A08', 'A09', 'A10', 'A12', 'A13', 'A14', 'A15', 'A16', 'A17', 'A18', 'A19', 'A20', 'A23', 'A25', 'A26', 'A27']\n",
      "/n\n",
      "['rgb', 'depth', 'lidar', 'mmwave']\n",
      "S01 ['A01', 'A02', 'A04', 'A05', 'A11', 'A16', 'A23', 'A25']\n",
      "S04 ['A01', 'A04', 'A05', 'A08', 'A09', 'A13', 'A25']\n",
      "S07 ['A01', 'A13', 'A18', 'A27']\n",
      "S10 ['A01', 'A02', 'A05', 'A06', 'A07', 'A11', 'A21', 'A22', 'A24']\n",
      "S20 ['A01', 'A04', 'A08', 'A09', 'A19', 'A20', 'A24', 'A27']\n",
      "S22 ['A01', 'A04', 'A09']\n",
      "S24 ['A01', 'A05', 'A08', 'A25', 'A26']\n",
      "S39 ['A01', 'A10', 'A19', 'A21', 'A24']\n",
      "S06 ['A02', 'A05', 'A09', 'A16', 'A17', 'A19', 'A20']\n",
      "S09 ['A02', 'A03', 'A04', 'A05', 'A06', 'A09', 'A16', 'A19', 'A22', 'A23', 'A26']\n",
      "S12 ['A02', 'A03', 'A13', 'A16']\n",
      "S13 ['A02', 'A12', 'A13', 'A15', 'A16', 'A24']\n",
      "S16 ['A02', 'A03', 'A07', 'A11', 'A18', 'A21', 'A22', 'A25', 'A26']\n",
      "S38 ['A02', 'A06', 'A17', 'A18']\n",
      "S08 ['A03', 'A12', 'A15', 'A16', 'A18']\n",
      "S19 ['A03', 'A14', 'A23']\n",
      "S23 ['A03', 'A10', 'A13', 'A15', 'A18', 'A20']\n",
      "S32 ['A03', 'A17', 'A18', 'A20', 'A21', 'A23', 'A24']\n",
      "S36 ['A03', 'A06', 'A07', 'A08', 'A13', 'A21', 'A22', 'A25']\n",
      "S11 ['A04', 'A07', 'A09', 'A14', 'A15', 'A20', 'A22']\n",
      "S25 ['A04', 'A15', 'A19']\n",
      "S34 ['A04', 'A10', 'A11', 'A12']\n",
      "S02 ['A05', 'A07', 'A10', 'A17', 'A25', 'A27']\n",
      "S31 ['A05', 'A06', 'A17']\n",
      "S15 ['A06', 'A08']\n",
      "S17 ['A06', 'A07', 'A12', 'A14', 'A15', 'A17']\n",
      "S28 ['A06', 'A10', 'A12', 'A13', 'A16', 'A24']\n",
      "S21 ['A07', 'A09', 'A18', 'A21', 'A22', 'A23']\n",
      "S26 ['A07', 'A08', 'A11', 'A12', 'A14', 'A24', 'A26']\n",
      "S05 ['A08', 'A17', 'A18', 'A22', 'A23', 'A26', 'A27']\n",
      "S29 ['A08', 'A10', 'A11', 'A15', 'A16', 'A21', 'A26']\n",
      "S27 ['A09', 'A14', 'A15', 'A21', 'A24', 'A26', 'A27']\n",
      "S30 ['A10', 'A11', 'A20', 'A23']\n",
      "S40 ['A10', 'A26']\n",
      "S37 ['A11', 'A23']\n",
      "S14 ['A12', 'A14', 'A27']\n",
      "S18 ['A12', 'A19', 'A25', 'A27']\n",
      "S03 ['A13', 'A14', 'A19', 'A20']\n",
      "S35 ['A14', 'A19', 'A20', 'A22', 'A25']\n",
      "S33 ['A17', 'A27']\n"
     ]
    }
   ],
   "source": [
    "dataset_root = 'd:\\Data\\My_MMFi_Data\\MMFi_Dataset'\n",
    "# xian zai shi yong de shi Radar_Fused\n",
    "with open('config.yaml', 'r') as fd:\n",
    "    config = yaml.load(fd, Loader=yaml.FullLoader)\n",
    "\n",
    "train_dataset, val_dataset = make_dataset(dataset_root, config)"
   ]
  },
  {
   "cell_type": "code",
   "execution_count": 3,
   "metadata": {},
   "outputs": [],
   "source": [
    "def generate_none_empth_modality_list():\n",
    "    modality_list = random.choices(\n",
    "        [True, False],\n",
    "        k= 5,\n",
    "        weights=[80, 20]\n",
    "    )\n",
    "    if sum(modality_list) == 0:\n",
    "        modality_list = generate_none_empth_modality_list()\n",
    "        return modality_list\n",
    "    else:\n",
    "        return modality_list\n",
    "\n",
    "\n",
    "def collate_fn_padd(batch):\n",
    "    '''\n",
    "    Padds batch of variable length\n",
    "\n",
    "    dict_keys(['modality', 'scene', 'subject', 'action', 'idx', 'output', \n",
    "    'input_rgb', 'input_depth', 'input_lidar', 'input_mmwave'])\n",
    "    '''\n",
    "    ## get sequence lengths\n",
    "    # for t in batch:\n",
    "    #     print(t.keys())\n",
    "    #     print(a)\n",
    "    # #     # print(t[0].shape,t[1].shape)\n",
    "    all_actions = {'A01': 0., 'A02': 1., 'A03': 2., 'A04': 3., 'A05': 4., \n",
    "                   'A06': 5., 'A07': 6., 'A08': 7., 'A09': 8., 'A10': 9.,\n",
    "                   'A11': 10., 'A12': 11., 'A13': 12., 'A14': 13., 'A15': 14., \n",
    "                   'A16': 15., 'A17': 16., 'A18': 17., 'A19': 18., 'A20': 19., \n",
    "                   'A21': 20., 'A22': 21., 'A23': 22., 'A24': 23., 'A25': 24., \n",
    "                   'A26': 25., 'A27': 26.}\n",
    "    # kpts = []\n",
    "    # [kpts.append(np.array(t['output'])) for t in batch]\n",
    "    # kpts = torch.FloatTensor(np.array(kpts))\n",
    "    labels = []\n",
    "    [labels.append(all_actions[t['action']]) for t in batch]\n",
    "    labels = torch.FloatTensor(labels)\n",
    "\n",
    "    lengths = torch.tensor([t['input_mmwave'].shape[0] for t in batch ])\n",
    "\n",
    "    # rgb\n",
    "    rgb_data = np.array([(t['input_rgb']) for t in batch ])\n",
    "    rgb_data = torch.FloatTensor(rgb_data).permute(0,3,1,2)\n",
    "\n",
    "    # depth\n",
    "    depth_data = np.array([(t['input_depth']) for t in batch ])\n",
    "    depth_data = torch.FloatTensor(depth_data).permute(0,3,1,2)\n",
    "\n",
    "    # mmwave\n",
    "    ## padd\n",
    "    mmwave_data = [torch.Tensor(t['input_mmwave']) for t in batch ]\n",
    "    mmwave_data = torch.nn.utils.rnn.pad_sequence(mmwave_data)\n",
    "    ## compute mask\n",
    "    mmwave_data = mmwave_data.permute(1,0,2)\n",
    "\n",
    "    # lidar\n",
    "    ## padd\n",
    "    lidar_data = [torch.Tensor(t['input_lidar']) for t in batch ]\n",
    "    lidar_data = torch.nn.utils.rnn.pad_sequence(lidar_data)\n",
    "    ## compute mask\n",
    "    lidar_data = lidar_data.permute(1,0,2)\n",
    "\n",
    "    # wifi-csi\n",
    "    # wifi_data = np.array([(t['input_wifi-csi']) for t in batch ])\n",
    "    # wifi_data = torch.FloatTensor(wifi_data)\n",
    "    \n",
    "    modality_list = ['False', 'False', 'False', 'False', 'True']\n",
    "\n",
    "    return rgb_data, depth_data, lidar_data, mmwave_data, labels, modality_list"
   ]
  },
  {
   "cell_type": "code",
   "execution_count": 4,
   "metadata": {},
   "outputs": [],
   "source": [
    "rng_generator = torch.manual_seed(config['init_rand_seed'])\n",
    "train_loader = make_dataloader(train_dataset, is_training=True, generator=rng_generator, **config['loader'], collate_fn = collate_fn_padd)\n",
    "val_loader = make_dataloader(val_dataset, is_training=False, generator=rng_generator, **config['loader'], collate_fn = collate_fn_padd)"
   ]
  },
  {
   "cell_type": "code",
   "execution_count": 5,
   "metadata": {},
   "outputs": [
    {
     "data": {
      "text/plain": [
       "modality_invariant_model(\n",
       "  (feature_extractor): feature_extrator(\n",
       "    (rgb_extractor): rgb_feature_extractor(\n",
       "      (part): Sequential(\n",
       "        (0): Sequential(\n",
       "          (0): Conv2d(3, 3, kernel_size=(14, 14), stride=(2, 2))\n",
       "          (1): ReLU()\n",
       "          (2): Conv2d(3, 3, kernel_size=(5, 56), stride=(1, 1))\n",
       "          (3): ReLU()\n",
       "          (4): Conv2d(3, 3, kernel_size=(5, 23), stride=(1, 1))\n",
       "          (5): ReLU()\n",
       "          (6): Conv2d(3, 16, kernel_size=(3, 14), stride=(1, 1))\n",
       "        )\n",
       "        (1): Conv2d(16, 64, kernel_size=(7, 7), stride=(2, 2), padding=(3, 3), bias=False)\n",
       "        (2): BatchNorm2d(64, eps=1e-05, momentum=0.1, affine=True, track_running_stats=True)\n",
       "        (3): ReLU()\n",
       "        (4): MaxPool2d(kernel_size=3, stride=2, padding=1, dilation=1, ceil_mode=False)\n",
       "        (5): Sequential(\n",
       "          (0): Block(\n",
       "            (conv1): Conv2d(64, 64, kernel_size=(3, 3), stride=(1, 1), padding=(1, 1), bias=False)\n",
       "            (batch_norm1): BatchNorm2d(64, eps=1e-05, momentum=0.1, affine=True, track_running_stats=True)\n",
       "            (conv2): Conv2d(64, 64, kernel_size=(3, 3), stride=(1, 1), padding=(1, 1), bias=False)\n",
       "            (batch_norm2): BatchNorm2d(64, eps=1e-05, momentum=0.1, affine=True, track_running_stats=True)\n",
       "            (relu): ReLU()\n",
       "          )\n",
       "          (1): Block(\n",
       "            (conv1): Conv2d(64, 64, kernel_size=(3, 3), stride=(1, 1), padding=(1, 1), bias=False)\n",
       "            (batch_norm1): BatchNorm2d(64, eps=1e-05, momentum=0.1, affine=True, track_running_stats=True)\n",
       "            (conv2): Conv2d(64, 64, kernel_size=(3, 3), stride=(1, 1), padding=(1, 1), bias=False)\n",
       "            (batch_norm2): BatchNorm2d(64, eps=1e-05, momentum=0.1, affine=True, track_running_stats=True)\n",
       "            (relu): ReLU()\n",
       "          )\n",
       "        )\n",
       "        (6): Sequential(\n",
       "          (0): Block(\n",
       "            (conv1): Conv2d(64, 128, kernel_size=(3, 3), stride=(1, 1), padding=(1, 1), bias=False)\n",
       "            (batch_norm1): BatchNorm2d(128, eps=1e-05, momentum=0.1, affine=True, track_running_stats=True)\n",
       "            (conv2): Conv2d(128, 128, kernel_size=(3, 3), stride=(2, 2), padding=(1, 1), bias=False)\n",
       "            (batch_norm2): BatchNorm2d(128, eps=1e-05, momentum=0.1, affine=True, track_running_stats=True)\n",
       "            (i_downsample): Sequential(\n",
       "              (0): Conv2d(64, 128, kernel_size=(1, 1), stride=(2, 2))\n",
       "              (1): BatchNorm2d(128, eps=1e-05, momentum=0.1, affine=True, track_running_stats=True)\n",
       "            )\n",
       "            (relu): ReLU()\n",
       "          )\n",
       "          (1): Block(\n",
       "            (conv1): Conv2d(128, 128, kernel_size=(3, 3), stride=(1, 1), padding=(1, 1), bias=False)\n",
       "            (batch_norm1): BatchNorm2d(128, eps=1e-05, momentum=0.1, affine=True, track_running_stats=True)\n",
       "            (conv2): Conv2d(128, 128, kernel_size=(3, 3), stride=(1, 1), padding=(1, 1), bias=False)\n",
       "            (batch_norm2): BatchNorm2d(128, eps=1e-05, momentum=0.1, affine=True, track_running_stats=True)\n",
       "            (relu): ReLU()\n",
       "          )\n",
       "        )\n",
       "        (7): Sequential(\n",
       "          (0): Block(\n",
       "            (conv1): Conv2d(128, 256, kernel_size=(3, 3), stride=(1, 1), padding=(1, 1), bias=False)\n",
       "            (batch_norm1): BatchNorm2d(256, eps=1e-05, momentum=0.1, affine=True, track_running_stats=True)\n",
       "            (conv2): Conv2d(256, 256, kernel_size=(3, 3), stride=(2, 2), padding=(1, 1), bias=False)\n",
       "            (batch_norm2): BatchNorm2d(256, eps=1e-05, momentum=0.1, affine=True, track_running_stats=True)\n",
       "            (i_downsample): Sequential(\n",
       "              (0): Conv2d(128, 256, kernel_size=(1, 1), stride=(2, 2))\n",
       "              (1): BatchNorm2d(256, eps=1e-05, momentum=0.1, affine=True, track_running_stats=True)\n",
       "            )\n",
       "            (relu): ReLU()\n",
       "          )\n",
       "          (1): Block(\n",
       "            (conv1): Conv2d(256, 256, kernel_size=(3, 3), stride=(1, 1), padding=(1, 1), bias=False)\n",
       "            (batch_norm1): BatchNorm2d(256, eps=1e-05, momentum=0.1, affine=True, track_running_stats=True)\n",
       "            (conv2): Conv2d(256, 256, kernel_size=(3, 3), stride=(1, 1), padding=(1, 1), bias=False)\n",
       "            (batch_norm2): BatchNorm2d(256, eps=1e-05, momentum=0.1, affine=True, track_running_stats=True)\n",
       "            (relu): ReLU()\n",
       "          )\n",
       "        )\n",
       "        (8): Sequential(\n",
       "          (0): Block(\n",
       "            (conv1): Conv2d(256, 512, kernel_size=(3, 3), stride=(1, 1), padding=(1, 1), bias=False)\n",
       "            (batch_norm1): BatchNorm2d(512, eps=1e-05, momentum=0.1, affine=True, track_running_stats=True)\n",
       "            (conv2): Conv2d(512, 512, kernel_size=(3, 3), stride=(2, 2), padding=(1, 1), bias=False)\n",
       "            (batch_norm2): BatchNorm2d(512, eps=1e-05, momentum=0.1, affine=True, track_running_stats=True)\n",
       "            (i_downsample): Sequential(\n",
       "              (0): Conv2d(256, 512, kernel_size=(1, 1), stride=(2, 2))\n",
       "              (1): BatchNorm2d(512, eps=1e-05, momentum=0.1, affine=True, track_running_stats=True)\n",
       "            )\n",
       "            (relu): ReLU()\n",
       "          )\n",
       "          (1): Block(\n",
       "            (conv1): Conv2d(512, 512, kernel_size=(3, 3), stride=(1, 1), padding=(1, 1), bias=False)\n",
       "            (batch_norm1): BatchNorm2d(512, eps=1e-05, momentum=0.1, affine=True, track_running_stats=True)\n",
       "            (conv2): Conv2d(512, 512, kernel_size=(3, 3), stride=(1, 1), padding=(1, 1), bias=False)\n",
       "            (batch_norm2): BatchNorm2d(512, eps=1e-05, momentum=0.1, affine=True, track_running_stats=True)\n",
       "            (relu): ReLU()\n",
       "          )\n",
       "        )\n",
       "      )\n",
       "    )\n",
       "    (depth_extractor): depth_feature_extractor(\n",
       "      (part): Sequential(\n",
       "        (0): Sequential(\n",
       "          (0): Conv2d(3, 3, kernel_size=(14, 14), stride=(2, 2))\n",
       "          (1): ReLU()\n",
       "          (2): Conv2d(3, 3, kernel_size=(5, 56), stride=(1, 1))\n",
       "          (3): ReLU()\n",
       "          (4): Conv2d(3, 3, kernel_size=(5, 23), stride=(1, 1))\n",
       "          (5): ReLU()\n",
       "          (6): Conv2d(3, 16, kernel_size=(3, 14), stride=(1, 1))\n",
       "        )\n",
       "        (1): Conv2d(16, 64, kernel_size=(7, 7), stride=(2, 2), padding=(3, 3), bias=False)\n",
       "        (2): BatchNorm2d(64, eps=1e-05, momentum=0.1, affine=True, track_running_stats=True)\n",
       "        (3): ReLU()\n",
       "        (4): MaxPool2d(kernel_size=3, stride=2, padding=1, dilation=1, ceil_mode=False)\n",
       "        (5): Sequential(\n",
       "          (0): Block(\n",
       "            (conv1): Conv2d(64, 64, kernel_size=(3, 3), stride=(1, 1), padding=(1, 1), bias=False)\n",
       "            (batch_norm1): BatchNorm2d(64, eps=1e-05, momentum=0.1, affine=True, track_running_stats=True)\n",
       "            (conv2): Conv2d(64, 64, kernel_size=(3, 3), stride=(1, 1), padding=(1, 1), bias=False)\n",
       "            (batch_norm2): BatchNorm2d(64, eps=1e-05, momentum=0.1, affine=True, track_running_stats=True)\n",
       "            (relu): ReLU()\n",
       "          )\n",
       "          (1): Block(\n",
       "            (conv1): Conv2d(64, 64, kernel_size=(3, 3), stride=(1, 1), padding=(1, 1), bias=False)\n",
       "            (batch_norm1): BatchNorm2d(64, eps=1e-05, momentum=0.1, affine=True, track_running_stats=True)\n",
       "            (conv2): Conv2d(64, 64, kernel_size=(3, 3), stride=(1, 1), padding=(1, 1), bias=False)\n",
       "            (batch_norm2): BatchNorm2d(64, eps=1e-05, momentum=0.1, affine=True, track_running_stats=True)\n",
       "            (relu): ReLU()\n",
       "          )\n",
       "        )\n",
       "        (6): Sequential(\n",
       "          (0): Block(\n",
       "            (conv1): Conv2d(64, 128, kernel_size=(3, 3), stride=(1, 1), padding=(1, 1), bias=False)\n",
       "            (batch_norm1): BatchNorm2d(128, eps=1e-05, momentum=0.1, affine=True, track_running_stats=True)\n",
       "            (conv2): Conv2d(128, 128, kernel_size=(3, 3), stride=(2, 2), padding=(1, 1), bias=False)\n",
       "            (batch_norm2): BatchNorm2d(128, eps=1e-05, momentum=0.1, affine=True, track_running_stats=True)\n",
       "            (i_downsample): Sequential(\n",
       "              (0): Conv2d(64, 128, kernel_size=(1, 1), stride=(2, 2))\n",
       "              (1): BatchNorm2d(128, eps=1e-05, momentum=0.1, affine=True, track_running_stats=True)\n",
       "            )\n",
       "            (relu): ReLU()\n",
       "          )\n",
       "          (1): Block(\n",
       "            (conv1): Conv2d(128, 128, kernel_size=(3, 3), stride=(1, 1), padding=(1, 1), bias=False)\n",
       "            (batch_norm1): BatchNorm2d(128, eps=1e-05, momentum=0.1, affine=True, track_running_stats=True)\n",
       "            (conv2): Conv2d(128, 128, kernel_size=(3, 3), stride=(1, 1), padding=(1, 1), bias=False)\n",
       "            (batch_norm2): BatchNorm2d(128, eps=1e-05, momentum=0.1, affine=True, track_running_stats=True)\n",
       "            (relu): ReLU()\n",
       "          )\n",
       "        )\n",
       "        (7): Sequential(\n",
       "          (0): Block(\n",
       "            (conv1): Conv2d(128, 256, kernel_size=(3, 3), stride=(1, 1), padding=(1, 1), bias=False)\n",
       "            (batch_norm1): BatchNorm2d(256, eps=1e-05, momentum=0.1, affine=True, track_running_stats=True)\n",
       "            (conv2): Conv2d(256, 256, kernel_size=(3, 3), stride=(2, 2), padding=(1, 1), bias=False)\n",
       "            (batch_norm2): BatchNorm2d(256, eps=1e-05, momentum=0.1, affine=True, track_running_stats=True)\n",
       "            (i_downsample): Sequential(\n",
       "              (0): Conv2d(128, 256, kernel_size=(1, 1), stride=(2, 2))\n",
       "              (1): BatchNorm2d(256, eps=1e-05, momentum=0.1, affine=True, track_running_stats=True)\n",
       "            )\n",
       "            (relu): ReLU()\n",
       "          )\n",
       "          (1): Block(\n",
       "            (conv1): Conv2d(256, 256, kernel_size=(3, 3), stride=(1, 1), padding=(1, 1), bias=False)\n",
       "            (batch_norm1): BatchNorm2d(256, eps=1e-05, momentum=0.1, affine=True, track_running_stats=True)\n",
       "            (conv2): Conv2d(256, 256, kernel_size=(3, 3), stride=(1, 1), padding=(1, 1), bias=False)\n",
       "            (batch_norm2): BatchNorm2d(256, eps=1e-05, momentum=0.1, affine=True, track_running_stats=True)\n",
       "            (relu): ReLU()\n",
       "          )\n",
       "        )\n",
       "        (8): Sequential(\n",
       "          (0): Block(\n",
       "            (conv1): Conv2d(256, 512, kernel_size=(3, 3), stride=(1, 1), padding=(1, 1), bias=False)\n",
       "            (batch_norm1): BatchNorm2d(512, eps=1e-05, momentum=0.1, affine=True, track_running_stats=True)\n",
       "            (conv2): Conv2d(512, 512, kernel_size=(3, 3), stride=(2, 2), padding=(1, 1), bias=False)\n",
       "            (batch_norm2): BatchNorm2d(512, eps=1e-05, momentum=0.1, affine=True, track_running_stats=True)\n",
       "            (i_downsample): Sequential(\n",
       "              (0): Conv2d(256, 512, kernel_size=(1, 1), stride=(2, 2))\n",
       "              (1): BatchNorm2d(512, eps=1e-05, momentum=0.1, affine=True, track_running_stats=True)\n",
       "            )\n",
       "            (relu): ReLU()\n",
       "          )\n",
       "          (1): Block(\n",
       "            (conv1): Conv2d(512, 512, kernel_size=(3, 3), stride=(1, 1), padding=(1, 1), bias=False)\n",
       "            (batch_norm1): BatchNorm2d(512, eps=1e-05, momentum=0.1, affine=True, track_running_stats=True)\n",
       "            (conv2): Conv2d(512, 512, kernel_size=(3, 3), stride=(1, 1), padding=(1, 1), bias=False)\n",
       "            (batch_norm2): BatchNorm2d(512, eps=1e-05, momentum=0.1, affine=True, track_running_stats=True)\n",
       "            (relu): ReLU()\n",
       "          )\n",
       "        )\n",
       "      )\n",
       "    )\n",
       "    (mmwave_extractor): mmwave_feature_extractor(\n",
       "      (part): Sequential(\n",
       "        (0): Backbone(\n",
       "          (fc1): Sequential(\n",
       "            (0): Linear(in_features=5, out_features=32, bias=True)\n",
       "            (1): ReLU()\n",
       "            (2): Linear(in_features=32, out_features=32, bias=True)\n",
       "          )\n",
       "          (transformer1): TransformerBlock(\n",
       "            (fc1): Linear(in_features=32, out_features=128, bias=True)\n",
       "            (fc2): Linear(in_features=128, out_features=32, bias=True)\n",
       "            (fc_delta): Sequential(\n",
       "              (0): Linear(in_features=3, out_features=128, bias=True)\n",
       "              (1): ReLU()\n",
       "              (2): Linear(in_features=128, out_features=128, bias=True)\n",
       "            )\n",
       "            (fc_gamma): Sequential(\n",
       "              (0): Linear(in_features=128, out_features=128, bias=True)\n",
       "              (1): ReLU()\n",
       "              (2): Linear(in_features=128, out_features=128, bias=True)\n",
       "            )\n",
       "            (w_qs): Linear(in_features=128, out_features=128, bias=False)\n",
       "            (w_ks): Linear(in_features=128, out_features=128, bias=False)\n",
       "            (w_vs): Linear(in_features=128, out_features=128, bias=False)\n",
       "          )\n",
       "          (transition_downs): ModuleList(\n",
       "            (0): Transition(\n",
       "              (conv1): Sequential(\n",
       "                (0): Conv1d(67, 128, kernel_size=(1,), stride=(1,))\n",
       "                (1): BatchNorm1d(128, eps=1e-05, momentum=0.1, affine=True, track_running_stats=True)\n",
       "                (2): ReLU()\n",
       "              )\n",
       "              (conv2): Sequential(\n",
       "                (0): Conv1d(128, 128, kernel_size=(1,), stride=(1,))\n",
       "                (1): BatchNorm1d(128, eps=1e-05, momentum=0.1, affine=True, track_running_stats=True)\n",
       "                (2): ReLU()\n",
       "              )\n",
       "            )\n",
       "            (1): Transition(\n",
       "              (conv1): Sequential(\n",
       "                (0): Conv1d(131, 256, kernel_size=(1,), stride=(1,))\n",
       "                (1): BatchNorm1d(256, eps=1e-05, momentum=0.1, affine=True, track_running_stats=True)\n",
       "                (2): ReLU()\n",
       "              )\n",
       "              (conv2): Sequential(\n",
       "                (0): Conv1d(256, 256, kernel_size=(1,), stride=(1,))\n",
       "                (1): BatchNorm1d(256, eps=1e-05, momentum=0.1, affine=True, track_running_stats=True)\n",
       "                (2): ReLU()\n",
       "              )\n",
       "            )\n",
       "            (2): Transition(\n",
       "              (conv1): Sequential(\n",
       "                (0): Conv1d(259, 512, kernel_size=(1,), stride=(1,))\n",
       "                (1): BatchNorm1d(512, eps=1e-05, momentum=0.1, affine=True, track_running_stats=True)\n",
       "                (2): ReLU()\n",
       "              )\n",
       "              (conv2): Sequential(\n",
       "                (0): Conv1d(512, 512, kernel_size=(1,), stride=(1,))\n",
       "                (1): BatchNorm1d(512, eps=1e-05, momentum=0.1, affine=True, track_running_stats=True)\n",
       "                (2): ReLU()\n",
       "              )\n",
       "            )\n",
       "          )\n",
       "          (transformers): ModuleList(\n",
       "            (0): TransformerBlock(\n",
       "              (fc1): Linear(in_features=64, out_features=128, bias=True)\n",
       "              (fc2): Linear(in_features=128, out_features=64, bias=True)\n",
       "              (fc_delta): Sequential(\n",
       "                (0): Linear(in_features=3, out_features=128, bias=True)\n",
       "                (1): ReLU()\n",
       "                (2): Linear(in_features=128, out_features=128, bias=True)\n",
       "              )\n",
       "              (fc_gamma): Sequential(\n",
       "                (0): Linear(in_features=128, out_features=128, bias=True)\n",
       "                (1): ReLU()\n",
       "                (2): Linear(in_features=128, out_features=128, bias=True)\n",
       "              )\n",
       "              (w_qs): Linear(in_features=128, out_features=128, bias=False)\n",
       "              (w_ks): Linear(in_features=128, out_features=128, bias=False)\n",
       "              (w_vs): Linear(in_features=128, out_features=128, bias=False)\n",
       "            )\n",
       "            (1): TransformerBlock(\n",
       "              (fc1): Linear(in_features=128, out_features=128, bias=True)\n",
       "              (fc2): Linear(in_features=128, out_features=128, bias=True)\n",
       "              (fc_delta): Sequential(\n",
       "                (0): Linear(in_features=3, out_features=128, bias=True)\n",
       "                (1): ReLU()\n",
       "                (2): Linear(in_features=128, out_features=128, bias=True)\n",
       "              )\n",
       "              (fc_gamma): Sequential(\n",
       "                (0): Linear(in_features=128, out_features=128, bias=True)\n",
       "                (1): ReLU()\n",
       "                (2): Linear(in_features=128, out_features=128, bias=True)\n",
       "              )\n",
       "              (w_qs): Linear(in_features=128, out_features=128, bias=False)\n",
       "              (w_ks): Linear(in_features=128, out_features=128, bias=False)\n",
       "              (w_vs): Linear(in_features=128, out_features=128, bias=False)\n",
       "            )\n",
       "            (2): TransformerBlock(\n",
       "              (fc1): Linear(in_features=256, out_features=128, bias=True)\n",
       "              (fc2): Linear(in_features=128, out_features=256, bias=True)\n",
       "              (fc_delta): Sequential(\n",
       "                (0): Linear(in_features=3, out_features=128, bias=True)\n",
       "                (1): ReLU()\n",
       "                (2): Linear(in_features=128, out_features=128, bias=True)\n",
       "              )\n",
       "              (fc_gamma): Sequential(\n",
       "                (0): Linear(in_features=128, out_features=128, bias=True)\n",
       "                (1): ReLU()\n",
       "                (2): Linear(in_features=128, out_features=128, bias=True)\n",
       "              )\n",
       "              (w_qs): Linear(in_features=128, out_features=128, bias=False)\n",
       "              (w_ks): Linear(in_features=128, out_features=128, bias=False)\n",
       "              (w_vs): Linear(in_features=128, out_features=128, bias=False)\n",
       "            )\n",
       "            (3): TransformerBlock(\n",
       "              (fc1): Linear(in_features=512, out_features=128, bias=True)\n",
       "              (fc2): Linear(in_features=128, out_features=512, bias=True)\n",
       "              (fc_delta): Sequential(\n",
       "                (0): Linear(in_features=3, out_features=128, bias=True)\n",
       "                (1): ReLU()\n",
       "                (2): Linear(in_features=128, out_features=128, bias=True)\n",
       "              )\n",
       "              (fc_gamma): Sequential(\n",
       "                (0): Linear(in_features=128, out_features=128, bias=True)\n",
       "                (1): ReLU()\n",
       "                (2): Linear(in_features=128, out_features=128, bias=True)\n",
       "              )\n",
       "              (w_qs): Linear(in_features=128, out_features=128, bias=False)\n",
       "              (w_ks): Linear(in_features=128, out_features=128, bias=False)\n",
       "              (w_vs): Linear(in_features=128, out_features=128, bias=False)\n",
       "            )\n",
       "          )\n",
       "          (transition_downs_1): TransitionDown(\n",
       "            (sa): PointNetSetAbstraction(\n",
       "              (mlp_convs): ModuleList(\n",
       "                (0): Conv2d(35, 64, kernel_size=(1, 1), stride=(1, 1))\n",
       "                (1): Conv2d(64, 64, kernel_size=(1, 1), stride=(1, 1))\n",
       "              )\n",
       "              (mlp_bns): ModuleList(\n",
       "                (0-1): 2 x BatchNorm2d(64, eps=1e-05, momentum=0.1, affine=True, track_running_stats=True)\n",
       "              )\n",
       "            )\n",
       "          )\n",
       "        )\n",
       "      )\n",
       "    )\n",
       "    (lidar_extractor): lidar_feature_extractor(\n",
       "      (fc1): Sequential(\n",
       "        (0): Linear(in_features=3, out_features=32, bias=True)\n",
       "        (1): ReLU()\n",
       "        (2): Linear(in_features=32, out_features=32, bias=True)\n",
       "      )\n",
       "      (transformer1): TransformerBlock(\n",
       "        (fc1): Linear(in_features=32, out_features=512, bias=True)\n",
       "        (fc2): Linear(in_features=512, out_features=32, bias=True)\n",
       "        (fc_delta): Sequential(\n",
       "          (0): Linear(in_features=3, out_features=512, bias=True)\n",
       "          (1): ReLU()\n",
       "          (2): Linear(in_features=512, out_features=512, bias=True)\n",
       "        )\n",
       "        (fc_gamma): Sequential(\n",
       "          (0): Linear(in_features=512, out_features=512, bias=True)\n",
       "          (1): ReLU()\n",
       "          (2): Linear(in_features=512, out_features=512, bias=True)\n",
       "        )\n",
       "        (w_qs): Linear(in_features=512, out_features=512, bias=False)\n",
       "        (w_ks): Linear(in_features=512, out_features=512, bias=False)\n",
       "        (w_vs): Linear(in_features=512, out_features=512, bias=False)\n",
       "      )\n",
       "      (transition_downs): ModuleList(\n",
       "        (0): TransitionDown(\n",
       "          (sa): PointNetSetAbstraction(\n",
       "            (mlp_convs): ModuleList(\n",
       "              (0): Conv2d(35, 64, kernel_size=(1, 1), stride=(1, 1))\n",
       "              (1): Conv2d(64, 64, kernel_size=(1, 1), stride=(1, 1))\n",
       "            )\n",
       "            (mlp_bns): ModuleList(\n",
       "              (0-1): 2 x BatchNorm2d(64, eps=1e-05, momentum=0.1, affine=True, track_running_stats=True)\n",
       "            )\n",
       "          )\n",
       "        )\n",
       "      )\n",
       "      (transformers): ModuleList(\n",
       "        (0): TransformerBlock(\n",
       "          (fc1): Linear(in_features=64, out_features=512, bias=True)\n",
       "          (fc2): Linear(in_features=512, out_features=64, bias=True)\n",
       "          (fc_delta): Sequential(\n",
       "            (0): Linear(in_features=3, out_features=512, bias=True)\n",
       "            (1): ReLU()\n",
       "            (2): Linear(in_features=512, out_features=512, bias=True)\n",
       "          )\n",
       "          (fc_gamma): Sequential(\n",
       "            (0): Linear(in_features=512, out_features=512, bias=True)\n",
       "            (1): ReLU()\n",
       "            (2): Linear(in_features=512, out_features=512, bias=True)\n",
       "          )\n",
       "          (w_qs): Linear(in_features=512, out_features=512, bias=False)\n",
       "          (w_ks): Linear(in_features=512, out_features=512, bias=False)\n",
       "          (w_vs): Linear(in_features=512, out_features=512, bias=False)\n",
       "        )\n",
       "      )\n",
       "    )\n",
       "  )\n",
       "  (linear_projector): linear_projector(\n",
       "    (rgb_linear_projection): Sequential(\n",
       "      (0): Conv1d(512, 512, kernel_size=(1,), stride=(1,))\n",
       "      (1): BatchNorm1d(512, eps=1e-05, momentum=0.1, affine=True, track_running_stats=True)\n",
       "      (2): ReLU()\n",
       "      (3): Linear(in_features=49, out_features=32, bias=True)\n",
       "      (4): ReLU()\n",
       "    )\n",
       "    (depth_linear_projection): Sequential(\n",
       "      (0): Conv1d(512, 512, kernel_size=(1,), stride=(1,))\n",
       "      (1): BatchNorm1d(512, eps=1e-05, momentum=0.1, affine=True, track_running_stats=True)\n",
       "      (2): ReLU()\n",
       "      (3): Linear(in_features=49, out_features=32, bias=True)\n",
       "      (4): ReLU()\n",
       "    )\n",
       "    (mmwave_linear_projection): Sequential(\n",
       "      (0): Conv1d(512, 512, kernel_size=(1,), stride=(1,))\n",
       "      (1): BatchNorm1d(512, eps=1e-05, momentum=0.1, affine=True, track_running_stats=True)\n",
       "      (2): ReLU()\n",
       "      (3): Linear(in_features=32, out_features=32, bias=True)\n",
       "      (4): ReLU()\n",
       "    )\n",
       "    (lidar_linear_projection): Sequential(\n",
       "      (0): Conv1d(512, 512, kernel_size=(1,), stride=(1,))\n",
       "      (1): BatchNorm1d(512, eps=1e-05, momentum=0.1, affine=True, track_running_stats=True)\n",
       "      (2): ReLU()\n",
       "      (3): Linear(in_features=32, out_features=32, bias=True)\n",
       "      (4): ReLU()\n",
       "    )\n",
       "    (pos_enc_layer): Sequential(\n",
       "      (0): Conv1d(3, 128, kernel_size=(1,), stride=(1,))\n",
       "      (1): BatchNorm1d(128, eps=1e-05, momentum=0.1, affine=True, track_running_stats=True)\n",
       "      (2): ReLU()\n",
       "      (3): Conv1d(128, 512, kernel_size=(1,), stride=(1,))\n",
       "      (4): BatchNorm1d(512, eps=1e-05, momentum=0.1, affine=True, track_running_stats=True)\n",
       "      (5): ReLU()\n",
       "    )\n",
       "  )\n",
       "  (MIT): MI_Transformer(\n",
       "    (kv_layers): ModuleList(\n",
       "      (0-3): 4 x kv_projection(\n",
       "        (norm): LayerNorm((512,), eps=1e-05, elementwise_affine=True)\n",
       "        (MLP): Sequential(\n",
       "          (0): Linear(in_features=512, out_features=1024, bias=True)\n",
       "          (1): LayerNorm((1024,), eps=1e-05, elementwise_affine=True)\n",
       "          (2): ReLU()\n",
       "          (3): Linear(in_features=1024, out_features=512, bias=True)\n",
       "        )\n",
       "        (to_k): Linear(in_features=512, out_features=512, bias=False)\n",
       "        (to_v): Linear(in_features=512, out_features=512, bias=False)\n",
       "      )\n",
       "    )\n",
       "    (cross_attention_transformer): cross_attention_transformer_block(\n",
       "      (transformer_layers): ModuleList(\n",
       "        (0-3): 4 x fusion_transformer(\n",
       "          (mutihead_attention): qkv_Attention(\n",
       "            (norm): LayerNorm((512,), eps=1e-05, elementwise_affine=True)\n",
       "            (to_qkv): Linear(in_features=512, out_features=1536, bias=False)\n",
       "            (attend): Softmax(dim=-1)\n",
       "            (dropout): Dropout(p=0.0, inplace=False)\n",
       "            (to_out): Sequential(\n",
       "              (0): Linear(in_features=512, out_features=512, bias=True)\n",
       "              (1): LayerNorm((512,), eps=1e-05, elementwise_affine=True)\n",
       "              (2): Dropout(p=0.0, inplace=False)\n",
       "            )\n",
       "          )\n",
       "          (feed_forward): FeedForward(\n",
       "            (net): Sequential(\n",
       "              (0): LayerNorm((512,), eps=1e-05, elementwise_affine=True)\n",
       "              (1): Linear(in_features=512, out_features=512, bias=True)\n",
       "              (2): GELU(approximate='none')\n",
       "              (3): Dropout(p=0.0, inplace=False)\n",
       "              (4): Linear(in_features=512, out_features=512, bias=True)\n",
       "              (5): Dropout(p=0.0, inplace=False)\n",
       "            )\n",
       "          )\n",
       "        )\n",
       "      )\n",
       "    )\n",
       "    (cross_modal_transformer): cross_modal_transformer(\n",
       "      (attention): MultiHeadAttention(\n",
       "        (qkv): Linear(in_features=512, out_features=1536, bias=True)\n",
       "        (att_drop): Dropout(p=0.0, inplace=False)\n",
       "        (projection): Linear(in_features=512, out_features=512, bias=True)\n",
       "        (pool): AdaptiveAvgPool2d(output_size=(32, None))\n",
       "      )\n",
       "      (ffw): FeedForward(\n",
       "        (net): Sequential(\n",
       "          (0): LayerNorm((512,), eps=1e-05, elementwise_affine=True)\n",
       "          (1): Linear(in_features=512, out_features=1024, bias=True)\n",
       "          (2): GELU(approximate='none')\n",
       "          (3): Dropout(p=0.0, inplace=False)\n",
       "          (4): Linear(in_features=1024, out_features=512, bias=True)\n",
       "          (5): Dropout(p=0.0, inplace=False)\n",
       "        )\n",
       "      )\n",
       "      (pool): AdaptiveAvgPool2d(output_size=(32, None))\n",
       "    )\n",
       "    (classification_head): classification_Head(\n",
       "      (norm): LayerNorm((512,), eps=1e-05, elementwise_affine=True)\n",
       "      (fc): Linear(in_features=512, out_features=27, bias=True)\n",
       "    )\n",
       "  )\n",
       ")"
      ]
     },
     "execution_count": 5,
     "metadata": {},
     "output_type": "execute_result"
    }
   ],
   "source": [
    "from MI_model_5_4input_exp import modality_invariant_model\n",
    "# from MI_model_5_4input import modality_invariant_model\n",
    "# from MI_model import modality_invariant_model\n",
    "\n",
    "model = modality_invariant_model(model_depth=4)\n",
    "model.cuda()"
   ]
  },
  {
   "cell_type": "code",
   "execution_count": 6,
   "metadata": {},
   "outputs": [
    {
     "data": {
      "text/plain": [
       "<All keys matched successfully>"
      ]
     },
     "execution_count": 6,
     "metadata": {},
     "output_type": "execute_result"
    }
   ],
   "source": [
    "criterion = nn.CrossEntropyLoss()\n",
    "device = torch.device(\"cuda\" if torch.cuda.is_available() else \"cpu\")\n",
    "model.to(device)\n",
    "parameter_dir = './HAR_30thAug_Model5_dep4(1).pt'\n",
    "model.load_state_dict(torch.load(parameter_dir))"
   ]
  },
  {
   "cell_type": "code",
   "execution_count": 9,
   "metadata": {},
   "outputs": [],
   "source": [
    "def test(model, tensor_loader, criterion, device):\n",
    "    model.eval()\n",
    "    test_acc = 0\n",
    "    test_loss = 0\n",
    "    random.seed(config['modality_existances']['val_random_seed'])\n",
    "    i = 0\n",
    "    for data in tqdm(tensor_loader):\n",
    "        start_time = time.time()\n",
    "        rgb_data, depth_data, lidar_data, mmwave_data, label, modality_list = data\n",
    "        # t1 = time.time()\n",
    "        # load_time = t1 - start_time \n",
    "        modality_list = [True, True, True, True]\n",
    "        rgb_data = rgb_data.to(device)\n",
    "        depth_data = depth_data.to(device)\n",
    "        lidar_data = lidar_data.to(device)\n",
    "        mmwave_data = mmwave_data.to(device)\n",
    "        # wifi_data = wifi_data.to(device)\n",
    "        label.to(device)\n",
    "        labels = label.type(torch.LongTensor)\n",
    "        outputs = model(rgb_data, depth_data,  mmwave_data, lidar_data, modality_list)\n",
    "        outputs = outputs.type(torch.FloatTensor)\n",
    "        outputs.to(device)\n",
    "        # t2 = time.time()\n",
    "        # forward_time = t2 - t1\n",
    "        loss = criterion(outputs,labels)\n",
    "        predict_y = torch.argmax(outputs,dim=1).to(device)\n",
    "        accuracy = (predict_y == labels.to(device)).sum().item()/labels.size(0)\n",
    "        test_acc += accuracy\n",
    "        test_loss += loss.item() * labels.size(0)\n",
    "\n",
    "        # outputs = outputs.detach().cpu().numpy()\n",
    "        # labels = labels.cpu().numpy()\n",
    "        # t3 = time.time()\n",
    "        # record_time = t3 - t2\n",
    "        # print('load_time: ', load_time)\n",
    "        # print('forward_time: ', forward_time)\n",
    "        # print('record_time: ', record_time)\n",
    "        if i % 100 == 0:\n",
    "            print('accuracy: ', test_acc/(i+1))\n",
    "        i += 1\n",
    "    test_acc = test_acc/len(tensor_loader)\n",
    "    test_loss = test_loss/len(tensor_loader.dataset)\n",
    "    print(\"validation accuracy:{:.4f}, loss:{:.5f}\".format(float(test_acc),float(test_loss)))\n",
    "    return test_acc"
   ]
  },
  {
   "cell_type": "code",
   "execution_count": 10,
   "metadata": {},
   "outputs": [
    {
     "name": "stderr",
     "output_type": "stream",
     "text": [
      "  0%|          | 1/3403 [00:00<36:36,  1.55it/s]"
     ]
    },
    {
     "name": "stdout",
     "output_type": "stream",
     "text": [
      "accuracy:  1.0\n"
     ]
    },
    {
     "name": "stderr",
     "output_type": "stream",
     "text": [
      "  3%|▎         | 101/3403 [00:49<29:46,  1.85it/s]"
     ]
    },
    {
     "name": "stdout",
     "output_type": "stream",
     "text": [
      "accuracy:  0.8391089108910891\n"
     ]
    },
    {
     "name": "stderr",
     "output_type": "stream",
     "text": [
      "  6%|▌         | 201/3403 [01:36<22:59,  2.32it/s]"
     ]
    },
    {
     "name": "stdout",
     "output_type": "stream",
     "text": [
      "accuracy:  0.8351990049751243\n"
     ]
    },
    {
     "name": "stderr",
     "output_type": "stream",
     "text": [
      "  9%|▉         | 301/3403 [03:23<55:30,  1.07s/it]  "
     ]
    },
    {
     "name": "stdout",
     "output_type": "stream",
     "text": [
      "accuracy:  0.7778239202657807\n"
     ]
    },
    {
     "name": "stderr",
     "output_type": "stream",
     "text": [
      " 12%|█▏        | 401/3403 [05:13<51:47,  1.04s/it]  "
     ]
    },
    {
     "name": "stdout",
     "output_type": "stream",
     "text": [
      "accuracy:  0.7593516209476309\n"
     ]
    },
    {
     "name": "stderr",
     "output_type": "stream",
     "text": [
      " 15%|█▍        | 501/3403 [07:04<55:37,  1.15s/it]  "
     ]
    },
    {
     "name": "stdout",
     "output_type": "stream",
     "text": [
      "accuracy:  0.7407684630738522\n"
     ]
    },
    {
     "name": "stderr",
     "output_type": "stream",
     "text": [
      " 18%|█▊        | 601/3403 [09:02<1:07:33,  1.45s/it]"
     ]
    },
    {
     "name": "stdout",
     "output_type": "stream",
     "text": [
      "accuracy:  0.7024750415973378\n"
     ]
    },
    {
     "name": "stderr",
     "output_type": "stream",
     "text": [
      " 19%|█▉        | 657/3403 [10:17<43:02,  1.06it/s]  \n"
     ]
    },
    {
     "ename": "OutOfMemoryError",
     "evalue": "CUDA out of memory. Tried to allocate 708.00 MiB. GPU 0 has a total capacty of 23.99 GiB of which 0 bytes is free. Of the allocated memory 21.23 GiB is allocated by PyTorch, and 1.25 GiB is reserved by PyTorch but unallocated. If reserved but unallocated memory is large try setting max_split_size_mb to avoid fragmentation.  See documentation for Memory Management and PYTORCH_CUDA_ALLOC_CONF",
     "output_type": "error",
     "traceback": [
      "\u001b[1;31m---------------------------------------------------------------------------\u001b[0m",
      "\u001b[1;31mOutOfMemoryError\u001b[0m                          Traceback (most recent call last)",
      "\u001b[1;32mC:\\Users\\CHEN_X~1\\AppData\\Local\\Temp/ipykernel_11368/2279583508.py\u001b[0m in \u001b[0;36m<module>\u001b[1;34m\u001b[0m\n\u001b[1;32m----> 1\u001b[1;33m \u001b[0mtest\u001b[0m\u001b[1;33m(\u001b[0m\u001b[0mmodel\u001b[0m\u001b[1;33m,\u001b[0m \u001b[0mval_loader\u001b[0m\u001b[1;33m,\u001b[0m \u001b[0mcriterion\u001b[0m\u001b[1;33m,\u001b[0m \u001b[0mdevice\u001b[0m\u001b[1;33m)\u001b[0m\u001b[1;33m\u001b[0m\u001b[1;33m\u001b[0m\u001b[0m\n\u001b[0m",
      "\u001b[1;32mC:\\Users\\CHEN_X~1\\AppData\\Local\\Temp/ipykernel_11368/2400996642.py\u001b[0m in \u001b[0;36mtest\u001b[1;34m(model, tensor_loader, criterion, device)\u001b[0m\n\u001b[0;32m     18\u001b[0m         \u001b[0mlabel\u001b[0m\u001b[1;33m.\u001b[0m\u001b[0mto\u001b[0m\u001b[1;33m(\u001b[0m\u001b[0mdevice\u001b[0m\u001b[1;33m)\u001b[0m\u001b[1;33m\u001b[0m\u001b[1;33m\u001b[0m\u001b[0m\n\u001b[0;32m     19\u001b[0m         \u001b[0mlabels\u001b[0m \u001b[1;33m=\u001b[0m \u001b[0mlabel\u001b[0m\u001b[1;33m.\u001b[0m\u001b[0mtype\u001b[0m\u001b[1;33m(\u001b[0m\u001b[0mtorch\u001b[0m\u001b[1;33m.\u001b[0m\u001b[0mLongTensor\u001b[0m\u001b[1;33m)\u001b[0m\u001b[1;33m\u001b[0m\u001b[1;33m\u001b[0m\u001b[0m\n\u001b[1;32m---> 20\u001b[1;33m         \u001b[0moutputs\u001b[0m \u001b[1;33m=\u001b[0m \u001b[0mmodel\u001b[0m\u001b[1;33m(\u001b[0m\u001b[0mrgb_data\u001b[0m\u001b[1;33m,\u001b[0m \u001b[0mdepth_data\u001b[0m\u001b[1;33m,\u001b[0m  \u001b[0mmmwave_data\u001b[0m\u001b[1;33m,\u001b[0m \u001b[0mlidar_data\u001b[0m\u001b[1;33m,\u001b[0m \u001b[0mmodality_list\u001b[0m\u001b[1;33m)\u001b[0m\u001b[1;33m\u001b[0m\u001b[1;33m\u001b[0m\u001b[0m\n\u001b[0m\u001b[0;32m     21\u001b[0m         \u001b[0moutputs\u001b[0m \u001b[1;33m=\u001b[0m \u001b[0moutputs\u001b[0m\u001b[1;33m.\u001b[0m\u001b[0mtype\u001b[0m\u001b[1;33m(\u001b[0m\u001b[0mtorch\u001b[0m\u001b[1;33m.\u001b[0m\u001b[0mFloatTensor\u001b[0m\u001b[1;33m)\u001b[0m\u001b[1;33m\u001b[0m\u001b[1;33m\u001b[0m\u001b[0m\n\u001b[0;32m     22\u001b[0m         \u001b[0moutputs\u001b[0m\u001b[1;33m.\u001b[0m\u001b[0mto\u001b[0m\u001b[1;33m(\u001b[0m\u001b[0mdevice\u001b[0m\u001b[1;33m)\u001b[0m\u001b[1;33m\u001b[0m\u001b[1;33m\u001b[0m\u001b[0m\n",
      "\u001b[1;32mc:\\Users\\Chen_Xinyan\\anaconda3\\envs\\pytorch\\lib\\site-packages\\torch\\nn\\modules\\module.py\u001b[0m in \u001b[0;36m_wrapped_call_impl\u001b[1;34m(self, *args, **kwargs)\u001b[0m\n\u001b[0;32m   1516\u001b[0m             \u001b[1;32mreturn\u001b[0m \u001b[0mself\u001b[0m\u001b[1;33m.\u001b[0m\u001b[0m_compiled_call_impl\u001b[0m\u001b[1;33m(\u001b[0m\u001b[1;33m*\u001b[0m\u001b[0margs\u001b[0m\u001b[1;33m,\u001b[0m \u001b[1;33m**\u001b[0m\u001b[0mkwargs\u001b[0m\u001b[1;33m)\u001b[0m  \u001b[1;31m# type: ignore[misc]\u001b[0m\u001b[1;33m\u001b[0m\u001b[1;33m\u001b[0m\u001b[0m\n\u001b[0;32m   1517\u001b[0m         \u001b[1;32melse\u001b[0m\u001b[1;33m:\u001b[0m\u001b[1;33m\u001b[0m\u001b[1;33m\u001b[0m\u001b[0m\n\u001b[1;32m-> 1518\u001b[1;33m             \u001b[1;32mreturn\u001b[0m \u001b[0mself\u001b[0m\u001b[1;33m.\u001b[0m\u001b[0m_call_impl\u001b[0m\u001b[1;33m(\u001b[0m\u001b[1;33m*\u001b[0m\u001b[0margs\u001b[0m\u001b[1;33m,\u001b[0m \u001b[1;33m**\u001b[0m\u001b[0mkwargs\u001b[0m\u001b[1;33m)\u001b[0m\u001b[1;33m\u001b[0m\u001b[1;33m\u001b[0m\u001b[0m\n\u001b[0m\u001b[0;32m   1519\u001b[0m \u001b[1;33m\u001b[0m\u001b[0m\n\u001b[0;32m   1520\u001b[0m     \u001b[1;32mdef\u001b[0m \u001b[0m_call_impl\u001b[0m\u001b[1;33m(\u001b[0m\u001b[0mself\u001b[0m\u001b[1;33m,\u001b[0m \u001b[1;33m*\u001b[0m\u001b[0margs\u001b[0m\u001b[1;33m,\u001b[0m \u001b[1;33m**\u001b[0m\u001b[0mkwargs\u001b[0m\u001b[1;33m)\u001b[0m\u001b[1;33m:\u001b[0m\u001b[1;33m\u001b[0m\u001b[1;33m\u001b[0m\u001b[0m\n",
      "\u001b[1;32mc:\\Users\\Chen_Xinyan\\anaconda3\\envs\\pytorch\\lib\\site-packages\\torch\\nn\\modules\\module.py\u001b[0m in \u001b[0;36m_call_impl\u001b[1;34m(self, *args, **kwargs)\u001b[0m\n\u001b[0;32m   1525\u001b[0m                 \u001b[1;32mor\u001b[0m \u001b[0m_global_backward_pre_hooks\u001b[0m \u001b[1;32mor\u001b[0m \u001b[0m_global_backward_hooks\u001b[0m\u001b[1;33m\u001b[0m\u001b[1;33m\u001b[0m\u001b[0m\n\u001b[0;32m   1526\u001b[0m                 or _global_forward_hooks or _global_forward_pre_hooks):\n\u001b[1;32m-> 1527\u001b[1;33m             \u001b[1;32mreturn\u001b[0m \u001b[0mforward_call\u001b[0m\u001b[1;33m(\u001b[0m\u001b[1;33m*\u001b[0m\u001b[0margs\u001b[0m\u001b[1;33m,\u001b[0m \u001b[1;33m**\u001b[0m\u001b[0mkwargs\u001b[0m\u001b[1;33m)\u001b[0m\u001b[1;33m\u001b[0m\u001b[1;33m\u001b[0m\u001b[0m\n\u001b[0m\u001b[0;32m   1528\u001b[0m \u001b[1;33m\u001b[0m\u001b[0m\n\u001b[0;32m   1529\u001b[0m         \u001b[1;32mtry\u001b[0m\u001b[1;33m:\u001b[0m\u001b[1;33m\u001b[0m\u001b[1;33m\u001b[0m\u001b[0m\n",
      "\u001b[1;32mc:\\Users\\Chen_Xinyan\\Desktop\\Modality_Invariant\\HAR\\MI_model_5_4input.py\u001b[0m in \u001b[0;36mforward\u001b[1;34m(self, rgb_data, depth_data, mmwave_data, lidar_data, modality_list)\u001b[0m\n\u001b[0;32m    538\u001b[0m     \u001b[1;32mdef\u001b[0m \u001b[0mforward\u001b[0m\u001b[1;33m(\u001b[0m\u001b[0mself\u001b[0m\u001b[1;33m,\u001b[0m \u001b[0mrgb_data\u001b[0m\u001b[1;33m,\u001b[0m \u001b[0mdepth_data\u001b[0m\u001b[1;33m,\u001b[0m \u001b[0mmmwave_data\u001b[0m\u001b[1;33m,\u001b[0m \u001b[0mlidar_data\u001b[0m\u001b[1;33m,\u001b[0m \u001b[0mmodality_list\u001b[0m\u001b[1;33m)\u001b[0m\u001b[1;33m:\u001b[0m\u001b[1;33m\u001b[0m\u001b[1;33m\u001b[0m\u001b[0m\n\u001b[0;32m    539\u001b[0m         \u001b[1;31m# features = self.feature_extractor(rgb_data, depth_data, mmwave_data, lidar_data, csi_data, modality_list)\u001b[0m\u001b[1;33m\u001b[0m\u001b[1;33m\u001b[0m\u001b[0m\n\u001b[1;32m--> 540\u001b[1;33m         \u001b[0mfeature_list\u001b[0m \u001b[1;33m=\u001b[0m \u001b[0mself\u001b[0m\u001b[1;33m.\u001b[0m\u001b[0mfeature_extractor\u001b[0m\u001b[1;33m(\u001b[0m\u001b[0mrgb_data\u001b[0m\u001b[1;33m,\u001b[0m \u001b[0mdepth_data\u001b[0m\u001b[1;33m,\u001b[0m \u001b[0mmmwave_data\u001b[0m\u001b[1;33m,\u001b[0m \u001b[0mlidar_data\u001b[0m\u001b[1;33m,\u001b[0m \u001b[0mmodality_list\u001b[0m\u001b[1;33m)\u001b[0m\u001b[1;33m\u001b[0m\u001b[1;33m\u001b[0m\u001b[0m\n\u001b[0m\u001b[0;32m    541\u001b[0m         \u001b[1;31m# print(\"rgb_hidden_feature\", rgb_feature)\u001b[0m\u001b[1;33m\u001b[0m\u001b[1;33m\u001b[0m\u001b[0m\n\u001b[0;32m    542\u001b[0m         \u001b[1;31m# print(\"depth_hidden_feature\", depth_feature)\u001b[0m\u001b[1;33m\u001b[0m\u001b[1;33m\u001b[0m\u001b[0m\n",
      "\u001b[1;32mc:\\Users\\Chen_Xinyan\\anaconda3\\envs\\pytorch\\lib\\site-packages\\torch\\nn\\modules\\module.py\u001b[0m in \u001b[0;36m_wrapped_call_impl\u001b[1;34m(self, *args, **kwargs)\u001b[0m\n\u001b[0;32m   1516\u001b[0m             \u001b[1;32mreturn\u001b[0m \u001b[0mself\u001b[0m\u001b[1;33m.\u001b[0m\u001b[0m_compiled_call_impl\u001b[0m\u001b[1;33m(\u001b[0m\u001b[1;33m*\u001b[0m\u001b[0margs\u001b[0m\u001b[1;33m,\u001b[0m \u001b[1;33m**\u001b[0m\u001b[0mkwargs\u001b[0m\u001b[1;33m)\u001b[0m  \u001b[1;31m# type: ignore[misc]\u001b[0m\u001b[1;33m\u001b[0m\u001b[1;33m\u001b[0m\u001b[0m\n\u001b[0;32m   1517\u001b[0m         \u001b[1;32melse\u001b[0m\u001b[1;33m:\u001b[0m\u001b[1;33m\u001b[0m\u001b[1;33m\u001b[0m\u001b[0m\n\u001b[1;32m-> 1518\u001b[1;33m             \u001b[1;32mreturn\u001b[0m \u001b[0mself\u001b[0m\u001b[1;33m.\u001b[0m\u001b[0m_call_impl\u001b[0m\u001b[1;33m(\u001b[0m\u001b[1;33m*\u001b[0m\u001b[0margs\u001b[0m\u001b[1;33m,\u001b[0m \u001b[1;33m**\u001b[0m\u001b[0mkwargs\u001b[0m\u001b[1;33m)\u001b[0m\u001b[1;33m\u001b[0m\u001b[1;33m\u001b[0m\u001b[0m\n\u001b[0m\u001b[0;32m   1519\u001b[0m \u001b[1;33m\u001b[0m\u001b[0m\n\u001b[0;32m   1520\u001b[0m     \u001b[1;32mdef\u001b[0m \u001b[0m_call_impl\u001b[0m\u001b[1;33m(\u001b[0m\u001b[0mself\u001b[0m\u001b[1;33m,\u001b[0m \u001b[1;33m*\u001b[0m\u001b[0margs\u001b[0m\u001b[1;33m,\u001b[0m \u001b[1;33m**\u001b[0m\u001b[0mkwargs\u001b[0m\u001b[1;33m)\u001b[0m\u001b[1;33m:\u001b[0m\u001b[1;33m\u001b[0m\u001b[1;33m\u001b[0m\u001b[0m\n",
      "\u001b[1;32mc:\\Users\\Chen_Xinyan\\anaconda3\\envs\\pytorch\\lib\\site-packages\\torch\\nn\\modules\\module.py\u001b[0m in \u001b[0;36m_call_impl\u001b[1;34m(self, *args, **kwargs)\u001b[0m\n\u001b[0;32m   1525\u001b[0m                 \u001b[1;32mor\u001b[0m \u001b[0m_global_backward_pre_hooks\u001b[0m \u001b[1;32mor\u001b[0m \u001b[0m_global_backward_hooks\u001b[0m\u001b[1;33m\u001b[0m\u001b[1;33m\u001b[0m\u001b[0m\n\u001b[0;32m   1526\u001b[0m                 or _global_forward_hooks or _global_forward_pre_hooks):\n\u001b[1;32m-> 1527\u001b[1;33m             \u001b[1;32mreturn\u001b[0m \u001b[0mforward_call\u001b[0m\u001b[1;33m(\u001b[0m\u001b[1;33m*\u001b[0m\u001b[0margs\u001b[0m\u001b[1;33m,\u001b[0m \u001b[1;33m**\u001b[0m\u001b[0mkwargs\u001b[0m\u001b[1;33m)\u001b[0m\u001b[1;33m\u001b[0m\u001b[1;33m\u001b[0m\u001b[0m\n\u001b[0m\u001b[0;32m   1528\u001b[0m \u001b[1;33m\u001b[0m\u001b[0m\n\u001b[0;32m   1529\u001b[0m         \u001b[1;32mtry\u001b[0m\u001b[1;33m:\u001b[0m\u001b[1;33m\u001b[0m\u001b[1;33m\u001b[0m\u001b[0m\n",
      "\u001b[1;32mc:\\Users\\Chen_Xinyan\\Desktop\\Modality_Invariant\\HAR\\MI_model_5_4input.py\u001b[0m in \u001b[0;36mforward\u001b[1;34m(self, rgb_data, depth_data, mmwave_data, lidar_data, modality_list)\u001b[0m\n\u001b[0;32m    173\u001b[0m                 \u001b[0mreal_feature_list\u001b[0m\u001b[1;33m.\u001b[0m\u001b[0mappend\u001b[0m\u001b[1;33m(\u001b[0m\u001b[0mmmwave_feature\u001b[0m\u001b[1;33m)\u001b[0m\u001b[1;33m\u001b[0m\u001b[1;33m\u001b[0m\u001b[0m\n\u001b[0;32m    174\u001b[0m             \u001b[1;32mif\u001b[0m \u001b[0mmodality_list\u001b[0m\u001b[1;33m[\u001b[0m\u001b[1;36m3\u001b[0m\u001b[1;33m]\u001b[0m \u001b[1;33m==\u001b[0m \u001b[1;32mTrue\u001b[0m\u001b[1;33m:\u001b[0m\u001b[1;33m\u001b[0m\u001b[1;33m\u001b[0m\u001b[0m\n\u001b[1;32m--> 175\u001b[1;33m                 \u001b[0mlidar_feature\u001b[0m \u001b[1;33m=\u001b[0m \u001b[0mself\u001b[0m\u001b[1;33m.\u001b[0m\u001b[0mlidar_extractor\u001b[0m\u001b[1;33m(\u001b[0m\u001b[0mlidar_data\u001b[0m\u001b[1;33m)\u001b[0m\u001b[1;33m\u001b[0m\u001b[1;33m\u001b[0m\u001b[0m\n\u001b[0m\u001b[0;32m    176\u001b[0m                 \u001b[1;34m\"shape b x 32 x 512\"\u001b[0m\u001b[1;33m\u001b[0m\u001b[1;33m\u001b[0m\u001b[0m\n\u001b[0;32m    177\u001b[0m                 \u001b[0mreal_feature_list\u001b[0m\u001b[1;33m.\u001b[0m\u001b[0mappend\u001b[0m\u001b[1;33m(\u001b[0m\u001b[0mlidar_feature\u001b[0m\u001b[1;33m)\u001b[0m\u001b[1;33m\u001b[0m\u001b[1;33m\u001b[0m\u001b[0m\n",
      "\u001b[1;32mc:\\Users\\Chen_Xinyan\\anaconda3\\envs\\pytorch\\lib\\site-packages\\torch\\nn\\modules\\module.py\u001b[0m in \u001b[0;36m_wrapped_call_impl\u001b[1;34m(self, *args, **kwargs)\u001b[0m\n\u001b[0;32m   1516\u001b[0m             \u001b[1;32mreturn\u001b[0m \u001b[0mself\u001b[0m\u001b[1;33m.\u001b[0m\u001b[0m_compiled_call_impl\u001b[0m\u001b[1;33m(\u001b[0m\u001b[1;33m*\u001b[0m\u001b[0margs\u001b[0m\u001b[1;33m,\u001b[0m \u001b[1;33m**\u001b[0m\u001b[0mkwargs\u001b[0m\u001b[1;33m)\u001b[0m  \u001b[1;31m# type: ignore[misc]\u001b[0m\u001b[1;33m\u001b[0m\u001b[1;33m\u001b[0m\u001b[0m\n\u001b[0;32m   1517\u001b[0m         \u001b[1;32melse\u001b[0m\u001b[1;33m:\u001b[0m\u001b[1;33m\u001b[0m\u001b[1;33m\u001b[0m\u001b[0m\n\u001b[1;32m-> 1518\u001b[1;33m             \u001b[1;32mreturn\u001b[0m \u001b[0mself\u001b[0m\u001b[1;33m.\u001b[0m\u001b[0m_call_impl\u001b[0m\u001b[1;33m(\u001b[0m\u001b[1;33m*\u001b[0m\u001b[0margs\u001b[0m\u001b[1;33m,\u001b[0m \u001b[1;33m**\u001b[0m\u001b[0mkwargs\u001b[0m\u001b[1;33m)\u001b[0m\u001b[1;33m\u001b[0m\u001b[1;33m\u001b[0m\u001b[0m\n\u001b[0m\u001b[0;32m   1519\u001b[0m \u001b[1;33m\u001b[0m\u001b[0m\n\u001b[0;32m   1520\u001b[0m     \u001b[1;32mdef\u001b[0m \u001b[0m_call_impl\u001b[0m\u001b[1;33m(\u001b[0m\u001b[0mself\u001b[0m\u001b[1;33m,\u001b[0m \u001b[1;33m*\u001b[0m\u001b[0margs\u001b[0m\u001b[1;33m,\u001b[0m \u001b[1;33m**\u001b[0m\u001b[0mkwargs\u001b[0m\u001b[1;33m)\u001b[0m\u001b[1;33m:\u001b[0m\u001b[1;33m\u001b[0m\u001b[1;33m\u001b[0m\u001b[0m\n",
      "\u001b[1;32mc:\\Users\\Chen_Xinyan\\anaconda3\\envs\\pytorch\\lib\\site-packages\\torch\\nn\\modules\\module.py\u001b[0m in \u001b[0;36m_call_impl\u001b[1;34m(self, *args, **kwargs)\u001b[0m\n\u001b[0;32m   1525\u001b[0m                 \u001b[1;32mor\u001b[0m \u001b[0m_global_backward_pre_hooks\u001b[0m \u001b[1;32mor\u001b[0m \u001b[0m_global_backward_hooks\u001b[0m\u001b[1;33m\u001b[0m\u001b[1;33m\u001b[0m\u001b[0m\n\u001b[0;32m   1526\u001b[0m                 or _global_forward_hooks or _global_forward_pre_hooks):\n\u001b[1;32m-> 1527\u001b[1;33m             \u001b[1;32mreturn\u001b[0m \u001b[0mforward_call\u001b[0m\u001b[1;33m(\u001b[0m\u001b[1;33m*\u001b[0m\u001b[0margs\u001b[0m\u001b[1;33m,\u001b[0m \u001b[1;33m**\u001b[0m\u001b[0mkwargs\u001b[0m\u001b[1;33m)\u001b[0m\u001b[1;33m\u001b[0m\u001b[1;33m\u001b[0m\u001b[0m\n\u001b[0m\u001b[0;32m   1528\u001b[0m \u001b[1;33m\u001b[0m\u001b[0m\n\u001b[0;32m   1529\u001b[0m         \u001b[1;32mtry\u001b[0m\u001b[1;33m:\u001b[0m\u001b[1;33m\u001b[0m\u001b[1;33m\u001b[0m\u001b[0m\n",
      "\u001b[1;32mc:\\Users\\Chen_Xinyan\\Desktop\\Modality_Invariant\\HAR\\MI_model_5_4input.py\u001b[0m in \u001b[0;36mforward\u001b[1;34m(self, x)\u001b[0m\n\u001b[0;32m     73\u001b[0m     \u001b[1;32mdef\u001b[0m \u001b[0mforward\u001b[0m\u001b[1;33m(\u001b[0m\u001b[0mself\u001b[0m\u001b[1;33m,\u001b[0m \u001b[0mx\u001b[0m\u001b[1;33m)\u001b[0m\u001b[1;33m:\u001b[0m\u001b[1;33m\u001b[0m\u001b[1;33m\u001b[0m\u001b[0m\n\u001b[0;32m     74\u001b[0m         \u001b[0mxyz\u001b[0m \u001b[1;33m=\u001b[0m \u001b[0mx\u001b[0m\u001b[1;33m[\u001b[0m\u001b[1;33m...\u001b[0m\u001b[1;33m,\u001b[0m \u001b[1;33m:\u001b[0m\u001b[1;36m3\u001b[0m\u001b[1;33m]\u001b[0m\u001b[1;33m\u001b[0m\u001b[1;33m\u001b[0m\u001b[0m\n\u001b[1;32m---> 75\u001b[1;33m         \u001b[0mpoints\u001b[0m \u001b[1;33m=\u001b[0m \u001b[0mself\u001b[0m\u001b[1;33m.\u001b[0m\u001b[0mtransformer1\u001b[0m\u001b[1;33m(\u001b[0m\u001b[0mxyz\u001b[0m\u001b[1;33m,\u001b[0m \u001b[0mself\u001b[0m\u001b[1;33m.\u001b[0m\u001b[0mfc1\u001b[0m\u001b[1;33m(\u001b[0m\u001b[0mx\u001b[0m\u001b[1;33m)\u001b[0m\u001b[1;33m)\u001b[0m\u001b[1;33m[\u001b[0m\u001b[1;36m0\u001b[0m\u001b[1;33m]\u001b[0m\u001b[1;33m\u001b[0m\u001b[1;33m\u001b[0m\u001b[0m\n\u001b[0m\u001b[0;32m     76\u001b[0m \u001b[1;33m\u001b[0m\u001b[0m\n\u001b[0;32m     77\u001b[0m         \u001b[0mxyz_and_feats\u001b[0m \u001b[1;33m=\u001b[0m \u001b[1;33m[\u001b[0m\u001b[1;33m(\u001b[0m\u001b[0mxyz\u001b[0m\u001b[1;33m,\u001b[0m \u001b[0mpoints\u001b[0m\u001b[1;33m)\u001b[0m\u001b[1;33m]\u001b[0m\u001b[1;33m\u001b[0m\u001b[1;33m\u001b[0m\u001b[0m\n",
      "\u001b[1;32mc:\\Users\\Chen_Xinyan\\anaconda3\\envs\\pytorch\\lib\\site-packages\\torch\\nn\\modules\\module.py\u001b[0m in \u001b[0;36m_wrapped_call_impl\u001b[1;34m(self, *args, **kwargs)\u001b[0m\n\u001b[0;32m   1516\u001b[0m             \u001b[1;32mreturn\u001b[0m \u001b[0mself\u001b[0m\u001b[1;33m.\u001b[0m\u001b[0m_compiled_call_impl\u001b[0m\u001b[1;33m(\u001b[0m\u001b[1;33m*\u001b[0m\u001b[0margs\u001b[0m\u001b[1;33m,\u001b[0m \u001b[1;33m**\u001b[0m\u001b[0mkwargs\u001b[0m\u001b[1;33m)\u001b[0m  \u001b[1;31m# type: ignore[misc]\u001b[0m\u001b[1;33m\u001b[0m\u001b[1;33m\u001b[0m\u001b[0m\n\u001b[0;32m   1517\u001b[0m         \u001b[1;32melse\u001b[0m\u001b[1;33m:\u001b[0m\u001b[1;33m\u001b[0m\u001b[1;33m\u001b[0m\u001b[0m\n\u001b[1;32m-> 1518\u001b[1;33m             \u001b[1;32mreturn\u001b[0m \u001b[0mself\u001b[0m\u001b[1;33m.\u001b[0m\u001b[0m_call_impl\u001b[0m\u001b[1;33m(\u001b[0m\u001b[1;33m*\u001b[0m\u001b[0margs\u001b[0m\u001b[1;33m,\u001b[0m \u001b[1;33m**\u001b[0m\u001b[0mkwargs\u001b[0m\u001b[1;33m)\u001b[0m\u001b[1;33m\u001b[0m\u001b[1;33m\u001b[0m\u001b[0m\n\u001b[0m\u001b[0;32m   1519\u001b[0m \u001b[1;33m\u001b[0m\u001b[0m\n\u001b[0;32m   1520\u001b[0m     \u001b[1;32mdef\u001b[0m \u001b[0m_call_impl\u001b[0m\u001b[1;33m(\u001b[0m\u001b[0mself\u001b[0m\u001b[1;33m,\u001b[0m \u001b[1;33m*\u001b[0m\u001b[0margs\u001b[0m\u001b[1;33m,\u001b[0m \u001b[1;33m**\u001b[0m\u001b[0mkwargs\u001b[0m\u001b[1;33m)\u001b[0m\u001b[1;33m:\u001b[0m\u001b[1;33m\u001b[0m\u001b[1;33m\u001b[0m\u001b[0m\n",
      "\u001b[1;32mc:\\Users\\Chen_Xinyan\\anaconda3\\envs\\pytorch\\lib\\site-packages\\torch\\nn\\modules\\module.py\u001b[0m in \u001b[0;36m_call_impl\u001b[1;34m(self, *args, **kwargs)\u001b[0m\n\u001b[0;32m   1525\u001b[0m                 \u001b[1;32mor\u001b[0m \u001b[0m_global_backward_pre_hooks\u001b[0m \u001b[1;32mor\u001b[0m \u001b[0m_global_backward_hooks\u001b[0m\u001b[1;33m\u001b[0m\u001b[1;33m\u001b[0m\u001b[0m\n\u001b[0;32m   1526\u001b[0m                 or _global_forward_hooks or _global_forward_pre_hooks):\n\u001b[1;32m-> 1527\u001b[1;33m             \u001b[1;32mreturn\u001b[0m \u001b[0mforward_call\u001b[0m\u001b[1;33m(\u001b[0m\u001b[1;33m*\u001b[0m\u001b[0margs\u001b[0m\u001b[1;33m,\u001b[0m \u001b[1;33m**\u001b[0m\u001b[0mkwargs\u001b[0m\u001b[1;33m)\u001b[0m\u001b[1;33m\u001b[0m\u001b[1;33m\u001b[0m\u001b[0m\n\u001b[0m\u001b[0;32m   1528\u001b[0m \u001b[1;33m\u001b[0m\u001b[0m\n\u001b[0;32m   1529\u001b[0m         \u001b[1;32mtry\u001b[0m\u001b[1;33m:\u001b[0m\u001b[1;33m\u001b[0m\u001b[1;33m\u001b[0m\u001b[0m\n",
      "\u001b[1;32mc:\\Users\\Chen_Xinyan\\Desktop\\Modality_Invariant\\HAR\\HAR_lidar_benchmark\\lidar_point_transformer.py\u001b[0m in \u001b[0;36mforward\u001b[1;34m(self, xyz, features)\u001b[0m\n\u001b[0;32m     42\u001b[0m         \u001b[0mattn\u001b[0m \u001b[1;33m=\u001b[0m \u001b[0mF\u001b[0m\u001b[1;33m.\u001b[0m\u001b[0msoftmax\u001b[0m\u001b[1;33m(\u001b[0m\u001b[0mattn\u001b[0m \u001b[1;33m/\u001b[0m \u001b[0mnp\u001b[0m\u001b[1;33m.\u001b[0m\u001b[0msqrt\u001b[0m\u001b[1;33m(\u001b[0m\u001b[0mk\u001b[0m\u001b[1;33m.\u001b[0m\u001b[0msize\u001b[0m\u001b[1;33m(\u001b[0m\u001b[1;33m-\u001b[0m\u001b[1;36m1\u001b[0m\u001b[1;33m)\u001b[0m\u001b[1;33m)\u001b[0m\u001b[1;33m,\u001b[0m \u001b[0mdim\u001b[0m\u001b[1;33m=\u001b[0m\u001b[1;33m-\u001b[0m\u001b[1;36m2\u001b[0m\u001b[1;33m)\u001b[0m  \u001b[1;31m# b x n x k x f\u001b[0m\u001b[1;33m\u001b[0m\u001b[1;33m\u001b[0m\u001b[0m\n\u001b[0;32m     43\u001b[0m \u001b[1;33m\u001b[0m\u001b[0m\n\u001b[1;32m---> 44\u001b[1;33m         \u001b[0mres\u001b[0m \u001b[1;33m=\u001b[0m \u001b[0mtorch\u001b[0m\u001b[1;33m.\u001b[0m\u001b[0meinsum\u001b[0m\u001b[1;33m(\u001b[0m\u001b[1;34m'bmnf,bmnf->bmf'\u001b[0m\u001b[1;33m,\u001b[0m \u001b[0mattn\u001b[0m\u001b[1;33m,\u001b[0m \u001b[0mv\u001b[0m \u001b[1;33m+\u001b[0m \u001b[0mpos_enc\u001b[0m\u001b[1;33m)\u001b[0m\u001b[1;33m\u001b[0m\u001b[1;33m\u001b[0m\u001b[0m\n\u001b[0m\u001b[0;32m     45\u001b[0m         \u001b[0mres\u001b[0m \u001b[1;33m=\u001b[0m \u001b[0mself\u001b[0m\u001b[1;33m.\u001b[0m\u001b[0mfc2\u001b[0m\u001b[1;33m(\u001b[0m\u001b[0mres\u001b[0m\u001b[1;33m)\u001b[0m \u001b[1;33m+\u001b[0m \u001b[0mpre\u001b[0m\u001b[1;33m\u001b[0m\u001b[1;33m\u001b[0m\u001b[0m\n\u001b[0;32m     46\u001b[0m         \u001b[1;32mreturn\u001b[0m \u001b[0mres\u001b[0m\u001b[1;33m,\u001b[0m\u001b[1;33m\u001b[0m\u001b[1;33m\u001b[0m\u001b[0m\n",
      "\u001b[1;32mc:\\Users\\Chen_Xinyan\\anaconda3\\envs\\pytorch\\lib\\site-packages\\torch\\functional.py\u001b[0m in \u001b[0;36meinsum\u001b[1;34m(*args)\u001b[0m\n\u001b[0;32m    375\u001b[0m         \u001b[1;31m# the path for contracting 0 or 1 time(s) is already optimized\u001b[0m\u001b[1;33m\u001b[0m\u001b[1;33m\u001b[0m\u001b[0m\n\u001b[0;32m    376\u001b[0m         \u001b[1;31m# or the user has disabled using opt_einsum\u001b[0m\u001b[1;33m\u001b[0m\u001b[1;33m\u001b[0m\u001b[0m\n\u001b[1;32m--> 377\u001b[1;33m         \u001b[1;32mreturn\u001b[0m \u001b[0m_VF\u001b[0m\u001b[1;33m.\u001b[0m\u001b[0meinsum\u001b[0m\u001b[1;33m(\u001b[0m\u001b[0mequation\u001b[0m\u001b[1;33m,\u001b[0m \u001b[0moperands\u001b[0m\u001b[1;33m)\u001b[0m  \u001b[1;31m# type: ignore[attr-defined]\u001b[0m\u001b[1;33m\u001b[0m\u001b[1;33m\u001b[0m\u001b[0m\n\u001b[0m\u001b[0;32m    378\u001b[0m \u001b[1;33m\u001b[0m\u001b[0m\n\u001b[0;32m    379\u001b[0m     \u001b[0mpath\u001b[0m \u001b[1;33m=\u001b[0m \u001b[1;32mNone\u001b[0m\u001b[1;33m\u001b[0m\u001b[1;33m\u001b[0m\u001b[0m\n",
      "\u001b[1;31mOutOfMemoryError\u001b[0m: CUDA out of memory. Tried to allocate 708.00 MiB. GPU 0 has a total capacty of 23.99 GiB of which 0 bytes is free. Of the allocated memory 21.23 GiB is allocated by PyTorch, and 1.25 GiB is reserved by PyTorch but unallocated. If reserved but unallocated memory is large try setting max_split_size_mb to avoid fragmentation.  See documentation for Memory Management and PYTORCH_CUDA_ALLOC_CONF"
     ]
    }
   ],
   "source": [
    "test(model, val_loader, criterion, device)"
   ]
  },
  {
   "cell_type": "code",
   "execution_count": 27,
   "metadata": {},
   "outputs": [
    {
     "name": "stderr",
     "output_type": "stream",
     "text": [
      "0it [00:00, ?it/s]\n"
     ]
    }
   ],
   "source": [
    "for i, data in tqdm(enumerate(val_loader)):\n",
    "    start_time = time.time()\n",
    "    modality_list = [True, True, True, True]\n",
    "    rgb_data, depth_data, lidar_data, mmwave_data, label, _ = data\n",
    "    # t1 = time.time()\n",
    "    # load_time = t1 - start_time \n",
    "    rgb_data = rgb_data.to(device)\n",
    "    depth_data = depth_data.to(device)\n",
    "    lidar_data = lidar_data.to(device)\n",
    "    mmwave_data = mmwave_data.to(device)\n",
    "    # wifi_data = wifi_data.to(device)\n",
    "    label.to(device)\n",
    "    labels = label.type(torch.LongTensor)\n",
    "    out, feature_list, projected_features, cross_modal_embedding, cross_attention_embedding = model(rgb_data, depth_data,  mmwave_data, lidar_data, modality_list)\n",
    "    outputs = out.type(torch.FloatTensor)\n",
    "    if i == 0:\n",
    "        break"
   ]
  },
  {
   "cell_type": "code",
   "execution_count": 8,
   "metadata": {},
   "outputs": [
    {
     "name": "stdout",
     "output_type": "stream",
     "text": [
      "accuracy:  0.8125\n"
     ]
    }
   ],
   "source": [
    "predict_y = out.argmax(dim=1).detach().cpu()\n",
    "accuracy = (predict_y == labels).sum().item()/labels.size(0)\n",
    "print('accuracy: ', accuracy)"
   ]
  },
  {
   "cell_type": "code",
   "execution_count": 28,
   "metadata": {},
   "outputs": [
    {
     "name": "stdout",
     "output_type": "stream",
     "text": [
      "tensor([0, 0, 0, 0, 0, 0, 0, 0, 0, 0, 0, 0, 0, 0, 0, 0])\n"
     ]
    }
   ],
   "source": [
    "print(labels)"
   ]
  },
  {
   "cell_type": "code",
   "execution_count": 29,
   "metadata": {},
   "outputs": [
    {
     "name": "stdout",
     "output_type": "stream",
     "text": [
      "4\n",
      "torch.Size([16, 128, 512])\n"
     ]
    }
   ],
   "source": [
    "print(len(feature_list))\n",
    "print(projected_features.shape)"
   ]
  },
  {
   "cell_type": "code",
   "execution_count": 30,
   "metadata": {},
   "outputs": [],
   "source": [
    "def show_image(image):\n",
    "    img = np.asarray(image)\n",
    "    plt.figure(figsize=(5, 5))\n",
    "    plt.imshow(image)\n",
    "    plt.axis('off')\n",
    "    plt.show()\n",
    "\n",
    "def show_image2(image1, image2, alpha=0.8):\n",
    "    img1 = np.asarray(image1)\n",
    "    img2 = np.asarray(image2)\n",
    "    plt.figure(figsize=(100, 10))\n",
    "    plt.imshow(img1)\n",
    "    plt.imshow(img2, alpha=alpha)\n",
    "    plt.axis('off')\n",
    "    plt.show()"
   ]
  },
  {
   "cell_type": "code",
   "execution_count": 31,
   "metadata": {},
   "outputs": [
    {
     "data": {
      "image/png": "[encoded data removed]",
      "text/plain": [
       "<Figure size 360x360 with 1 Axes>"
      ]
     },
     "metadata": {
      "needs_background": "light"
     },
     "output_type": "display_data"
    },
    {
     "data": {
      "image/png": "[encoded data removed]",
      "text/plain": [
       "<Figure size 360x360 with 1 Axes>"
      ]
     },
     "metadata": {
      "needs_background": "light"
     },
     "output_type": "display_data"
    },
    {
     "data": {
      "image/png": "[encoded data removed]",
      "text/plain": [
       "<Figure size 360x360 with 1 Axes>"
      ]
     },
     "metadata": {
      "needs_background": "light"
     },
     "output_type": "display_data"
    },
    {
     "data": {
      "image/png": "[encoded data removed]",
      "text/plain": [
       "<Figure size 360x360 with 1 Axes>"
      ]
     },
     "metadata": {
      "needs_background": "light"
     },
     "output_type": "display_data"
    }
   ],
   "source": [
    "rgb_feature = feature_list[0]\n",
    "depth_feature = feature_list[1]\n",
    "mmwave_feature = feature_list[2]\n",
    "lidar_feature = feature_list[3]\n",
    "\n",
    "pool = nn.AdaptiveAvgPool1d(256)\n",
    "\n",
    "rgb_sample = torch.mean(torch.mean(pool(rgb_feature), dim=0), dim=0).reshape(16,16)\n",
    "depth_sample = torch.mean(torch.mean(pool(depth_feature), dim=0), dim=0).reshape(16,16)\n",
    "mmwave_sample = torch.mean(torch.mean(pool(mmwave_feature), dim=0), dim=0).reshape(16,16)\n",
    "lidar_sample = torch.mean(torch.mean(pool(lidar_feature), dim=0), dim=0).reshape(16,16)\n",
    "\n",
    "show_image(rgb_sample.detach().cpu())\n",
    "show_image(depth_sample.detach().cpu())\n",
    "show_image(mmwave_sample.detach().cpu())\n",
    "show_image(lidar_sample.detach().cpu())"
   ]
  },
  {
   "cell_type": "code",
   "execution_count": 32,
   "metadata": {},
   "outputs": [
    {
     "data": {
      "image/png": "[encoded data removed]",
      "text/plain": [
       "<Figure size 360x360 with 1 Axes>"
      ]
     },
     "metadata": {
      "needs_background": "light"
     },
     "output_type": "display_data"
    },
    {
     "data": {
      "image/png": "[encoded data removed]",
      "text/plain": [
       "<Figure size 360x360 with 1 Axes>"
      ]
     },
     "metadata": {
      "needs_background": "light"
     },
     "output_type": "display_data"
    },
    {
     "data": {
      "image/png": "[encoded data removed]",
      "text/plain": [
       "<Figure size 360x360 with 1 Axes>"
      ]
     },
     "metadata": {
      "needs_background": "light"
     },
     "output_type": "display_data"
    },
    {
     "data": {
      "image/png": "[encoded data removed]",
      "text/plain": [
       "<Figure size 360x360 with 1 Axes>"
      ]
     },
     "metadata": {
      "needs_background": "light"
     },
     "output_type": "display_data"
    }
   ],
   "source": [
    "# out, feature_list, projected_features, cross_modal_embedding, cross_attention_embedding\n",
    "projected_features_list = list(projected_features.chunk(4, dim = 1))\n",
    "rgb_projected = projected_features_list[0]\n",
    "depth_projected = projected_features_list[1]\n",
    "mmwave_projected = projected_features_list[2]\n",
    "lidar_projected = projected_features_list[3]\n",
    "\n",
    "pool = nn.AdaptiveAvgPool1d(256)\n",
    "\n",
    "# rgb_projected_sample = rgb_projected[0]\n",
    "# depth_projected_sample = depth_projected[0]\n",
    "# lidar_projected_sample = lidar_projected[0]\n",
    "# mmwave_projected_sample = mmwave_projected[0]\n",
    "# rgb_projected_sample = pool(torch.mean(rgb_projected, dim=0))\n",
    "# depth_projected_sample = pool(torch.mean(depth_projected, dim=0))\n",
    "# lidar_projected_sample = pool(torch.mean(lidar_projected, dim=0))\n",
    "# mmwave_projected_sample = pool(torch.mean(mmwave_projected, dim=0))\n",
    "rgb_projected_sample = torch.mean(pool(torch.mean(rgb_projected, dim=0)), dim=0).reshape(16,16)\n",
    "depth_projected_sample = torch.mean(pool(torch.mean(depth_projected, dim=0)), dim=0).reshape(16,16)\n",
    "lidar_projected_sample = torch.mean(pool(torch.mean(lidar_projected, dim=0)), dim=0).reshape(16,16)\n",
    "mmwave_projected_sample = torch.mean(pool(torch.mean(mmwave_projected, dim=0)), dim=0).reshape(16,16)\n",
    "\n",
    "\n",
    "show_image(rgb_projected_sample.detach().cpu())\n",
    "show_image(depth_projected_sample.detach().cpu())\n",
    "show_image(mmwave_projected_sample.detach().cpu())\n",
    "show_image(lidar_projected_sample.detach().cpu())"
   ]
  },
  {
   "cell_type": "code",
   "execution_count": 33,
   "metadata": {},
   "outputs": [
    {
     "data": {
      "image/png": "[encoded data removed]",
      "text/plain": [
       "<Figure size 360x360 with 1 Axes>"
      ]
     },
     "metadata": {
      "needs_background": "light"
     },
     "output_type": "display_data"
    },
    {
     "data": {
      "image/png": "[encoded data removed]",
      "text/plain": [
       "<Figure size 360x360 with 1 Axes>"
      ]
     },
     "metadata": {
      "needs_background": "light"
     },
     "output_type": "display_data"
    },
    {
     "data": {
      "image/png": "[encoded data removed]",
      "text/plain": [
       "<Figure size 360x360 with 1 Axes>"
      ]
     },
     "metadata": {
      "needs_background": "light"
     },
     "output_type": "display_data"
    },
    {
     "data": {
      "image/png": "[encoded data removed]",
      "text/plain": [
       "<Figure size 360x360 with 1 Axes>"
      ]
     },
     "metadata": {
      "needs_background": "light"
     },
     "output_type": "display_data"
    },
    {
     "data": {
      "image/png": "[encoded data removed]",
      "text/plain": [
       "<Figure size 360x360 with 1 Axes>"
      ]
     },
     "metadata": {
      "needs_background": "light"
     },
     "output_type": "display_data"
    }
   ],
   "source": [
    "# print(cross_modal_embedding.shape)\n",
    "cross_modal_embedding_layer_0 = cross_modal_embedding[\"layer0\"]\n",
    "cross_modal_embedding_layer_1 = cross_modal_embedding[\"layer1\"]\n",
    "cross_modal_embedding_layer_2 = cross_modal_embedding[\"layer2\"]\n",
    "cross_modal_embedding_layer_3 = cross_modal_embedding[\"layer3\"]\n",
    "cross_modal_embedding_layer_4 = cross_modal_embedding[\"layer4\"]\n",
    "\n",
    "pool = nn.AdaptiveAvgPool1d(256)\n",
    "\n",
    "# cross_modal_embedding_0_sample = pool(torch.mean(cross_modal_embedding_layer_0, dim=0))\n",
    "# cross_modal_embedding_1_sample = pool(torch.mean(cross_modal_embedding_layer_1, dim=0))\n",
    "# cross_modal_embedding_2_sample = pool(torch.mean(cross_modal_embedding_layer_2, dim=0))\n",
    "# cross_modal_embedding_3_sample = pool(torch.mean(cross_modal_embedding_layer_3, dim=0))\n",
    "cross_modal_embedding_0_sample = torch.mean(pool(torch.mean(cross_modal_embedding_layer_0, dim=0)), dim=0).reshape(16,16)\n",
    "cross_modal_embedding_1_sample = torch.mean(pool(torch.mean(cross_modal_embedding_layer_1, dim=0)), dim=0).reshape(16,16)\n",
    "cross_modal_embedding_2_sample = torch.mean(pool(torch.mean(cross_modal_embedding_layer_2, dim=0)), dim=0).reshape(16,16)\n",
    "cross_modal_embedding_3_sample = torch.mean(pool(torch.mean(cross_modal_embedding_layer_3, dim=0)), dim=0).reshape(16,16)\n",
    "cross_modal_embedding_4_sample = torch.mean(pool(torch.mean(cross_modal_embedding_layer_4, dim=0)), dim=0).reshape(16,16)\n",
    "\n",
    "show_image(cross_modal_embedding_0_sample.detach().cpu())\n",
    "show_image(cross_modal_embedding_1_sample.detach().cpu())\n",
    "show_image(cross_modal_embedding_2_sample.detach().cpu())\n",
    "show_image(cross_modal_embedding_3_sample.detach().cpu())\n",
    "show_image(cross_modal_embedding_4_sample.detach().cpu())"
   ]
  },
  {
   "cell_type": "code",
   "execution_count": 34,
   "metadata": {},
   "outputs": [
    {
     "data": {
      "image/png": "[encoded data removed]",
      "text/plain": [
       "<Figure size 360x360 with 1 Axes>"
      ]
     },
     "metadata": {
      "needs_background": "light"
     },
     "output_type": "display_data"
    },
    {
     "data": {
      "image/png": "[encoded data removed]",
      "text/plain": [
       "<Figure size 360x360 with 1 Axes>"
      ]
     },
     "metadata": {
      "needs_background": "light"
     },
     "output_type": "display_data"
    },
    {
     "data": {
      "image/png": "[encoded data removed]",
      "text/plain": [
       "<Figure size 360x360 with 1 Axes>"
      ]
     },
     "metadata": {
      "needs_background": "light"
     },
     "output_type": "display_data"
    },
    {
     "data": {
      "image/png": "[encoded data removed]",
      "text/plain": [
       "<Figure size 360x360 with 1 Axes>"
      ]
     },
     "metadata": {
      "needs_background": "light"
     },
     "output_type": "display_data"
    },
    {
     "data": {
      "image/png": "[encoded data removed]",
      "text/plain": [
       "<Figure size 360x360 with 1 Axes>"
      ]
     },
     "metadata": {
      "needs_background": "light"
     },
     "output_type": "display_data"
    }
   ],
   "source": [
    "cross_attention_embedding_layer_0 = cross_attention_embedding[\"layer1\"]\n",
    "# cross_attention_embedding_layer_1 = cross_attention_embedding[\"layer1\"]\n",
    "# cross_attention_embedding_layer_2 = cross_attention_embedding[\"layer2\"]\n",
    "\n",
    "modal_features_list = list(cross_attention_embedding_layer_0.chunk(4, dim = 1))\n",
    "rgb_injected = modal_features_list[0]\n",
    "depth_injected = modal_features_list[1]\n",
    "mmwave_injected = modal_features_list[2]\n",
    "lidar_injected = modal_features_list[3]\n",
    "\n",
    "pool = nn.AdaptiveAvgPool1d(256)\n",
    "\n",
    "# rgb_injected_sample = rgb_injected[0]\n",
    "# depth_injected_sample = depth_injected[0]\n",
    "# lidar_injected_sample = lidar_injected[0]\n",
    "# mmwave_injected_sample = mmwave_injected[0]\n",
    "# rgb_injected_sample = pool(torch.mean(rgb_injected, dim=0))\n",
    "# depth_injected_sample = pool(torch.mean(depth_injected, dim=0))\n",
    "# lidar_injected_sample = pool(torch.mean(lidar_injected, dim=0))\n",
    "# mmwave_injected_sample = pool(torch.mean(mmwave_injected, dim=0))\n",
    "rgb_injected_sample_0 = torch.mean(pool(torch.mean(rgb_injected, dim=0)), dim=0).reshape(16,16)\n",
    "depth_injected_sample_0 = torch.mean(pool(torch.mean(depth_injected, dim=0)), dim=0).reshape(16,16)\n",
    "lidar_injected_sample_0 = torch.mean(pool(torch.mean(lidar_injected, dim=0)), dim=0).reshape(16,16)\n",
    "mmwave_injected_sample_0 = torch.mean(pool(torch.mean(mmwave_injected, dim=0)), dim=0).reshape(16,16)\n",
    "\n",
    "# show_image2(rgb_sample.detach().cpu(), rgb_injected_sample.detach().cpu())\n",
    "show_image(cross_modal_embedding_0_sample.detach().cpu())\n",
    "show_image(rgb_injected_sample_0.detach().cpu())\n",
    "show_image(depth_injected_sample_0.detach().cpu())\n",
    "show_image(mmwave_injected_sample_0.detach().cpu())\n",
    "show_image(lidar_injected_sample_0.detach().cpu())"
   ]
  },
  {
   "cell_type": "code",
   "execution_count": 35,
   "metadata": {},
   "outputs": [
    {
     "data": {
      "image/png": "[encoded data removed]",
      "text/plain": [
       "<Figure size 360x360 with 1 Axes>"
      ]
     },
     "metadata": {
      "needs_background": "light"
     },
     "output_type": "display_data"
    },
    {
     "data": {
      "image/png": "[encoded data removed]",
      "text/plain": [
       "<Figure size 360x360 with 1 Axes>"
      ]
     },
     "metadata": {
      "needs_background": "light"
     },
     "output_type": "display_data"
    },
    {
     "data": {
      "image/png": "[encoded data removed]",
      "text/plain": [
       "<Figure size 360x360 with 1 Axes>"
      ]
     },
     "metadata": {
      "needs_background": "light"
     },
     "output_type": "display_data"
    },
    {
     "data": {
      "image/png": "[encoded data removed]",
      "text/plain": [
       "<Figure size 360x360 with 1 Axes>"
      ]
     },
     "metadata": {
      "needs_background": "light"
     },
     "output_type": "display_data"
    },
    {
     "data": {
      "image/png": "[encoded data removed]",
      "text/plain": [
       "<Figure size 360x360 with 1 Axes>"
      ]
     },
     "metadata": {
      "needs_background": "light"
     },
     "output_type": "display_data"
    }
   ],
   "source": [
    "cross_attention_embedding_layer_1 = cross_attention_embedding[\"layer2\"]\n",
    "\n",
    "modal_features_list = list(cross_attention_embedding_layer_1.chunk(4, dim = 1))\n",
    "rgb_injected = modal_features_list[0]\n",
    "depth_injected = modal_features_list[1]\n",
    "mmwave_injected = modal_features_list[2]\n",
    "lidar_injected = modal_features_list[3]\n",
    "\n",
    "# rgb_injected_sample = pool(torch.mean(rgb_injected, dim=0))\n",
    "# depth_injected_sample = pool(torch.mean(depth_injected, dim=0))\n",
    "# lidar_injected_sample = pool(torch.mean(lidar_injected, dim=0))\n",
    "# mmwave_injected_sample = pool(torch.mean(mmwave_injected, dim=0))\n",
    "\n",
    "rgb_injected_sample_1 = torch.mean(pool(torch.mean(rgb_injected, dim=0)), dim=0).reshape(16,16)\n",
    "depth_injected_sample_1 = torch.mean(pool(torch.mean(depth_injected, dim=0)), dim=0).reshape(16,16)\n",
    "lidar_injected_sample_1 = torch.mean(pool(torch.mean(lidar_injected, dim=0)), dim=0).reshape(16,16)\n",
    "mmwave_injected_sample_1 = torch.mean(pool(torch.mean(mmwave_injected, dim=0)), dim=0).reshape(16,16)\n",
    "\n",
    "show_image(cross_modal_embedding_1_sample.detach().cpu())\n",
    "show_image(rgb_injected_sample_1.detach().cpu())\n",
    "show_image(depth_injected_sample_1.detach().cpu())\n",
    "show_image(mmwave_injected_sample_1.detach().cpu())\n",
    "show_image(lidar_injected_sample_1.detach().cpu())"
   ]
  },
  {
   "cell_type": "code",
   "execution_count": 36,
   "metadata": {},
   "outputs": [
    {
     "data": {
      "image/png": "[encoded data removed]",
      "text/plain": [
       "<Figure size 360x360 with 1 Axes>"
      ]
     },
     "metadata": {
      "needs_background": "light"
     },
     "output_type": "display_data"
    },
    {
     "data": {
      "image/png": "[encoded data removed]",
      "text/plain": [
       "<Figure size 360x360 with 1 Axes>"
      ]
     },
     "metadata": {
      "needs_background": "light"
     },
     "output_type": "display_data"
    },
    {
     "data": {
      "image/png": "[encoded data removed]",
      "text/plain": [
       "<Figure size 360x360 with 1 Axes>"
      ]
     },
     "metadata": {
      "needs_background": "light"
     },
     "output_type": "display_data"
    },
    {
     "data": {
      "image/png": "[encoded data removed]",
      "text/plain": [
       "<Figure size 360x360 with 1 Axes>"
      ]
     },
     "metadata": {
      "needs_background": "light"
     },
     "output_type": "display_data"
    },
    {
     "data": {
      "image/png": "[encoded data removed]",
      "text/plain": [
       "<Figure size 360x360 with 1 Axes>"
      ]
     },
     "metadata": {
      "needs_background": "light"
     },
     "output_type": "display_data"
    }
   ],
   "source": [
    "cross_attention_embedding_layer_2 = cross_attention_embedding[\"layer3\"]\n",
    "\n",
    "modal_features_list = list(cross_attention_embedding_layer_2.chunk(4, dim = 1))\n",
    "rgb_injected = modal_features_list[0]\n",
    "depth_injected = modal_features_list[1]\n",
    "mmwave_injected = modal_features_list[2]\n",
    "lidar_injected = modal_features_list[3]\n",
    "\n",
    "# rgb_injected_sample = pool(torch.mean(rgb_injected, dim=0))\n",
    "# depth_injected_sample = pool(torch.mean(depth_injected, dim=0))\n",
    "# lidar_injected_sample = pool(torch.mean(lidar_injected, dim=0))\n",
    "# mmwave_injected_sample = pool(torch.mean(mmwave_injected, dim=0))\n",
    "\n",
    "rgb_injected_sample_2 = torch.mean(pool(torch.mean(rgb_injected, dim=0)), dim=0).reshape(16,16)\n",
    "depth_injected_sample_2 = torch.mean(pool(torch.mean(depth_injected, dim=0)), dim=0).reshape(16,16)\n",
    "lidar_injected_sample_2 = torch.mean(pool(torch.mean(lidar_injected, dim=0)), dim=0).reshape(16,16)\n",
    "mmwave_injected_sample_2 = torch.mean(pool(torch.mean(mmwave_injected, dim=0)), dim=0).reshape(16,16)\n",
    "\n",
    "show_image(cross_modal_embedding_2_sample.detach().cpu())\n",
    "show_image(rgb_injected_sample_2.detach().cpu())\n",
    "show_image(depth_injected_sample_2.detach().cpu())\n",
    "show_image(mmwave_injected_sample_2.detach().cpu())\n",
    "show_image(lidar_injected_sample_2.detach().cpu())"
   ]
  },
  {
   "cell_type": "code",
   "execution_count": 37,
   "metadata": {},
   "outputs": [
    {
     "data": {
      "image/png": "[encoded data removed]",
      "text/plain": [
       "<Figure size 360x360 with 1 Axes>"
      ]
     },
     "metadata": {
      "needs_background": "light"
     },
     "output_type": "display_data"
    },
    {
     "data": {
      "image/png": "[encoded data removed]",
      "text/plain": [
       "<Figure size 360x360 with 1 Axes>"
      ]
     },
     "metadata": {
      "needs_background": "light"
     },
     "output_type": "display_data"
    },
    {
     "data": {
      "image/png": "[encoded data removed]",
      "text/plain": [
       "<Figure size 360x360 with 1 Axes>"
      ]
     },
     "metadata": {
      "needs_background": "light"
     },
     "output_type": "display_data"
    },
    {
     "data": {
      "image/png": "[encoded data removed]",
      "text/plain": [
       "<Figure size 360x360 with 1 Axes>"
      ]
     },
     "metadata": {
      "needs_background": "light"
     },
     "output_type": "display_data"
    },
    {
     "data": {
      "image/png": "[encoded data removed]",
      "text/plain": [
       "<Figure size 360x360 with 1 Axes>"
      ]
     },
     "metadata": {
      "needs_background": "light"
     },
     "output_type": "display_data"
    }
   ],
   "source": [
    "cross_attention_embedding_layer_3 = cross_attention_embedding[\"layer4\"]\n",
    "\n",
    "modal_features_list = list(cross_attention_embedding_layer_3.chunk(4, dim = 1))\n",
    "rgb_injected = modal_features_list[0]\n",
    "depth_injected = modal_features_list[1]\n",
    "mmwave_injected = modal_features_list[2]\n",
    "lidar_injected = modal_features_list[3]\n",
    "\n",
    "rgb_injected_sample_3 = torch.mean(pool(torch.mean(rgb_injected, dim=0)), dim=0).reshape(16,16)\n",
    "depth_injected_sample_3 = torch.mean(pool(torch.mean(depth_injected, dim=0)), dim=0).reshape(16,16)\n",
    "lidar_injected_sample_3 = torch.mean(pool(torch.mean(lidar_injected, dim=0)), dim=0).reshape(16,16)\n",
    "mmwave_injected_sample_3 = torch.mean(pool(torch.mean(mmwave_injected, dim=0)), dim=0).reshape(16,16)\n",
    "\n",
    "show_image(cross_modal_embedding_3_sample.detach().cpu())\n",
    "show_image(rgb_injected_sample_3.detach().cpu())\n",
    "show_image(depth_injected_sample_3.detach().cpu())\n",
    "show_image(mmwave_injected_sample_3.detach().cpu())\n",
    "show_image(lidar_injected_sample_3.detach().cpu())\n"
   ]
  },
  {
   "cell_type": "code",
   "execution_count": 38,
   "metadata": {},
   "outputs": [
    {
     "name": "stdout",
     "output_type": "stream",
     "text": [
      "dict_keys(['layer1', 'layer2', 'layer3', 'layer4'])\n",
      "dict_keys(['layer0', 'layer1', 'layer2', 'layer3', 'layer4'])\n"
     ]
    }
   ],
   "source": [
    "print(cross_attention_embedding.keys())\n",
    "print(cross_modal_embedding.keys())"
   ]
  },
  {
   "cell_type": "code",
   "execution_count": 39,
   "metadata": {},
   "outputs": [
    {
     "data": {
      "image/png": "[encoded data removed]",
      "text/plain": [
       "<Figure size 1152x1152 with 30 Axes>"
      ]
     },
     "metadata": {
      "needs_background": "light"
     },
     "output_type": "display_data"
    }
   ],
   "source": [
    "fig = plt.figure(figsize=(16, 16))\n",
    "fig.add_subplot(6, 5, 1)\n",
    "blank = np.zeros((16,16))\n",
    "plt.imshow(blank)\n",
    "plt.axis('off')\n",
    "fig.add_subplot(6, 5, 2)\n",
    "plt.imshow(rgb_sample.detach().cpu())\n",
    "plt.axis('off')\n",
    "fig.add_subplot(6, 5, 3)\n",
    "plt.imshow(depth_sample.detach().cpu())\n",
    "plt.axis('off')\n",
    "fig.add_subplot(6, 5, 4)\n",
    "plt.imshow(mmwave_sample.detach().cpu())\n",
    "plt.axis('off')\n",
    "fig.add_subplot(6, 5, 5)\n",
    "plt.imshow(lidar_sample.detach().cpu())\n",
    "plt.axis('off')\n",
    "fig.add_subplot(6, 5, 6)\n",
    "plt.imshow(blank)\n",
    "plt.axis('off')\n",
    "fig.add_subplot(6, 5, 7)\n",
    "plt.imshow(rgb_projected_sample.detach().cpu())\n",
    "plt.axis('off')\n",
    "fig.add_subplot(6, 5, 8)\n",
    "plt.imshow(depth_projected_sample.detach().cpu())\n",
    "plt.axis('off')\n",
    "fig.add_subplot(6, 5, 9)\n",
    "plt.imshow(mmwave_projected_sample.detach().cpu())\n",
    "plt.axis('off')\n",
    "fig.add_subplot(6, 5, 10)\n",
    "plt.imshow(lidar_projected_sample.detach().cpu())\n",
    "plt.axis('off')\n",
    "fig.add_subplot(6, 5, 11)\n",
    "plt.imshow(cross_modal_embedding_0_sample.detach().cpu())\n",
    "plt.axis('off')\n",
    "fig.add_subplot(6, 5, 12)\n",
    "plt.imshow(rgb_injected_sample_0.detach().cpu())\n",
    "plt.axis('off')\n",
    "fig.add_subplot(6, 5, 13)\n",
    "plt.imshow(depth_injected_sample_0.detach().cpu())\n",
    "plt.axis('off')\n",
    "fig.add_subplot(6, 5, 14)\n",
    "plt.imshow(mmwave_injected_sample_0.detach().cpu())\n",
    "plt.axis('off')\n",
    "fig.add_subplot(6, 5, 15)\n",
    "plt.imshow(lidar_injected_sample_0.detach().cpu())\n",
    "plt.axis('off')\n",
    "fig.add_subplot(6, 5, 16)\n",
    "plt.imshow(cross_modal_embedding_1_sample.detach().cpu())\n",
    "plt.axis('off')\n",
    "fig.add_subplot(6, 5, 17)\n",
    "plt.imshow(rgb_injected_sample_1.detach().cpu())\n",
    "plt.axis('off')\n",
    "fig.add_subplot(6, 5, 18)\n",
    "plt.imshow(depth_injected_sample_1.detach().cpu())\n",
    "plt.axis('off')\n",
    "fig.add_subplot(6, 5, 19)\n",
    "plt.imshow(mmwave_injected_sample_1.detach().cpu())\n",
    "plt.axis('off')\n",
    "fig.add_subplot(6, 5, 20)\n",
    "plt.imshow(lidar_injected_sample_1.detach().cpu())\n",
    "plt.axis('off')\n",
    "fig.add_subplot(6, 5, 21)\n",
    "plt.imshow(cross_modal_embedding_2_sample.detach().cpu())\n",
    "plt.axis('off')\n",
    "fig.add_subplot(6, 5, 22)\n",
    "plt.imshow(rgb_injected_sample_2.detach().cpu())\n",
    "plt.axis('off')\n",
    "fig.add_subplot(6, 5, 23)\n",
    "plt.imshow(depth_injected_sample_2.detach().cpu())\n",
    "plt.axis('off')\n",
    "fig.add_subplot(6, 5, 24)\n",
    "plt.imshow(mmwave_injected_sample_2.detach().cpu())\n",
    "plt.axis('off')\n",
    "fig.add_subplot(6, 5, 25)\n",
    "plt.imshow(lidar_injected_sample_2.detach().cpu())\n",
    "plt.axis('off')\n",
    "fig.add_subplot(6, 5, 26)\n",
    "plt.imshow(cross_modal_embedding_3_sample.detach().cpu())\n",
    "plt.axis('off')\n",
    "fig.add_subplot(6, 5, 27)\n",
    "plt.imshow(rgb_injected_sample_3.detach().cpu())\n",
    "plt.axis('off')\n",
    "fig.add_subplot(6, 5, 28)\n",
    "plt.imshow(depth_injected_sample_3.detach().cpu())\n",
    "plt.axis('off')\n",
    "fig.add_subplot(6, 5, 29)\n",
    "plt.imshow(mmwave_injected_sample_3.detach().cpu())\n",
    "plt.axis('off')\n",
    "fig.add_subplot(6, 5, 30)\n",
    "plt.imshow(lidar_injected_sample_3.detach().cpu())\n",
    "plt.axis('off')\n",
    "plt.show()\n"
   ]
  },
  {
   "cell_type": "code",
   "execution_count": null,
   "metadata": {},
   "outputs": [],
   "source": []
  }
 ],
 "metadata": {
  "kernelspec": {
   "display_name": "pytorch",
   "language": "python",
   "name": "python3"
  },
  "language_info": {
   "codemirror_mode": {
    "name": "ipython",
    "version": 3
   },
   "file_extension": ".py",
   "mimetype": "text/x-python",
   "name": "python",
   "nbconvert_exporter": "python",
   "pygments_lexer": "ipython3",
   "version": "3.9.7"
  }
 },
 "nbformat": 4,
 "nbformat_minor": 2
}

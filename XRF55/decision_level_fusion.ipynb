{
 "cells": [
  {
   "cell_type": "code",
   "execution_count": 1,
   "metadata": {},
   "outputs": [],
   "source": [
    "import numpy as np\n",
    "import glob\n",
    "import scipy.io as sio\n",
    "import torch\n",
    "from torch import nn\n",
    "import random\n",
    "import csv\n",
    "import os\n",
    "from tqdm import tqdm\n",
    "from torch.utils.data import Dataset, DataLoader\n",
    "import yaml\n",
    "import time\n",
    "import re\n",
    "from XRF55_Dataset import XRF55_Datase "
   ]
  },
  {
   "cell_type": "code",
   "execution_count": 2,
   "metadata": {},
   "outputs": [],
   "source": [
    "train_dataset = XRF55_Datase(root_dir=\"D:\\Data\\XRF55\\XRF_dataset\", scene='all', is_train=True)\n",
    "test_dataset = XRF55_Datase(root_dir=\"D:\\Data\\XRF55\\XRF_dataset\", scene='all', is_train=False)"
   ]
  },
  {
   "cell_type": "code",
   "execution_count": 9,
   "metadata": {},
   "outputs": [],
   "source": [
    "def collate_fn_padd(batch):\n",
    "    '''\n",
    "    Padds batch of variable length\n",
    "\n",
    "    dict_keys(['modality', 'scene', 'subject', 'action', 'idx', 'output', \n",
    "    'input_rgb', 'input_depth', 'input_lidar', 'input_mmwave'])\n",
    "    '''\n",
    "    ## get sequence lengths\n",
    "    # for t in batch:\n",
    "    #     print(t.keys())\n",
    "    #     print(a)\n",
    "    # #     # print(t[0].shape,t[1].shape)\n",
    "    # kpts = []\n",
    "    # [kpts.append(np.array(t['output'])) for t in batch]\n",
    "    # kpts = torch.FloatTensor(np.array(kpts))\n",
    "    labels = []\n",
    "    [labels.append(float(t[3])) for t in batch]\n",
    "    labels = torch.FloatTensor(labels)\n",
    "\n",
    "    # mmwave\n",
    "    mmwave_data = np.array([(t[2]) for t in batch ])\n",
    "    mmwave_data = torch.FloatTensor(mmwave_data)\n",
    "\n",
    "    # wifi-csi\n",
    "    wifi_data = np.array([(t[0]) for t in batch ])\n",
    "    wifi_data = torch.FloatTensor(wifi_data)\n",
    "\n",
    "    # rfid\n",
    "    rfid_data = np.array([(t[1]) for t in batch ])\n",
    "    rfid_data = torch.FloatTensor(rfid_data)\n",
    "    \n",
    "    modality_list = [True, True, True]\n",
    "\n",
    "    return mmwave_data, wifi_data, rfid_data, labels, modality_list"
   ]
  },
  {
   "cell_type": "code",
   "execution_count": 10,
   "metadata": {},
   "outputs": [],
   "source": [
    "train_dataloader = DataLoader(train_dataset, batch_size=16, shuffle=True, collate_fn=collate_fn_padd)\n",
    "test_dataloader = DataLoader(test_dataset, batch_size=32, shuffle=False, collate_fn=collate_fn_padd)"
   ]
  },
  {
   "cell_type": "code",
   "execution_count": 11,
   "metadata": {},
   "outputs": [
    {
     "data": {
      "text/plain": [
       "single_model(\n",
       "  (feature_extractor): single_feature_extrator(\n",
       "    (rfid_extractor): rfid_feature_extractor(\n",
       "      (part): Sequential(\n",
       "        (0): Conv1d(23, 128, kernel_size=(7,), stride=(2,), padding=(3,), bias=False)\n",
       "        (1): BatchNorm1d(128, eps=1e-05, momentum=0.1, affine=True, track_running_stats=True)\n",
       "        (2): ReLU(inplace=True)\n",
       "        (3): MaxPool1d(kernel_size=3, stride=2, padding=1, dilation=1, ceil_mode=False)\n",
       "        (4): Sequential(\n",
       "          (0): BasicBlock(\n",
       "            (conv1): Conv1d(128, 128, kernel_size=(3,), stride=(1,), padding=(1,), bias=False)\n",
       "            (bn1): BatchNorm1d(128, eps=1e-05, momentum=0.1, affine=True, track_running_stats=True)\n",
       "            (relu): ReLU(inplace=True)\n",
       "            (conv2): Conv1d(128, 128, kernel_size=(3,), stride=(1,), padding=(1,), bias=False)\n",
       "            (bn2): BatchNorm1d(128, eps=1e-05, momentum=0.1, affine=True, track_running_stats=True)\n",
       "          )\n",
       "          (1): BasicBlock(\n",
       "            (conv1): Conv1d(128, 128, kernel_size=(3,), stride=(1,), padding=(1,), bias=False)\n",
       "            (bn1): BatchNorm1d(128, eps=1e-05, momentum=0.1, affine=True, track_running_stats=True)\n",
       "            (relu): ReLU(inplace=True)\n",
       "            (conv2): Conv1d(128, 128, kernel_size=(3,), stride=(1,), padding=(1,), bias=False)\n",
       "            (bn2): BatchNorm1d(128, eps=1e-05, momentum=0.1, affine=True, track_running_stats=True)\n",
       "          )\n",
       "        )\n",
       "        (5): Sequential(\n",
       "          (0): BasicBlock(\n",
       "            (conv1): Conv1d(128, 128, kernel_size=(3,), stride=(2,), padding=(1,), bias=False)\n",
       "            (bn1): BatchNorm1d(128, eps=1e-05, momentum=0.1, affine=True, track_running_stats=True)\n",
       "            (relu): ReLU(inplace=True)\n",
       "            (conv2): Conv1d(128, 128, kernel_size=(3,), stride=(1,), padding=(1,), bias=False)\n",
       "            (bn2): BatchNorm1d(128, eps=1e-05, momentum=0.1, affine=True, track_running_stats=True)\n",
       "            (downsample): Sequential(\n",
       "              (0): Conv1d(128, 128, kernel_size=(1,), stride=(2,), bias=False)\n",
       "              (1): BatchNorm1d(128, eps=1e-05, momentum=0.1, affine=True, track_running_stats=True)\n",
       "            )\n",
       "          )\n",
       "          (1): BasicBlock(\n",
       "            (conv1): Conv1d(128, 128, kernel_size=(3,), stride=(1,), padding=(1,), bias=False)\n",
       "            (bn1): BatchNorm1d(128, eps=1e-05, momentum=0.1, affine=True, track_running_stats=True)\n",
       "            (relu): ReLU(inplace=True)\n",
       "            (conv2): Conv1d(128, 128, kernel_size=(3,), stride=(1,), padding=(1,), bias=False)\n",
       "            (bn2): BatchNorm1d(128, eps=1e-05, momentum=0.1, affine=True, track_running_stats=True)\n",
       "          )\n",
       "        )\n",
       "        (6): Sequential(\n",
       "          (0): BasicBlock(\n",
       "            (conv1): Conv1d(128, 256, kernel_size=(3,), stride=(2,), padding=(1,), bias=False)\n",
       "            (bn1): BatchNorm1d(256, eps=1e-05, momentum=0.1, affine=True, track_running_stats=True)\n",
       "            (relu): ReLU(inplace=True)\n",
       "            (conv2): Conv1d(256, 256, kernel_size=(3,), stride=(1,), padding=(1,), bias=False)\n",
       "            (bn2): BatchNorm1d(256, eps=1e-05, momentum=0.1, affine=True, track_running_stats=True)\n",
       "            (downsample): Sequential(\n",
       "              (0): Conv1d(128, 256, kernel_size=(1,), stride=(2,), bias=False)\n",
       "              (1): BatchNorm1d(256, eps=1e-05, momentum=0.1, affine=True, track_running_stats=True)\n",
       "            )\n",
       "          )\n",
       "          (1): BasicBlock(\n",
       "            (conv1): Conv1d(256, 256, kernel_size=(3,), stride=(1,), padding=(1,), bias=False)\n",
       "            (bn1): BatchNorm1d(256, eps=1e-05, momentum=0.1, affine=True, track_running_stats=True)\n",
       "            (relu): ReLU(inplace=True)\n",
       "            (conv2): Conv1d(256, 256, kernel_size=(3,), stride=(1,), padding=(1,), bias=False)\n",
       "            (bn2): BatchNorm1d(256, eps=1e-05, momentum=0.1, affine=True, track_running_stats=True)\n",
       "          )\n",
       "        )\n",
       "        (7): Sequential(\n",
       "          (0): BasicBlock(\n",
       "            (conv1): Conv1d(256, 512, kernel_size=(3,), stride=(2,), padding=(1,), bias=False)\n",
       "            (bn1): BatchNorm1d(512, eps=1e-05, momentum=0.1, affine=True, track_running_stats=True)\n",
       "            (relu): ReLU(inplace=True)\n",
       "            (conv2): Conv1d(512, 512, kernel_size=(3,), stride=(1,), padding=(1,), bias=False)\n",
       "            (bn2): BatchNorm1d(512, eps=1e-05, momentum=0.1, affine=True, track_running_stats=True)\n",
       "            (downsample): Sequential(\n",
       "              (0): Conv1d(256, 512, kernel_size=(1,), stride=(2,), bias=False)\n",
       "              (1): BatchNorm1d(512, eps=1e-05, momentum=0.1, affine=True, track_running_stats=True)\n",
       "            )\n",
       "          )\n",
       "          (1): BasicBlock(\n",
       "            (conv1): Conv1d(512, 512, kernel_size=(3,), stride=(1,), padding=(1,), bias=False)\n",
       "            (bn1): BatchNorm1d(512, eps=1e-05, momentum=0.1, affine=True, track_running_stats=True)\n",
       "            (relu): ReLU(inplace=True)\n",
       "            (conv2): Conv1d(512, 512, kernel_size=(3,), stride=(1,), padding=(1,), bias=False)\n",
       "            (bn2): BatchNorm1d(512, eps=1e-05, momentum=0.1, affine=True, track_running_stats=True)\n",
       "          )\n",
       "        )\n",
       "      )\n",
       "    )\n",
       "  )\n",
       "  (classification_head): classification_Head(\n",
       "    (norm): LayerNorm((512,), eps=1e-05, elementwise_affine=True)\n",
       "    (fc): Linear(in_features=512, out_features=55, bias=True)\n",
       "  )\n",
       ")"
      ]
     },
     "execution_count": 11,
     "metadata": {},
     "output_type": "execute_result"
    }
   ],
   "source": [
    "from baseline.baseline_model import single_model\n",
    "\n",
    "# model = model(['RGB'])\n",
    "# \"modality_list: list of string, choose from ['RGB', 'Depth', 'mmWave', 'Lidar', 'Wifi']\"\n",
    "mmwave_model = single_model(['mmwave'])\n",
    "# rgb_weights = torch.load('./baseline/baseline_weights/Single/RGB.pt')\n",
    "# print(rgb_weights.keys())\n",
    "# print(rgb_model)\n",
    "# print(rgb_model.state_dict().keys())\n",
    "mmwave_model.load_state_dict(torch.load('./baseline/baseline_weights/Single/mmwave.pt'))\n",
    "mmwave_model.cuda()\n",
    "\n",
    "wifi_model = single_model(['wifi'])\n",
    "wifi_model.load_state_dict(torch.load('./baseline/baseline_weights/Single/wifi.pt'))\n",
    "wifi_model.cuda()\n",
    "\n",
    "rfid_model = single_model(['rfid'])\n",
    "rfid_model.load_state_dict(torch.load('./baseline/baseline_weights/Single/rfid.pt'))\n",
    "rfid_model.cuda()\n"
   ]
  },
  {
   "cell_type": "code",
   "execution_count": 12,
   "metadata": {},
   "outputs": [],
   "source": [
    "def get_result(mmwave_model,wifi_model,rfid_model, tensor_loader, device):\n",
    "    mmwave_model.eval()\n",
    "    wifi_model.eval()\n",
    "    rfid_model.eval()\n",
    "    # test_mpjpe = 0\n",
    "    # test_pampjpe = 0\n",
    "    # test_mse = 0\n",
    "    # random.seed(config['modality_existances']['val_random_seed'])\n",
    "    for i, data in tqdm(enumerate(tensor_loader)):\n",
    "        # start_time = time.time()\n",
    "        mmwave_data, wifi_data, rfid_data, label, exist_list = data\n",
    "        mmwave_data = mmwave_data.to(device)\n",
    "        wifi_data = wifi_data.to(device)\n",
    "        rfid_data = rfid_data.to(device)\n",
    "        label.to(device)\n",
    "        labels = label.type(torch.FloatTensor)\n",
    "        # outputs = model(input_1, exist_list)\n",
    "        # outputs = outputs.type(torch.FloatTensor)\n",
    "        mmwave_model.to('cuda')\n",
    "        mmwave_outputs = mmwave_model(mmwave_data, [True, False, False])\n",
    "        mmwave_model.to('cpu')\n",
    "        del mmwave_data\n",
    "        wifi_model.to('cuda')\n",
    "        wifi_outputs = wifi_model(wifi_data, [False, True, False])\n",
    "        wifi_model.to('cpu')\n",
    "        del wifi_data\n",
    "        rfid_model.to('cuda')\n",
    "        rfid_outputs = rfid_model(rfid_data, [False, False, True])\n",
    "        rfid_model.to('cpu')\n",
    "        del rfid_data\n",
    "        \n",
    "        # rgb_outputs = rgb_outputs.to(device)\n",
    "        mmwave_outputs = mmwave_outputs.detach().cpu().numpy()\n",
    "        wifi_outputs = wifi_outputs.detach().cpu().numpy()\n",
    "        rfid_outputs = rfid_outputs.detach().cpu().numpy()\n",
    "        labels = labels.detach().cpu().numpy()\n",
    "        \n",
    "        if i == 0:\n",
    "            mmwave_result = mmwave_outputs\n",
    "            wifi_result = wifi_outputs\n",
    "            rfid_result = rfid_outputs\n",
    "            all_label = labels\n",
    "            print(mmwave_result.shape, wifi_result.shape, rfid_result.shape, all_label.shape)\n",
    "        else:\n",
    "            mmwave_result = np.vstack((mmwave_result, mmwave_outputs))\n",
    "            wifi_result = np.vstack((wifi_result, wifi_outputs))\n",
    "            rfid_result = np.vstack((rfid_result, rfid_outputs))\n",
    "            all_label = np.hstack((all_label, labels))\n",
    "            if i ==1:\n",
    "                print(mmwave_result.shape, wifi_result.shape, rfid_result.shape, all_label.shape)\n",
    "\n",
    "    np.save('./baseline_results/mmwave_result.npy', mmwave_result)\n",
    "    np.save('./baseline_results/wifi_result.npy', wifi_result)\n",
    "    np.save('./baseline_results/rfid_result.npy', rfid_result)\n",
    "    np.save('./baseline_results/all_label.npy', all_label)\n",
    "\n",
    "    return"
   ]
  },
  {
   "cell_type": "code",
   "execution_count": 13,
   "metadata": {},
   "outputs": [
    {
     "name": "stderr",
     "output_type": "stream",
     "text": [
      "0it [00:00, ?it/s]c:\\Users\\Chen_Xinyan\\anaconda3\\envs\\pytorch\\lib\\site-packages\\torch\\nn\\modules\\module.py:1518: UserWarning: Implicit dimension choice for softmax has been deprecated. Change the call to include dim=X as an argument.\n",
      "  return self._call_impl(*args, **kwargs)\n",
      "1it [00:02,  2.75s/it]"
     ]
    },
    {
     "name": "stdout",
     "output_type": "stream",
     "text": [
      "(32, 55) (32, 55) (32, 55) (32,)\n"
     ]
    },
    {
     "name": "stderr",
     "output_type": "stream",
     "text": [
      "2it [00:07,  4.12s/it]"
     ]
    },
    {
     "name": "stdout",
     "output_type": "stream",
     "text": [
      "(64, 55) (64, 55) (64, 55) (64,)\n"
     ]
    },
    {
     "name": "stderr",
     "output_type": "stream",
     "text": [
      "207it [12:01,  3.49s/it]\n"
     ]
    }
   ],
   "source": [
    "device = torch.device(\"cuda\" if torch.cuda.is_available() else \"cpu\")\n",
    "get_result(mmwave_model,wifi_model,rfid_model, test_dataloader, device)"
   ]
  },
  {
   "cell_type": "code",
   "execution_count": 14,
   "metadata": {},
   "outputs": [],
   "source": [
    "mmwave_result=np.load('./baseline_results/mmwave_result.npy')\n",
    "wifi_result=np.load('./baseline_results/wifi_result.npy')\n",
    "rfid_result=np.load('./baseline_results/rfid_result.npy')\n",
    "all_label=np.load('./baseline_results/all_label.npy')"
   ]
  },
  {
   "cell_type": "code",
   "execution_count": 15,
   "metadata": {},
   "outputs": [
    {
     "name": "stdout",
     "output_type": "stream",
     "text": [
      "mmwave accuracy: 0.8490909090909091\n"
     ]
    }
   ],
   "source": [
    "predict_y = np.argmax(mmwave_result,axis=1)\n",
    "epoch_accuracy = (predict_y == all_label).sum() / all_label.size\n",
    "print('mmwave accuracy:', epoch_accuracy)"
   ]
  },
  {
   "cell_type": "code",
   "execution_count": 16,
   "metadata": {},
   "outputs": [
    {
     "name": "stdout",
     "output_type": "stream",
     "text": [
      "wifi accuracy: 0.7781818181818182\n"
     ]
    }
   ],
   "source": [
    "predict_y = np.argmax(wifi_result,axis=1)\n",
    "epoch_accuracy = (predict_y == all_label).sum() / all_label.size\n",
    "print('wifi accuracy:', epoch_accuracy)"
   ]
  },
  {
   "cell_type": "code",
   "execution_count": 17,
   "metadata": {},
   "outputs": [
    {
     "name": "stdout",
     "output_type": "stream",
     "text": [
      "rfid accuracy: 0.4216666666666667\n"
     ]
    }
   ],
   "source": [
    "predict_y = np.argmax(rfid_result,axis=1)\n",
    "epoch_accuracy = (predict_y == all_label).sum() / all_label.size\n",
    "print('rfid accuracy:', epoch_accuracy)"
   ]
  },
  {
   "cell_type": "code",
   "execution_count": 19,
   "metadata": {},
   "outputs": [
    {
     "name": "stdout",
     "output_type": "stream",
     "text": [
      "RW accuracy: 0.943030303030303\n"
     ]
    }
   ],
   "source": [
    "RW_result = (mmwave_result+ wifi_result)/2\n",
    "predict_y = np.argmax(RW_result,axis=1)\n",
    "epoch_accuracy = (predict_y == all_label).sum() / all_label.size\n",
    "print('RW accuracy:', epoch_accuracy)"
   ]
  },
  {
   "cell_type": "code",
   "execution_count": 21,
   "metadata": {},
   "outputs": [
    {
     "name": "stdout",
     "output_type": "stream",
     "text": [
      "RRF accuracy: 0.8236363636363636\n"
     ]
    }
   ],
   "source": [
    "RRF_result = (mmwave_result+ rfid_result)/2\n",
    "predict_y = np.argmax(RRF_result,axis=1)\n",
    "epoch_accuracy = (predict_y == all_label).sum() / all_label.size\n",
    "print('RRF accuracy:', epoch_accuracy)"
   ]
  },
  {
   "cell_type": "code",
   "execution_count": 22,
   "metadata": {},
   "outputs": [
    {
     "name": "stdout",
     "output_type": "stream",
     "text": [
      "WRF accuracy: 0.7737878787878788\n"
     ]
    }
   ],
   "source": [
    "WRF_result = (wifi_result+ rfid_result)/2\n",
    "predict_y = np.argmax(WRF_result,axis=1)\n",
    "epoch_accuracy = (predict_y == all_label).sum() / all_label.size\n",
    "print('WRF accuracy:', epoch_accuracy)"
   ]
  },
  {
   "cell_type": "code",
   "execution_count": 20,
   "metadata": {},
   "outputs": [
    {
     "name": "stdout",
     "output_type": "stream",
     "text": [
      "RWR accuracy: 0.9224242424242424\n"
     ]
    }
   ],
   "source": [
    "RWR_result = (mmwave_result+ wifi_result+rfid_result)/3\n",
    "predict_y = np.argmax(RWR_result,axis=1)\n",
    "epoch_accuracy = (predict_y == all_label).sum() / all_label.size\n",
    "print('RWR accuracy:', epoch_accuracy)"
   ]
  },
  {
   "cell_type": "code",
   "execution_count": 15,
   "metadata": {},
   "outputs": [
    {
     "name": "stdout",
     "output_type": "stream",
     "text": [
      "ID mpjpe: 0.0967305\n",
      "ID pampjpe: 0.053927209294340514\n"
     ]
    }
   ],
   "source": [
    "ID_result = (rgb_result + depth_result)/2\n",
    "mpjpe, pampjpe = error(ID_result,all_label)\n",
    "print('ID mpjpe:',mpjpe)\n",
    "print('ID pampjpe:',pampjpe)"
   ]
  }
 ],
 "metadata": {
  "kernelspec": {
   "display_name": "pytorch",
   "language": "python",
   "name": "python3"
  },
  "language_info": {
   "codemirror_mode": {
    "name": "ipython",
    "version": 3
   },
   "file_extension": ".py",
   "mimetype": "text/x-python",
   "name": "python",
   "nbconvert_exporter": "python",
   "pygments_lexer": "ipython3",
   "version": "3.9.7"
  }
 },
 "nbformat": 4,
 "nbformat_minor": 2
}

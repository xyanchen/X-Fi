{
 "cells": [
  {
   "cell_type": "code",
   "execution_count": 1,
   "metadata": {},
   "outputs": [],
   "source": [
    "import numpy as np\n",
    "import glob\n",
    "import scipy.io as sio\n",
    "import torch\n",
    "from torch import nn\n",
    "import random\n",
    "import csv\n",
    "import os\n",
    "from tqdm import tqdm\n",
    "from torch.utils.data import Dataset, DataLoader\n",
    "import yaml\n",
    "from evaluate import error\n",
    "import time\n",
    "import re\n",
    "from syn_DI_dataset import make_dataset, make_dataloader"
   ]
  },
  {
   "cell_type": "code",
   "execution_count": 2,
   "metadata": {},
   "outputs": [
    {
     "name": "stdout",
     "output_type": "stream",
     "text": [
      "['rgb', 'depth', 'lidar', 'mmwave', 'wifi-csi']\n",
      "S02 ['A01', 'A02', 'A03', 'A04', 'A06', 'A08', 'A09', 'A11', 'A12', 'A13', 'A14', 'A15', 'A16', 'A18', 'A19', 'A20', 'A21', 'A22', 'A23', 'A24', 'A26']\n",
      "S03 ['A01', 'A02', 'A03', 'A04', 'A05', 'A06', 'A07', 'A08', 'A09', 'A10', 'A11', 'A12', 'A15', 'A16', 'A17', 'A18', 'A21', 'A22', 'A23', 'A24', 'A25', 'A26', 'A27']\n",
      "S05 ['A01', 'A02', 'A03', 'A04', 'A05', 'A06', 'A07', 'A09', 'A10', 'A11', 'A12', 'A13', 'A14', 'A15', 'A16', 'A19', 'A20', 'A21', 'A24', 'A25']\n",
      "S06 ['A01', 'A03', 'A04', 'A06', 'A07', 'A08', 'A10', 'A11', 'A12', 'A13', 'A14', 'A15', 'A18', 'A21', 'A22', 'A23', 'A24', 'A25', 'A26', 'A27']\n",
      "S08 ['A01', 'A02', 'A04', 'A05', 'A06', 'A07', 'A08', 'A09', 'A10', 'A11', 'A13', 'A14', 'A17', 'A19', 'A20', 'A21', 'A22', 'A23', 'A24', 'A25', 'A26', 'A27']\n",
      "S09 ['A01', 'A07', 'A08', 'A10', 'A11', 'A12', 'A13', 'A14', 'A15', 'A17', 'A18', 'A20', 'A21', 'A24', 'A25', 'A27']\n",
      "S11 ['A01', 'A02', 'A03', 'A05', 'A06', 'A08', 'A10', 'A11', 'A12', 'A13', 'A16', 'A17', 'A18', 'A19', 'A21', 'A23', 'A24', 'A25', 'A26', 'A27']\n",
      "S12 ['A01', 'A04', 'A05', 'A06', 'A07', 'A08', 'A09', 'A10', 'A11', 'A12', 'A14', 'A15', 'A17', 'A18', 'A19', 'A20', 'A21', 'A22', 'A23', 'A24', 'A25', 'A26', 'A27']\n",
      "S13 ['A01', 'A03', 'A04', 'A05', 'A06', 'A07', 'A08', 'A09', 'A10', 'A11', 'A14', 'A17', 'A18', 'A19', 'A20', 'A21', 'A22', 'A23', 'A25', 'A26', 'A27']\n",
      "S14 ['A01', 'A02', 'A03', 'A04', 'A05', 'A06', 'A07', 'A08', 'A09', 'A10', 'A11', 'A13', 'A15', 'A16', 'A17', 'A18', 'A19', 'A20', 'A21', 'A22', 'A23', 'A24', 'A25', 'A26']\n",
      "S15 ['A01', 'A02', 'A03', 'A04', 'A05', 'A07', 'A09', 'A10', 'A11', 'A12', 'A13', 'A14', 'A15', 'A16', 'A17', 'A18', 'A19', 'A20', 'A21', 'A22', 'A23', 'A24', 'A25', 'A26', 'A27']\n",
      "S16 ['A01', 'A04', 'A05', 'A06', 'A08', 'A09', 'A10', 'A12', 'A13', 'A14', 'A15', 'A16', 'A17', 'A19', 'A20', 'A23', 'A24', 'A27']\n",
      "S17 ['A01', 'A02', 'A03', 'A04', 'A05', 'A08', 'A09', 'A10', 'A11', 'A13', 'A16', 'A18', 'A19', 'A20', 'A21', 'A22', 'A23', 'A24', 'A25', 'A26', 'A27']\n",
      "S18 ['A01', 'A02', 'A03', 'A04', 'A05', 'A06', 'A07', 'A08', 'A09', 'A10', 'A11', 'A13', 'A14', 'A15', 'A16', 'A17', 'A18', 'A20', 'A21', 'A22', 'A23', 'A24', 'A26']\n",
      "S19 ['A01', 'A02', 'A04', 'A05', 'A06', 'A07', 'A08', 'A09', 'A10', 'A11', 'A12', 'A13', 'A15', 'A16', 'A17', 'A18', 'A19', 'A20', 'A21', 'A22', 'A24', 'A25', 'A26', 'A27']\n",
      "S21 ['A01', 'A02', 'A03', 'A04', 'A05', 'A06', 'A08', 'A10', 'A11', 'A12', 'A13', 'A14', 'A15', 'A16', 'A17', 'A19', 'A20', 'A24', 'A25', 'A26', 'A27']\n",
      "S23 ['A01', 'A02', 'A04', 'A05', 'A06', 'A07', 'A08', 'A09', 'A11', 'A12', 'A14', 'A16', 'A17', 'A19', 'A21', 'A22', 'A23', 'A24', 'A25', 'A26', 'A27']\n",
      "S25 ['A01', 'A02', 'A03', 'A05', 'A06', 'A07', 'A08', 'A09', 'A10', 'A11', 'A12', 'A13', 'A14', 'A16', 'A17', 'A18', 'A20', 'A21', 'A22', 'A23', 'A24', 'A25', 'A26', 'A27']\n",
      "S26 ['A01', 'A02', 'A03', 'A04', 'A05', 'A06', 'A09', 'A10', 'A13', 'A15', 'A16', 'A17', 'A18', 'A19', 'A20', 'A21', 'A22', 'A23', 'A25', 'A27']\n",
      "S27 ['A01', 'A02', 'A03', 'A04', 'A05', 'A06', 'A07', 'A08', 'A10', 'A11', 'A12', 'A13', 'A16', 'A17', 'A18', 'A19', 'A20', 'A22', 'A23', 'A25']\n",
      "S28 ['A01', 'A02', 'A03', 'A04', 'A05', 'A07', 'A08', 'A09', 'A11', 'A14', 'A15', 'A17', 'A18', 'A19', 'A20', 'A21', 'A22', 'A23', 'A25', 'A26', 'A27']\n",
      "S29 ['A01', 'A02', 'A03', 'A04', 'A05', 'A06', 'A07', 'A09', 'A12', 'A13', 'A14', 'A17', 'A18', 'A19', 'A20', 'A22', 'A23', 'A24', 'A25', 'A27']\n",
      "S30 ['A01', 'A02', 'A03', 'A04', 'A05', 'A06', 'A07', 'A08', 'A09', 'A12', 'A13', 'A14', 'A15', 'A16', 'A17', 'A18', 'A19', 'A21', 'A22', 'A24', 'A25', 'A26', 'A27']\n",
      "S31 ['A01', 'A02', 'A03', 'A04', 'A07', 'A08', 'A09', 'A10', 'A11', 'A12', 'A13', 'A14', 'A15', 'A16', 'A18', 'A19', 'A20', 'A21', 'A22', 'A23', 'A24', 'A25', 'A26', 'A27']\n",
      "S32 ['A01', 'A02', 'A04', 'A05', 'A06', 'A07', 'A08', 'A09', 'A10', 'A11', 'A12', 'A13', 'A14', 'A15', 'A16', 'A19', 'A22', 'A25', 'A26', 'A27']\n",
      "S33 ['A01', 'A02', 'A03', 'A04', 'A05', 'A06', 'A07', 'A08', 'A09', 'A10', 'A11', 'A12', 'A13', 'A14', 'A15', 'A16', 'A18', 'A19', 'A20', 'A21', 'A22', 'A23', 'A24', 'A25', 'A26']\n",
      "S34 ['A01', 'A02', 'A03', 'A05', 'A06', 'A07', 'A08', 'A09', 'A13', 'A14', 'A15', 'A16', 'A17', 'A18', 'A19', 'A20', 'A21', 'A22', 'A23', 'A24', 'A25', 'A26', 'A27']\n",
      "S35 ['A01', 'A02', 'A03', 'A04', 'A05', 'A06', 'A07', 'A08', 'A09', 'A10', 'A11', 'A12', 'A13', 'A15', 'A16', 'A17', 'A18', 'A21', 'A23', 'A24', 'A26', 'A27']\n",
      "S36 ['A01', 'A02', 'A04', 'A05', 'A09', 'A10', 'A11', 'A12', 'A14', 'A15', 'A16', 'A17', 'A18', 'A19', 'A20', 'A23', 'A24', 'A26', 'A27']\n",
      "S37 ['A01', 'A02', 'A03', 'A04', 'A05', 'A06', 'A07', 'A08', 'A09', 'A10', 'A12', 'A13', 'A14', 'A15', 'A16', 'A17', 'A18', 'A19', 'A20', 'A21', 'A22', 'A24', 'A25', 'A26', 'A27']\n",
      "S38 ['A01', 'A03', 'A04', 'A05', 'A07', 'A08', 'A09', 'A10', 'A11', 'A12', 'A13', 'A14', 'A15', 'A16', 'A19', 'A20', 'A21', 'A22', 'A23', 'A24', 'A25', 'A26', 'A27']\n",
      "S40 ['A01', 'A02', 'A03', 'A04', 'A05', 'A06', 'A07', 'A08', 'A09', 'A11', 'A12', 'A13', 'A14', 'A15', 'A16', 'A17', 'A18', 'A19', 'A20', 'A21', 'A22', 'A23', 'A24', 'A25', 'A27']\n",
      "S04 ['A02', 'A03', 'A06', 'A07', 'A10', 'A11', 'A12', 'A14', 'A15', 'A16', 'A17', 'A18', 'A19', 'A20', 'A21', 'A22', 'A23', 'A24', 'A26', 'A27']\n",
      "S07 ['A02', 'A03', 'A04', 'A05', 'A06', 'A07', 'A08', 'A09', 'A10', 'A11', 'A12', 'A14', 'A15', 'A16', 'A17', 'A19', 'A20', 'A21', 'A22', 'A23', 'A24', 'A25', 'A26']\n",
      "S20 ['A02', 'A03', 'A05', 'A06', 'A07', 'A10', 'A11', 'A12', 'A13', 'A14', 'A15', 'A16', 'A17', 'A18', 'A21', 'A22', 'A23', 'A25', 'A26']\n",
      "S22 ['A02', 'A03', 'A05', 'A06', 'A07', 'A08', 'A10', 'A11', 'A12', 'A13', 'A14', 'A15', 'A16', 'A17', 'A18', 'A19', 'A20', 'A21', 'A22', 'A23', 'A24', 'A25', 'A26', 'A27']\n",
      "S24 ['A02', 'A03', 'A04', 'A06', 'A07', 'A09', 'A10', 'A11', 'A12', 'A13', 'A14', 'A15', 'A16', 'A17', 'A18', 'A19', 'A20', 'A21', 'A22', 'A23', 'A24', 'A27']\n",
      "S39 ['A02', 'A03', 'A04', 'A05', 'A06', 'A07', 'A08', 'A09', 'A11', 'A12', 'A13', 'A14', 'A15', 'A16', 'A17', 'A18', 'A20', 'A22', 'A23', 'A25', 'A26', 'A27']\n",
      "S01 ['A03', 'A06', 'A07', 'A08', 'A09', 'A10', 'A12', 'A13', 'A14', 'A15', 'A17', 'A18', 'A19', 'A20', 'A21', 'A22', 'A24', 'A26', 'A27']\n",
      "S10 ['A03', 'A04', 'A08', 'A09', 'A10', 'A12', 'A13', 'A14', 'A15', 'A16', 'A17', 'A18', 'A19', 'A20', 'A23', 'A25', 'A26', 'A27']\n",
      "/n\n",
      "['rgb', 'depth', 'lidar', 'mmwave', 'wifi-csi']\n",
      "S01 ['A01', 'A02', 'A04', 'A05', 'A11', 'A16', 'A23', 'A25']\n",
      "S04 ['A01', 'A04', 'A05', 'A08', 'A09', 'A13', 'A25']\n",
      "S07 ['A01', 'A13', 'A18', 'A27']\n",
      "S10 ['A01', 'A02', 'A05', 'A06', 'A07', 'A11', 'A21', 'A22', 'A24']\n",
      "S20 ['A01', 'A04', 'A08', 'A09', 'A19', 'A20', 'A24', 'A27']\n",
      "S22 ['A01', 'A04', 'A09']\n",
      "S24 ['A01', 'A05', 'A08', 'A25', 'A26']\n",
      "S39 ['A01', 'A10', 'A19', 'A21', 'A24']\n",
      "S06 ['A02', 'A05', 'A09', 'A16', 'A17', 'A19', 'A20']\n",
      "S09 ['A02', 'A03', 'A04', 'A05', 'A06', 'A09', 'A16', 'A19', 'A22', 'A23', 'A26']\n",
      "S12 ['A02', 'A03', 'A13', 'A16']\n",
      "S13 ['A02', 'A12', 'A13', 'A15', 'A16', 'A24']\n",
      "S16 ['A02', 'A03', 'A07', 'A11', 'A18', 'A21', 'A22', 'A25', 'A26']\n",
      "S38 ['A02', 'A06', 'A17', 'A18']\n",
      "S08 ['A03', 'A12', 'A15', 'A16', 'A18']\n",
      "S19 ['A03', 'A14', 'A23']\n",
      "S23 ['A03', 'A10', 'A13', 'A15', 'A18', 'A20']\n",
      "S32 ['A03', 'A17', 'A18', 'A20', 'A21', 'A23', 'A24']\n",
      "S36 ['A03', 'A06', 'A07', 'A08', 'A13', 'A21', 'A22', 'A25']\n",
      "S11 ['A04', 'A07', 'A09', 'A14', 'A15', 'A20', 'A22']\n",
      "S25 ['A04', 'A15', 'A19']\n",
      "S34 ['A04', 'A10', 'A11', 'A12']\n",
      "S02 ['A05', 'A07', 'A10', 'A17', 'A25', 'A27']\n",
      "S31 ['A05', 'A06', 'A17']\n",
      "S15 ['A06', 'A08']\n",
      "S17 ['A06', 'A07', 'A12', 'A14', 'A15', 'A17']\n",
      "S28 ['A06', 'A10', 'A12', 'A13', 'A16', 'A24']\n",
      "S21 ['A07', 'A09', 'A18', 'A21', 'A22', 'A23']\n",
      "S26 ['A07', 'A08', 'A11', 'A12', 'A14', 'A24', 'A26']\n",
      "S05 ['A08', 'A17', 'A18', 'A22', 'A23', 'A26', 'A27']\n",
      "S29 ['A08', 'A10', 'A11', 'A15', 'A16', 'A21', 'A26']\n",
      "S27 ['A09', 'A14', 'A15', 'A21', 'A24', 'A26', 'A27']\n",
      "S30 ['A10', 'A11', 'A20', 'A23']\n",
      "S40 ['A10', 'A26']\n",
      "S37 ['A11', 'A23']\n",
      "S14 ['A12', 'A14', 'A27']\n",
      "S18 ['A12', 'A19', 'A25', 'A27']\n",
      "S03 ['A13', 'A14', 'A19', 'A20']\n",
      "S35 ['A14', 'A19', 'A20', 'A22', 'A25']\n",
      "S33 ['A17', 'A27']\n"
     ]
    }
   ],
   "source": [
    "dataset_root = 'd:\\Data\\My_MMFi_Data\\MMFi_Dataset'\n",
    "with open('config.yaml', 'r') as fd:\n",
    "    config = yaml.load(fd, Loader=yaml.FullLoader)\n",
    "\n",
    "train_dataset, val_dataset = make_dataset(dataset_root, config)"
   ]
  },
  {
   "cell_type": "code",
   "execution_count": 3,
   "metadata": {},
   "outputs": [],
   "source": [
    "def collate_fn_padd(batch):\n",
    "    '''\n",
    "    Padds batch of variable length\n",
    "\n",
    "    note: it converts things ToTensor manually here since the ToTensor transform\n",
    "    assume it takes in images rather than arbitrary tensors.\n",
    "\n",
    "    dict_keys(['modality', 'scene', 'subject', 'action', 'idx', 'output', \n",
    "    'input_rgb', 'input_depth', 'input_lidar', 'input_mmwave'])\n",
    "    '''\n",
    "    ## get sequence lengths\n",
    "    # for t in batch:\n",
    "    #     print(t.keys())\n",
    "    #     print(a)\n",
    "    # #     # print(t[0].shape,t[1].shape)\n",
    "    kpts = []\n",
    "    [kpts.append(np.array(t['output'])) for t in batch]\n",
    "    kpts = torch.FloatTensor(np.array(kpts))\n",
    "\n",
    "    # lengths = torch.tensor([t['input_mmwave'].shape[0] for t in batch ])\n",
    "\n",
    "    # rgb\n",
    "    rgb_data = np.array([(t['input_rgb']) for t in batch ])\n",
    "    rgb_data = torch.FloatTensor(rgb_data).permute(0,3,1,2)\n",
    "\n",
    "    # depth\n",
    "    depth_data = np.array([(t['input_depth']) for t in batch ])\n",
    "    depth_data = torch.FloatTensor(depth_data).permute(0,3,1,2)\n",
    "\n",
    "    # mmwave\n",
    "    ## padd\n",
    "    mmwave_data = [torch.Tensor(t['input_mmwave']) for t in batch ]\n",
    "    mmwave_data = torch.nn.utils.rnn.pad_sequence(mmwave_data)\n",
    "    ## compute mask\n",
    "    mmwave_data = mmwave_data.permute(1,0,2)\n",
    "\n",
    "    # lidar\n",
    "    ## padd\n",
    "    lidar_data = [torch.Tensor(t['input_lidar']) for t in batch ]\n",
    "    lidar_data = torch.nn.utils.rnn.pad_sequence(lidar_data)\n",
    "    ## compute mask\n",
    "    lidar_data = lidar_data.permute(1,0,2)\n",
    "\n",
    "    # wifi-csi\n",
    "    wifi_data = np.array([(t['input_wifi-csi']) for t in batch ])\n",
    "    wifi_data = torch.FloatTensor(wifi_data)\n",
    "    \"要改\"\n",
    "    exist_list = [True, False, False, False, False]\n",
    "\n",
    "    return rgb_data, depth_data, lidar_data, mmwave_data, wifi_data, kpts, exist_list\n",
    "    # return rgb_data, kpts, exist_list"
   ]
  },
  {
   "cell_type": "code",
   "execution_count": 4,
   "metadata": {},
   "outputs": [],
   "source": [
    "rng_generator = torch.manual_seed(config['init_rand_seed'])\n",
    "train_loader = make_dataloader(train_dataset, is_training=True, generator=rng_generator, **config['loader'], collate_fn = collate_fn_padd)\n",
    "val_loader = make_dataloader(val_dataset, is_training=False, generator=rng_generator, **config['loader'], collate_fn = collate_fn_padd)"
   ]
  },
  {
   "cell_type": "code",
   "execution_count": 5,
   "metadata": {},
   "outputs": [
    {
     "data": {
      "text/plain": [
       "single_model(\n",
       "  (feature_extractor): single_feature_extrator(\n",
       "    (csi_extractor): csi_feature_extractor(\n",
       "      (part): Sequential(\n",
       "        (0): Conv2d(1, 64, kernel_size=(3, 3), stride=(1, 1), padding=(1, 1), bias=False)\n",
       "        (1): BatchNorm2d(64, eps=1e-05, momentum=0.1, affine=True, track_running_stats=True)\n",
       "        (2): ReLU(inplace=True)\n",
       "        (3): Sequential(\n",
       "          (0): BasicBlock(\n",
       "            (conv1): Conv2d(64, 64, kernel_size=(3, 3), stride=(1, 1), padding=(1, 1), bias=False)\n",
       "            (bn1): BatchNorm2d(64, eps=1e-05, momentum=0.1, affine=True, track_running_stats=True)\n",
       "            (relu): ReLU(inplace=True)\n",
       "            (conv2): Conv2d(64, 64, kernel_size=(3, 3), stride=(1, 1), padding=(1, 1), bias=False)\n",
       "            (bn2): BatchNorm2d(64, eps=1e-05, momentum=0.1, affine=True, track_running_stats=True)\n",
       "          )\n",
       "          (1): BasicBlock(\n",
       "            (conv1): Conv2d(64, 64, kernel_size=(3, 3), stride=(1, 1), padding=(1, 1), bias=False)\n",
       "            (bn1): BatchNorm2d(64, eps=1e-05, momentum=0.1, affine=True, track_running_stats=True)\n",
       "            (relu): ReLU(inplace=True)\n",
       "            (conv2): Conv2d(64, 64, kernel_size=(3, 3), stride=(1, 1), padding=(1, 1), bias=False)\n",
       "            (bn2): BatchNorm2d(64, eps=1e-05, momentum=0.1, affine=True, track_running_stats=True)\n",
       "          )\n",
       "          (2): BasicBlock(\n",
       "            (conv1): Conv2d(64, 64, kernel_size=(3, 3), stride=(1, 1), padding=(1, 1), bias=False)\n",
       "            (bn1): BatchNorm2d(64, eps=1e-05, momentum=0.1, affine=True, track_running_stats=True)\n",
       "            (relu): ReLU(inplace=True)\n",
       "            (conv2): Conv2d(64, 64, kernel_size=(3, 3), stride=(1, 1), padding=(1, 1), bias=False)\n",
       "            (bn2): BatchNorm2d(64, eps=1e-05, momentum=0.1, affine=True, track_running_stats=True)\n",
       "          )\n",
       "        )\n",
       "        (4): Sequential(\n",
       "          (0): BasicBlock(\n",
       "            (conv1): Conv2d(64, 128, kernel_size=(3, 3), stride=(2, 2), padding=(1, 1), bias=False)\n",
       "            (bn1): BatchNorm2d(128, eps=1e-05, momentum=0.1, affine=True, track_running_stats=True)\n",
       "            (relu): ReLU(inplace=True)\n",
       "            (conv2): Conv2d(128, 128, kernel_size=(3, 3), stride=(1, 1), padding=(1, 1), bias=False)\n",
       "            (bn2): BatchNorm2d(128, eps=1e-05, momentum=0.1, affine=True, track_running_stats=True)\n",
       "            (downsample): Sequential(\n",
       "              (0): Conv2d(64, 128, kernel_size=(1, 1), stride=(2, 2), bias=False)\n",
       "              (1): BatchNorm2d(128, eps=1e-05, momentum=0.1, affine=True, track_running_stats=True)\n",
       "            )\n",
       "          )\n",
       "          (1): BasicBlock(\n",
       "            (conv1): Conv2d(128, 128, kernel_size=(3, 3), stride=(1, 1), padding=(1, 1), bias=False)\n",
       "            (bn1): BatchNorm2d(128, eps=1e-05, momentum=0.1, affine=True, track_running_stats=True)\n",
       "            (relu): ReLU(inplace=True)\n",
       "            (conv2): Conv2d(128, 128, kernel_size=(3, 3), stride=(1, 1), padding=(1, 1), bias=False)\n",
       "            (bn2): BatchNorm2d(128, eps=1e-05, momentum=0.1, affine=True, track_running_stats=True)\n",
       "          )\n",
       "          (2): BasicBlock(\n",
       "            (conv1): Conv2d(128, 128, kernel_size=(3, 3), stride=(1, 1), padding=(1, 1), bias=False)\n",
       "            (bn1): BatchNorm2d(128, eps=1e-05, momentum=0.1, affine=True, track_running_stats=True)\n",
       "            (relu): ReLU(inplace=True)\n",
       "            (conv2): Conv2d(128, 128, kernel_size=(3, 3), stride=(1, 1), padding=(1, 1), bias=False)\n",
       "            (bn2): BatchNorm2d(128, eps=1e-05, momentum=0.1, affine=True, track_running_stats=True)\n",
       "          )\n",
       "          (3): BasicBlock(\n",
       "            (conv1): Conv2d(128, 128, kernel_size=(3, 3), stride=(1, 1), padding=(1, 1), bias=False)\n",
       "            (bn1): BatchNorm2d(128, eps=1e-05, momentum=0.1, affine=True, track_running_stats=True)\n",
       "            (relu): ReLU(inplace=True)\n",
       "            (conv2): Conv2d(128, 128, kernel_size=(3, 3), stride=(1, 1), padding=(1, 1), bias=False)\n",
       "            (bn2): BatchNorm2d(128, eps=1e-05, momentum=0.1, affine=True, track_running_stats=True)\n",
       "          )\n",
       "        )\n",
       "        (5): Sequential(\n",
       "          (0): BasicBlock(\n",
       "            (conv1): Conv2d(128, 256, kernel_size=(3, 3), stride=(2, 2), padding=(1, 1), bias=False)\n",
       "            (bn1): BatchNorm2d(256, eps=1e-05, momentum=0.1, affine=True, track_running_stats=True)\n",
       "            (relu): ReLU(inplace=True)\n",
       "            (conv2): Conv2d(256, 256, kernel_size=(3, 3), stride=(1, 1), padding=(1, 1), bias=False)\n",
       "            (bn2): BatchNorm2d(256, eps=1e-05, momentum=0.1, affine=True, track_running_stats=True)\n",
       "            (downsample): Sequential(\n",
       "              (0): Conv2d(128, 256, kernel_size=(1, 1), stride=(2, 2), bias=False)\n",
       "              (1): BatchNorm2d(256, eps=1e-05, momentum=0.1, affine=True, track_running_stats=True)\n",
       "            )\n",
       "          )\n",
       "          (1): BasicBlock(\n",
       "            (conv1): Conv2d(256, 256, kernel_size=(3, 3), stride=(1, 1), padding=(1, 1), bias=False)\n",
       "            (bn1): BatchNorm2d(256, eps=1e-05, momentum=0.1, affine=True, track_running_stats=True)\n",
       "            (relu): ReLU(inplace=True)\n",
       "            (conv2): Conv2d(256, 256, kernel_size=(3, 3), stride=(1, 1), padding=(1, 1), bias=False)\n",
       "            (bn2): BatchNorm2d(256, eps=1e-05, momentum=0.1, affine=True, track_running_stats=True)\n",
       "          )\n",
       "          (2): BasicBlock(\n",
       "            (conv1): Conv2d(256, 256, kernel_size=(3, 3), stride=(1, 1), padding=(1, 1), bias=False)\n",
       "            (bn1): BatchNorm2d(256, eps=1e-05, momentum=0.1, affine=True, track_running_stats=True)\n",
       "            (relu): ReLU(inplace=True)\n",
       "            (conv2): Conv2d(256, 256, kernel_size=(3, 3), stride=(1, 1), padding=(1, 1), bias=False)\n",
       "            (bn2): BatchNorm2d(256, eps=1e-05, momentum=0.1, affine=True, track_running_stats=True)\n",
       "          )\n",
       "          (3): BasicBlock(\n",
       "            (conv1): Conv2d(256, 256, kernel_size=(3, 3), stride=(1, 1), padding=(1, 1), bias=False)\n",
       "            (bn1): BatchNorm2d(256, eps=1e-05, momentum=0.1, affine=True, track_running_stats=True)\n",
       "            (relu): ReLU(inplace=True)\n",
       "            (conv2): Conv2d(256, 256, kernel_size=(3, 3), stride=(1, 1), padding=(1, 1), bias=False)\n",
       "            (bn2): BatchNorm2d(256, eps=1e-05, momentum=0.1, affine=True, track_running_stats=True)\n",
       "          )\n",
       "          (4): BasicBlock(\n",
       "            (conv1): Conv2d(256, 256, kernel_size=(3, 3), stride=(1, 1), padding=(1, 1), bias=False)\n",
       "            (bn1): BatchNorm2d(256, eps=1e-05, momentum=0.1, affine=True, track_running_stats=True)\n",
       "            (relu): ReLU(inplace=True)\n",
       "            (conv2): Conv2d(256, 256, kernel_size=(3, 3), stride=(1, 1), padding=(1, 1), bias=False)\n",
       "            (bn2): BatchNorm2d(256, eps=1e-05, momentum=0.1, affine=True, track_running_stats=True)\n",
       "          )\n",
       "          (5): BasicBlock(\n",
       "            (conv1): Conv2d(256, 256, kernel_size=(3, 3), stride=(1, 1), padding=(1, 1), bias=False)\n",
       "            (bn1): BatchNorm2d(256, eps=1e-05, momentum=0.1, affine=True, track_running_stats=True)\n",
       "            (relu): ReLU(inplace=True)\n",
       "            (conv2): Conv2d(256, 256, kernel_size=(3, 3), stride=(1, 1), padding=(1, 1), bias=False)\n",
       "            (bn2): BatchNorm2d(256, eps=1e-05, momentum=0.1, affine=True, track_running_stats=True)\n",
       "          )\n",
       "        )\n",
       "        (6): Sequential(\n",
       "          (0): BasicBlock(\n",
       "            (conv1): Conv2d(256, 512, kernel_size=(3, 3), stride=(2, 2), padding=(1, 1), bias=False)\n",
       "            (bn1): BatchNorm2d(512, eps=1e-05, momentum=0.1, affine=True, track_running_stats=True)\n",
       "            (relu): ReLU(inplace=True)\n",
       "            (conv2): Conv2d(512, 512, kernel_size=(3, 3), stride=(1, 1), padding=(1, 1), bias=False)\n",
       "            (bn2): BatchNorm2d(512, eps=1e-05, momentum=0.1, affine=True, track_running_stats=True)\n",
       "            (downsample): Sequential(\n",
       "              (0): Conv2d(256, 512, kernel_size=(1, 1), stride=(2, 2), bias=False)\n",
       "              (1): BatchNorm2d(512, eps=1e-05, momentum=0.1, affine=True, track_running_stats=True)\n",
       "            )\n",
       "          )\n",
       "          (1): BasicBlock(\n",
       "            (conv1): Conv2d(512, 512, kernel_size=(3, 3), stride=(1, 1), padding=(1, 1), bias=False)\n",
       "            (bn1): BatchNorm2d(512, eps=1e-05, momentum=0.1, affine=True, track_running_stats=True)\n",
       "            (relu): ReLU(inplace=True)\n",
       "            (conv2): Conv2d(512, 512, kernel_size=(3, 3), stride=(1, 1), padding=(1, 1), bias=False)\n",
       "            (bn2): BatchNorm2d(512, eps=1e-05, momentum=0.1, affine=True, track_running_stats=True)\n",
       "          )\n",
       "          (2): BasicBlock(\n",
       "            (conv1): Conv2d(512, 512, kernel_size=(3, 3), stride=(1, 1), padding=(1, 1), bias=False)\n",
       "            (bn1): BatchNorm2d(512, eps=1e-05, momentum=0.1, affine=True, track_running_stats=True)\n",
       "            (relu): ReLU(inplace=True)\n",
       "            (conv2): Conv2d(512, 512, kernel_size=(3, 3), stride=(1, 1), padding=(1, 1), bias=False)\n",
       "            (bn2): BatchNorm2d(512, eps=1e-05, momentum=0.1, affine=True, track_running_stats=True)\n",
       "          )\n",
       "        )\n",
       "      )\n",
       "    )\n",
       "  )\n",
       "  (regression_head): regression_Head(\n",
       "    (0): Reduce('b n e -> b e', 'mean')\n",
       "    (1): LayerNorm((512,), eps=1e-05, elementwise_affine=True)\n",
       "    (2): Linear(in_features=512, out_features=51, bias=True)\n",
       "  )\n",
       ")"
      ]
     },
     "execution_count": 5,
     "metadata": {},
     "output_type": "execute_result"
    }
   ],
   "source": [
    "from baseline.baseline_model import single_model\n",
    "\n",
    "# model = model(['RGB'])\n",
    "# \"modality_list: list of string, choose from ['RGB', 'Depth', 'mmWave', 'Lidar', 'Wifi']\"\n",
    "rgb_model = single_model(['rgb'])\n",
    "# rgb_weights = torch.load('./baseline/baseline_weights/Single/RGB.pt')\n",
    "# print(rgb_weights.keys())\n",
    "# print(rgb_model)\n",
    "# print(rgb_model.state_dict().keys())\n",
    "rgb_model.load_state_dict(torch.load('./baseline/baseline_weights/Single/RGB.pt'))\n",
    "rgb_model.cuda()\n",
    "\n",
    "depth_model = single_model(['depth'])\n",
    "depth_model.load_state_dict(torch.load('./baseline/baseline_weights/Single/Depth.pt'))\n",
    "depth_model.cuda()\n",
    "\n",
    "mmwave_model = single_model(['mmwave'])\n",
    "mmwave_model.load_state_dict(torch.load('./baseline/baseline_weights/Single/mmWave.pt'))\n",
    "mmwave_model.cuda()\n",
    "\n",
    "lidar_model = single_model(['lidar'])\n",
    "lidar_model.load_state_dict(torch.load('./baseline/baseline_weights/Single/Lidar.pt'))\n",
    "lidar_model.cuda()\n",
    "\n",
    "wifi_model = single_model(['wifi-csi'])\n",
    "wifi_model.load_state_dict(torch.load('./baseline/baseline_weights/Single/Wifi.pt'))\n",
    "wifi_model.cuda()"
   ]
  },
  {
   "cell_type": "code",
   "execution_count": 6,
   "metadata": {},
   "outputs": [],
   "source": [
    "def get_result(rgb_model,depth_model,mmwave_model,lidar_model,wifi_model, tensor_loader, device):\n",
    "    rgb_model.eval()\n",
    "    depth_model.eval()\n",
    "    mmwave_model.eval()\n",
    "    lidar_model.eval()\n",
    "    wifi_model.eval()\n",
    "    # test_mpjpe = 0\n",
    "    # test_pampjpe = 0\n",
    "    # test_mse = 0\n",
    "    # random.seed(config['modality_existances']['val_random_seed'])\n",
    "    for i, data in tqdm(enumerate(tensor_loader)):\n",
    "        # start_time = time.time()\n",
    "        rgb_data, depth_data, lidar_data, mmwave_data, wifi_data, kpts, exist_list = data\n",
    "        rgb_data = rgb_data.to(device)\n",
    "        depth_data = depth_data.to(device)\n",
    "        lidar_data = lidar_data.to(device)\n",
    "        mmwave_data = mmwave_data.to(device)\n",
    "        wifi_data = wifi_data.to(device)\n",
    "        kpts.to(device)\n",
    "        labels = kpts.type(torch.FloatTensor)\n",
    "        # outputs = model(input_1, exist_list)\n",
    "        # outputs = outputs.type(torch.FloatTensor)\n",
    "        rgb_model.to('cuda')\n",
    "        rgb_outputs = rgb_model(rgb_data, [True, False, False, False, False])\n",
    "        rgb_model.to('cpu')\n",
    "        del rgb_data\n",
    "        depth_model.to('cuda')\n",
    "        depth_outputs = depth_model(depth_data, [False, True, False, False, False])\n",
    "        depth_model.to('cpu')\n",
    "        del depth_data\n",
    "        mmwave_model.to('cuda')\n",
    "        mmwave_outputs = mmwave_model(mmwave_data, [False, False, True, False, False])\n",
    "        mmwave_model.to('cpu')\n",
    "        del mmwave_data\n",
    "        lidar_model.to('cuda')\n",
    "        lidar_outputs = lidar_model(lidar_data, [False, False, False, True, False])\n",
    "        lidar_model.to('cpu')\n",
    "        del lidar_data\n",
    "        wifi_model.to('cuda')\n",
    "        wifi_outputs = wifi_model(wifi_data, [False, False, False, False, True])\n",
    "        wifi_model.to('cpu')\n",
    "        del wifi_data\n",
    "        \n",
    "        # rgb_outputs = rgb_outputs.to(device)\n",
    "        rgb_outputs = rgb_outputs.detach().cpu().numpy()\n",
    "        depth_outputs = depth_outputs.detach().cpu().numpy()\n",
    "        mmwave_outputs = mmwave_outputs.detach().cpu().numpy()\n",
    "        lidar_outputs = lidar_outputs.detach().cpu().numpy()\n",
    "        wifi_outputs = wifi_outputs.detach().cpu().numpy()\n",
    "        labels = labels.detach().cpu().numpy()\n",
    "        if i == 0:\n",
    "            rgb_result = rgb_outputs\n",
    "            depth_result = depth_outputs\n",
    "            mmwave_result = mmwave_outputs\n",
    "            lidar_result = lidar_outputs\n",
    "            wifi_result = wifi_outputs\n",
    "            all_label = labels\n",
    "        else:\n",
    "            rgb_result = np.vstack((rgb_result, rgb_outputs))\n",
    "            depth_result = np.vstack((depth_result, depth_outputs))\n",
    "            mmwave_result = np.vstack((mmwave_result, mmwave_outputs))\n",
    "            lidar_result = np.vstack((lidar_result, lidar_outputs))\n",
    "            wifi_result = np.vstack((wifi_result, wifi_outputs))\n",
    "            all_label = np.vstack((all_label, labels))\n",
    "    np.save('./baseline_results/rgb_result.npy', rgb_result)\n",
    "    np.save('./baseline_results/depth_result.npy', depth_result)\n",
    "    np.save('./baseline_results/mmwave_result.npy', mmwave_result)\n",
    "    np.save('./baseline_results/lidar_result.npy', lidar_result)\n",
    "    np.save('./baseline_results/wifi_result.npy', wifi_result)\n",
    "    np.save('./baseline_results/all_label.npy', all_label)\n",
    "\n",
    "    return"
   ]
  },
  {
   "cell_type": "code",
   "execution_count": 7,
   "metadata": {},
   "outputs": [
    {
     "name": "stderr",
     "output_type": "stream",
     "text": [
      "0it [00:00, ?it/s]C:\\Users\\CHEN_X~1\\AppData\\Local\\Temp/ipykernel_51604/985005116.py:39: UserWarning: The given NumPy array is not writable, and PyTorch does not support non-writable tensors. This means writing to this tensor will result in undefined behavior. You may want to copy the array to protect its data or make it writable before converting it to a tensor. This type of warning will be suppressed for the rest of this program. (Triggered internally at C:\\actions-runner\\_work\\pytorch\\pytorch\\builder\\windows\\pytorch\\torch\\csrc\\utils\\tensor_numpy.cpp:212.)\n",
      "  lidar_data = [torch.Tensor(t['input_lidar']) for t in batch ]\n",
      "c:\\Users\\Chen_Xinyan\\anaconda3\\envs\\pytorch\\lib\\site-packages\\torchvision\\transforms\\functional.py:1603: UserWarning: The default value of the antialias parameter of all the resizing transforms (Resize(), RandomResizedCrop(), etc.) will change from None to True in v0.17, in order to be consistent across the PIL and Tensor backends. To suppress this warning, directly pass antialias=True (recommended, future default), antialias=None (current default, which means False for Tensors and True for PIL), or antialias=False (only works on Tensors - PIL will still use antialiasing). This also applies if you are using the inference transforms from the models weights: update the call to weights.transforms(antialias=True).\n",
      "  warnings.warn(\n",
      "3403it [1:09:01,  1.22s/it]\n"
     ]
    }
   ],
   "source": [
    "device = torch.device(\"cuda\" if torch.cuda.is_available() else \"cpu\")\n",
    "get_result(rgb_model,depth_model,mmwave_model,lidar_model,wifi_model, val_loader, device)"
   ]
  },
  {
   "cell_type": "code",
   "execution_count": 8,
   "metadata": {},
   "outputs": [],
   "source": [
    "rgb_result=np.load('./baseline_results/rgb_result.npy')\n",
    "depth_result=np.load('./baseline_results/depth_result.npy')\n",
    "mmwave_result=np.load('./baseline_results/mmwave_result.npy')\n",
    "lidar_result=np.load('./baseline_results/lidar_result.npy')\n",
    "wifi_result=np.load('./baseline_results/wifi_result.npy')\n",
    "all_label=np.load('./baseline_results/all_label.npy')"
   ]
  },
  {
   "cell_type": "code",
   "execution_count": 9,
   "metadata": {},
   "outputs": [
    {
     "name": "stdout",
     "output_type": "stream",
     "text": [
      "RGB mpjpe: 0.1209835\n",
      "RGB pampjpe: 0.06802574693815214\n"
     ]
    }
   ],
   "source": [
    "mpjpe, pampjpe = error(rgb_result,all_label)\n",
    "print('RGB mpjpe:',mpjpe)\n",
    "print('RGB pampjpe:',pampjpe)"
   ]
  },
  {
   "cell_type": "code",
   "execution_count": 10,
   "metadata": {},
   "outputs": [
    {
     "name": "stdout",
     "output_type": "stream",
     "text": [
      "Depth mpjpe: 0.102404244\n",
      "Depth pampjpe: 0.05273534376296619\n"
     ]
    }
   ],
   "source": [
    "mpjpe, pampjpe = error(depth_result,all_label)\n",
    "print('Depth mpjpe:',mpjpe)\n",
    "print('Depth pampjpe:',pampjpe)"
   ]
  },
  {
   "cell_type": "code",
   "execution_count": 11,
   "metadata": {},
   "outputs": [
    {
     "name": "stdout",
     "output_type": "stream",
     "text": [
      "Lidar mpjpe: 0.16146122\n",
      "Lidar pampjpe: 0.10347314387242829\n"
     ]
    }
   ],
   "source": [
    "mpjpe, pampjpe = error(lidar_result,all_label)\n",
    "print('Lidar mpjpe:',mpjpe)\n",
    "print('Lidar pampjpe:',pampjpe)"
   ]
  },
  {
   "cell_type": "code",
   "execution_count": 12,
   "metadata": {},
   "outputs": [
    {
     "name": "stdout",
     "output_type": "stream",
     "text": [
      "mmWave mpjpe: 0.14125669\n",
      "mmWave pampjpe: 0.07241973172052109\n"
     ]
    }
   ],
   "source": [
    "mpjpe, pampjpe = error(mmwave_result,all_label)\n",
    "print('mmWave mpjpe:',mpjpe)\n",
    "print('mmWave pampjpe:',pampjpe)"
   ]
  },
  {
   "cell_type": "code",
   "execution_count": 13,
   "metadata": {},
   "outputs": [
    {
     "name": "stdout",
     "output_type": "stream",
     "text": [
      "Wifi mpjpe: 0.22709544\n",
      "Wifi pampjpe: 0.10794727373808227\n"
     ]
    }
   ],
   "source": [
    "mpjpe, pampjpe = error(wifi_result,all_label)\n",
    "print('Wifi mpjpe:',mpjpe)\n",
    "print('Wifi pampjpe:',pampjpe)"
   ]
  },
  {
   "cell_type": "code",
   "execution_count": 15,
   "metadata": {},
   "outputs": [
    {
     "name": "stdout",
     "output_type": "stream",
     "text": [
      "ID mpjpe: 0.0967305\n",
      "ID pampjpe: 0.053927209294340514\n"
     ]
    }
   ],
   "source": [
    "ID_result = (rgb_result + depth_result)/2\n",
    "mpjpe, pampjpe = error(ID_result,all_label)\n",
    "print('ID mpjpe:',mpjpe)\n",
    "print('ID pampjpe:',pampjpe)"
   ]
  },
  {
   "cell_type": "code",
   "execution_count": 16,
   "metadata": {},
   "outputs": [
    {
     "name": "stdout",
     "output_type": "stream",
     "text": [
      "IL mpjpe: 0.12204741\n",
      "IL pampjpe: 0.07560428465871315\n"
     ]
    }
   ],
   "source": [
    "IL_result = (rgb_result + lidar_result)/2\n",
    "mpjpe, pampjpe = error(IL_result,all_label)\n",
    "print('IL mpjpe:',mpjpe)\n",
    "print('IL pampjpe:',pampjpe)"
   ]
  },
  {
   "cell_type": "code",
   "execution_count": 17,
   "metadata": {},
   "outputs": [
    {
     "name": "stdout",
     "output_type": "stream",
     "text": [
      "IR mpjpe: 0.10099864\n",
      "IR pampjpe: 0.057282707213582695\n"
     ]
    }
   ],
   "source": [
    "IR_result = (rgb_result + mmwave_result)/2\n",
    "mpjpe, pampjpe = error(IR_result,all_label)\n",
    "print('IR mpjpe:',mpjpe)\n",
    "print('IR pampjpe:',pampjpe)"
   ]
  },
  {
   "cell_type": "code",
   "execution_count": 18,
   "metadata": {},
   "outputs": [
    {
     "name": "stdout",
     "output_type": "stream",
     "text": [
      "IW mpjpe: 0.1464063\n",
      "IW pampjpe: 0.07734011737127457\n"
     ]
    }
   ],
   "source": [
    "IW_result = (rgb_result + wifi_result)/2\n",
    "mpjpe, pampjpe = error(IW_result,all_label)\n",
    "print('IW mpjpe:',mpjpe)\n",
    "print('IW pampjpe:',pampjpe)"
   ]
  },
  {
   "cell_type": "code",
   "execution_count": 19,
   "metadata": {},
   "outputs": [
    {
     "name": "stdout",
     "output_type": "stream",
     "text": [
      "DL mpjpe: 0.11172355\n",
      "DL pampjpe: 0.06875045324114044\n"
     ]
    }
   ],
   "source": [
    "DL_result = (depth_result + lidar_result)/2\n",
    "mpjpe, pampjpe = error(DL_result,all_label)\n",
    "print('DL mpjpe:',mpjpe)\n",
    "print('DL pampjpe:',pampjpe)"
   ]
  },
  {
   "cell_type": "code",
   "execution_count": 20,
   "metadata": {},
   "outputs": [
    {
     "name": "stdout",
     "output_type": "stream",
     "text": [
      "DR mpjpe: 0.09408594\n",
      "DR pampjpe: 0.05178810151339959\n"
     ]
    }
   ],
   "source": [
    "DR_result = (depth_result + mmwave_result)/2\n",
    "mpjpe, pampjpe = error(DR_result,all_label)\n",
    "print('DR mpjpe:',mpjpe)\n",
    "print('DR pampjpe:',pampjpe)"
   ]
  },
  {
   "cell_type": "code",
   "execution_count": 21,
   "metadata": {},
   "outputs": [
    {
     "name": "stdout",
     "output_type": "stream",
     "text": [
      "DW mpjpe: 0.14171347\n",
      "DW pampjpe: 0.07138707609416639\n"
     ]
    }
   ],
   "source": [
    "DW_result = (depth_result + wifi_result)/2\n",
    "mpjpe, pampjpe = error(DW_result,all_label)\n",
    "print('DW mpjpe:',mpjpe)\n",
    "print('DW pampjpe:',pampjpe)"
   ]
  },
  {
   "cell_type": "code",
   "execution_count": 22,
   "metadata": {},
   "outputs": [
    {
     "name": "stdout",
     "output_type": "stream",
     "text": [
      "RL mpjpe: 0.11641539\n",
      "RL pampjpe: 0.07146439485644991\n"
     ]
    }
   ],
   "source": [
    "RL_result = (mmwave_result + lidar_result)/2\n",
    "mpjpe, pampjpe = error(RL_result,all_label)\n",
    "print('RL mpjpe:',mpjpe)\n",
    "print('RL pampjpe:',pampjpe)"
   ]
  },
  {
   "cell_type": "code",
   "execution_count": 23,
   "metadata": {},
   "outputs": [
    {
     "name": "stdout",
     "output_type": "stream",
     "text": [
      "RW mpjpe: 0.1441773\n",
      "RW pampjpe: 0.07215036383181073\n"
     ]
    }
   ],
   "source": [
    "RW_result = (mmwave_result + wifi_result)/2\n",
    "mpjpe, pampjpe = error(RW_result,all_label)\n",
    "print('RW mpjpe:',mpjpe)\n",
    "print('RW pampjpe:',pampjpe)"
   ]
  },
  {
   "cell_type": "code",
   "execution_count": 24,
   "metadata": {},
   "outputs": [
    {
     "name": "stdout",
     "output_type": "stream",
     "text": [
      "LW mpjpe: 0.16706093\n",
      "LW pampjpe: 0.10072880605367486\n"
     ]
    }
   ],
   "source": [
    "LW_result = (lidar_result + wifi_result)/2\n",
    "mpjpe, pampjpe = error(LW_result,all_label)\n",
    "print('LW mpjpe:',mpjpe)\n",
    "print('LW pampjpe:',pampjpe)"
   ]
  },
  {
   "cell_type": "code",
   "execution_count": 25,
   "metadata": {},
   "outputs": [
    {
     "name": "stdout",
     "output_type": "stream",
     "text": [
      "IDL mpjpe: 0.102884695\n",
      "IDL pampjpe: 0.062288294354467075\n"
     ]
    }
   ],
   "source": [
    "IDL_result = (rgb_result + depth_result + lidar_result)/3\n",
    "mpjpe, pampjpe = error(IDL_result,all_label)\n",
    "print('IDL mpjpe:',mpjpe)\n",
    "print('IDL pampjpe:',pampjpe)"
   ]
  },
  {
   "cell_type": "code",
   "execution_count": 26,
   "metadata": {},
   "outputs": [
    {
     "name": "stdout",
     "output_type": "stream",
     "text": [
      "IDR mpjpe: 0.086676255\n",
      "IDR pampjpe: 0.05006913068905228\n"
     ]
    }
   ],
   "source": [
    "IDR_result = (rgb_result + depth_result + mmwave_result)/3\n",
    "mpjpe, pampjpe = error(IDR_result,all_label)\n",
    "print('IDR mpjpe:',mpjpe)\n",
    "print('IDR pampjpe:',pampjpe)"
   ]
  },
  {
   "cell_type": "code",
   "execution_count": 28,
   "metadata": {},
   "outputs": [
    {
     "name": "stdout",
     "output_type": "stream",
     "text": [
      "IDW mpjpe: 0.11859307\n",
      "IDW pampjpe: 0.06366522570369035\n"
     ]
    }
   ],
   "source": [
    "IDW_result = (rgb_result + depth_result + wifi_result)/3\n",
    "mpjpe, pampjpe = error(IDW_result,all_label)\n",
    "print('IDW mpjpe:',mpjpe)\n",
    "print('IDW pampjpe:',pampjpe)"
   ]
  },
  {
   "cell_type": "code",
   "execution_count": 29,
   "metadata": {},
   "outputs": [
    {
     "name": "stdout",
     "output_type": "stream",
     "text": [
      "ILR mpjpe: 0.10136549\n",
      "ILR pampjpe: 0.06270019567711774\n"
     ]
    }
   ],
   "source": [
    "ILR_result = (rgb_result + lidar_result + mmwave_result)/3\n",
    "mpjpe, pampjpe = error(ILR_result,all_label)\n",
    "print('ILR mpjpe:',mpjpe)\n",
    "print('ILR pampjpe:',pampjpe)"
   ]
  },
  {
   "cell_type": "code",
   "execution_count": 30,
   "metadata": {},
   "outputs": [
    {
     "name": "stdout",
     "output_type": "stream",
     "text": [
      "ILW mpjpe: 0.13493872\n",
      "ILW pampjpe: 0.08199176980513029\n"
     ]
    }
   ],
   "source": [
    "ILW_result = (rgb_result + lidar_result + wifi_result)/3\n",
    "mpjpe, pampjpe = error(ILW_result,all_label)\n",
    "print('ILW mpjpe:',mpjpe)\n",
    "print('ILW pampjpe:',pampjpe)"
   ]
  },
  {
   "cell_type": "code",
   "execution_count": 31,
   "metadata": {},
   "outputs": [
    {
     "name": "stdout",
     "output_type": "stream",
     "text": [
      "IRW mpjpe: 0.11651134\n",
      "IRW pampjpe: 0.06309395703861613\n"
     ]
    }
   ],
   "source": [
    "IRW_result = (rgb_result + mmwave_result + wifi_result)/3\n",
    "mpjpe, pampjpe = error(IRW_result,all_label)\n",
    "print('IRW mpjpe:',mpjpe)\n",
    "print('IRW pampjpe:',pampjpe)"
   ]
  },
  {
   "cell_type": "code",
   "execution_count": 32,
   "metadata": {},
   "outputs": [
    {
     "name": "stdout",
     "output_type": "stream",
     "text": [
      "DLR mpjpe: 0.095291585\n",
      "DLR pampjpe: 0.05856401709935985\n"
     ]
    }
   ],
   "source": [
    "DLR_result = (depth_result + lidar_result + mmwave_result)/3\n",
    "mpjpe, pampjpe = error(DLR_result,all_label)\n",
    "print('DLR mpjpe:',mpjpe)\n",
    "print('DLR pampjpe:',pampjpe)"
   ]
  },
  {
   "cell_type": "code",
   "execution_count": 34,
   "metadata": {},
   "outputs": [
    {
     "name": "stdout",
     "output_type": "stream",
     "text": [
      "DLW mpjpe: 0.13074219\n",
      "DLW pampjpe: 0.07806211223969958\n"
     ]
    }
   ],
   "source": [
    "DLW_result = (depth_result + lidar_result + wifi_result)/3\n",
    "mpjpe, pampjpe = error(DLW_result,all_label)\n",
    "print('DLW mpjpe:',mpjpe)\n",
    "print('DLW pampjpe:',pampjpe)"
   ]
  },
  {
   "cell_type": "code",
   "execution_count": 35,
   "metadata": {},
   "outputs": [
    {
     "name": "stdout",
     "output_type": "stream",
     "text": [
      "DRW mpjpe: 0.11318378\n",
      "DRW pampjpe: 0.059399814542748605\n"
     ]
    }
   ],
   "source": [
    "DRW_result = (depth_result + mmwave_result + wifi_result)/3\n",
    "mpjpe, pampjpe = error(DRW_result,all_label)\n",
    "print('DRW mpjpe:',mpjpe)\n",
    "print('DRW pampjpe:',pampjpe)"
   ]
  },
  {
   "cell_type": "code",
   "execution_count": 36,
   "metadata": {},
   "outputs": [
    {
     "name": "stdout",
     "output_type": "stream",
     "text": [
      "LRW mpjpe: 0.12963524\n",
      "LRW pampjpe: 0.0780878697796786\n"
     ]
    }
   ],
   "source": [
    "LRW_result = (lidar_result + mmwave_result + wifi_result)/3\n",
    "mpjpe, pampjpe = error(LRW_result,all_label)\n",
    "print('LRW mpjpe:',mpjpe)\n",
    "print('LRW pampjpe:',pampjpe)"
   ]
  },
  {
   "cell_type": "code",
   "execution_count": 37,
   "metadata": {},
   "outputs": [
    {
     "name": "stdout",
     "output_type": "stream",
     "text": [
      "IDLR mpjpe: 0.09071056\n",
      "IDLR pampjpe: 0.05577281046866885\n"
     ]
    }
   ],
   "source": [
    "IDLR_result = (rgb_result + depth_result + lidar_result + mmwave_result)/4\n",
    "mpjpe, pampjpe = error(IDLR_result,all_label)\n",
    "print('IDLR mpjpe:',mpjpe)\n",
    "print('IDLR pampjpe:',pampjpe)\n"
   ]
  },
  {
   "cell_type": "code",
   "execution_count": 38,
   "metadata": {},
   "outputs": [
    {
     "name": "stdout",
     "output_type": "stream",
     "text": [
      "IDLW mpjpe: 0.11672417\n",
      "IDLW pampjpe: 0.07002651349511252\n"
     ]
    }
   ],
   "source": [
    "IDLW_result = (rgb_result + depth_result + lidar_result + wifi_result)/4\n",
    "mpjpe, pampjpe = error(IDLW_result,all_label)\n",
    "print('IDLW mpjpe:',mpjpe)\n",
    "print('IDLW pampjpe:',pampjpe)"
   ]
  },
  {
   "cell_type": "code",
   "execution_count": 39,
   "metadata": {},
   "outputs": [
    {
     "name": "stdout",
     "output_type": "stream",
     "text": [
      "IDRW mpjpe: 0.10192484\n",
      "IDRW pampjpe: 0.05629642005526464\n"
     ]
    }
   ],
   "source": [
    "IDRW_result = (rgb_result + depth_result + mmwave_result + wifi_result)/4\n",
    "mpjpe, pampjpe = error(IDRW_result,all_label)\n",
    "print('IDRW mpjpe:',mpjpe)\n",
    "print('IDRW pampjpe:',pampjpe)"
   ]
  },
  {
   "cell_type": "code",
   "execution_count": 40,
   "metadata": {},
   "outputs": [
    {
     "name": "stdout",
     "output_type": "stream",
     "text": [
      "ILRW mpjpe: 0.11402801\n",
      "ILRW pampjpe: 0.06952264365507982\n"
     ]
    }
   ],
   "source": [
    "ILRW_result = (rgb_result + lidar_result + mmwave_result + wifi_result)/4\n",
    "mpjpe, pampjpe = error(ILRW_result,all_label)\n",
    "print('ILRW mpjpe:',mpjpe)\n",
    "print('ILRW pampjpe:',pampjpe)"
   ]
  },
  {
   "cell_type": "code",
   "execution_count": 41,
   "metadata": {},
   "outputs": [
    {
     "name": "stdout",
     "output_type": "stream",
     "text": [
      "DLRW mpjpe: 0.11081125\n",
      "DLRW pampjpe: 0.06666690455020988\n"
     ]
    }
   ],
   "source": [
    "DLRW_result = (depth_result + lidar_result + mmwave_result + wifi_result)/4\n",
    "mpjpe, pampjpe = error(DLRW_result,all_label)\n",
    "print('DLRW mpjpe:',mpjpe)\n",
    "print('DLRW pampjpe:',pampjpe)"
   ]
  },
  {
   "cell_type": "code",
   "execution_count": 42,
   "metadata": {},
   "outputs": [
    {
     "name": "stdout",
     "output_type": "stream",
     "text": [
      "IDLRW mpjpe: 0.10297314\n",
      "IDLRW pampjpe: 0.062427426992494484\n"
     ]
    }
   ],
   "source": [
    "IDLRW_result = (rgb_result + depth_result + lidar_result + mmwave_result + wifi_result)/5\n",
    "mpjpe, pampjpe = error(IDLRW_result,all_label)\n",
    "print('IDLRW mpjpe:',mpjpe)\n",
    "print('IDLRW pampjpe:',pampjpe)"
   ]
  },
  {
   "cell_type": "code",
   "execution_count": null,
   "metadata": {},
   "outputs": [],
   "source": []
  }
 ],
 "metadata": {
  "kernelspec": {
   "display_name": "pytorch",
   "language": "python",
   "name": "python3"
  },
  "language_info": {
   "codemirror_mode": {
    "name": "ipython",
    "version": 3
   },
   "file_extension": ".py",
   "mimetype": "text/x-python",
   "name": "python",
   "nbconvert_exporter": "python",
   "pygments_lexer": "ipython3",
   "version": "3.9.7"
  }
 },
 "nbformat": 4,
 "nbformat_minor": 2
}

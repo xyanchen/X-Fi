{
 "cells": [
  {
   "cell_type": "code",
   "execution_count": 1,
   "metadata": {},
   "outputs": [
    {
     "name": "stdout",
     "output_type": "stream",
     "text": [
      "E01\n",
      "S01\n",
      "S02\n",
      "S03\n",
      "S04\n",
      "S05\n",
      "S06\n",
      "S07\n",
      "S08\n",
      "S09\n",
      "S10\n",
      "E02\n",
      "S11\n",
      "S12\n",
      "S13\n",
      "S14\n",
      "S15\n",
      "S16\n",
      "S17\n",
      "S18\n",
      "S19\n",
      "S20\n",
      "E03\n",
      "S21\n",
      "S22\n",
      "S23\n",
      "S24\n",
      "S25\n",
      "S26\n",
      "S27\n",
      "S28\n",
      "S29\n",
      "S30\n",
      "E04\n",
      "S31\n",
      "S32\n",
      "S33\n",
      "S34\n",
      "S35\n",
      "S36\n",
      "S37\n",
      "S38\n",
      "S39\n",
      "S40\n"
     ]
    }
   ],
   "source": [
    "root = 'D:\\Data\\My_MMFi_Data\\MMFi_Dataset'\n",
    "import os\n",
    "for env in sorted(os.listdir(root)):\n",
    "    print(env)\n",
    "    for subject in sorted(os.listdir(os.path.join(root, env))):\n",
    "        print(subject)\n",
    "        for activity in sorted(os.listdir(os.path.join(root, env, subject))):\n",
    "            # print(activity)\n",
    "            # print(os.path.join(root, env, subject, activity))\n",
    "            for modality in ['rgb','depth','lidar','wifi-csi']:\n",
    "                # print(modality)\n",
    "                num = len(os.listdir(os.path.join(root, env, subject, activity, modality)))\n",
    "                if num == 297:\n",
    "                    continue\n",
    "                else:\n",
    "                    print(env, subject, activity, modality, num)\n",
    "            #     break\n",
    "            # break\n",
    "    #     break\n",
    "    # break\n"
   ]
  },
  {
   "cell_type": "code",
   "execution_count": 2,
   "metadata": {},
   "outputs": [],
   "source": [
    "import torch\n",
    "import torch.nn as nn"
   ]
  },
  {
   "cell_type": "code",
   "execution_count": null,
   "metadata": {},
   "outputs": [],
   "source": [
    "class linear_projector(nn.Module):\n",
    "    def __init__(self, input_dim, output_dim):\n",
    "        super(linear_projector, self).__init__()\n",
    "        self.linear_projection = nn.Conv1d(input_dim, output_dim, 1, 1, 0)\n",
    "    # def forward(self, rgb_feature, depth_feature, mmwave_feature, lidar_feature, csi_feature, modality_list):\n",
    "    #     feature_list = [rgb_feature, depth_feature, mmwave_feature, lidar_feature, csi_feature]\n",
    "    #     if sum (modality_list) == 0:\n",
    "    #         print('WARNING: modality_list is empty!')\n",
    "    #         feature = torch.zeros_like(lidar_feature, device=torch.device('cuda'))\n",
    "    #         feature = self.linear_projection(feature)\n",
    "    #     else:\n",
    "    #         real_feature_list = []\n",
    "    #         for i in range(len(modality_list)):\n",
    "    #             if modality_list[i] == True:\n",
    "    #                 real_feature_list.append(feature_list[i])\n",
    "    #             else:\n",
    "    #                 continue\n",
    "    #         feature = torch.cat(real_feature_list, dim=1)\n",
    "    #         feature = self.linear_projection(feature)\n",
    "    #     return feature\n",
    "    def forward(self, rgb_feature, depth_feature, mmwave_feature, lidar_feature, csi_feature, modality_list):\n",
    "        feature_list = [rgb_feature, depth_feature, mmwave_feature, lidar_feature, csi_feature]"
   ]
  },
  {
   "cell_type": "code",
   "execution_count": 9,
   "metadata": {},
   "outputs": [
    {
     "name": "stdout",
     "output_type": "stream",
     "text": [
      "tensor([ 1.0738, -2.0590, -0.4823, -0.7991, -0.5433,  0.2063,  2.6042, -0.7325,\n",
      "         0.1970,  1.3581,  0.0157, -0.1309, -1.9995,  0.5261,  1.2761, -0.5081])\n",
      "tensor([ 1.7910,  0.1227,  0.4035,  0.6901,  0.1704, -0.2732,  0.0046, -0.9625,\n",
      "        -1.3507, -0.8886, -0.7415,  0.1576,  0.2561, -1.8297,  0.2314, -0.9118])\n",
      "tensor([ 0.0409,  1.3215, -0.9362,  0.0041,  0.4278, -0.1733,  0.6391, -0.6053,\n",
      "         0.7920, -0.2561,  0.2725, -1.0825, -0.2974, -0.3699, -1.1774, -0.2120])\n",
      "tensor([ 1.0738, -2.0590, -0.4823, -0.7991, -0.5433,  0.2063,  2.6042, -0.7325,\n",
      "         0.1970,  1.3581,  0.0157, -0.1309, -1.9995,  0.5261,  1.2761, -0.5081])\n",
      "tensor([ 2.8649, -1.9362, -0.0788, -0.1089, -0.3729, -0.0669,  2.6088, -1.6951,\n",
      "        -1.1537,  0.4695, -0.7257,  0.0266, -1.7434, -1.3037,  1.5075, -1.4199])\n",
      "tensor([ 2.9058, -0.6147, -1.0150, -0.1048,  0.0549, -0.2402,  3.2480, -2.3004,\n",
      "        -0.3617,  0.2134, -0.4532, -1.0559, -2.0409, -1.6735,  0.3301, -1.6319])\n",
      "tensor([ 0.9686, -0.2049, -0.3383, -0.0349,  0.0183, -0.0801,  1.0827, -0.7668,\n",
      "        -0.1206,  0.0711, -0.1511, -0.3520, -0.6803, -0.5578,  0.1100, -0.5440])\n"
     ]
    }
   ],
   "source": [
    "features = [torch.randn(16,32,512), torch.randn(16,32,512), torch.randn(16,32,512)]\n",
    "for i in range(len(features)):\n",
    "    print(features[i][:,0,0])\n",
    "feature_embedding = torch.zeros(features[0].shape).to(features[0].device)\n",
    "# print(feature_embedding)\n",
    "for single_feature in features:\n",
    "    feature_embedding = torch.add(feature_embedding, single_feature, alpha=1)\n",
    "    print(feature_embedding[:,0,0])\n",
    "# print(feature_embedding.shape)\n",
    "feature_embedding = torch.div(feature_embedding, 3)\n",
    "print(feature_embedding[:,0,0])"
   ]
  },
  {
   "cell_type": "code",
   "execution_count": 7,
   "metadata": {},
   "outputs": [
    {
     "name": "stdout",
     "output_type": "stream",
     "text": [
      "[False, False, False, False, False]\n",
      "[False, False, False, False, False]\n",
      "[False, False, False, False, False]\n",
      "[False, False, False, False, False]\n",
      "[False, False, False, False, False]\n",
      "[False, False, False, False, False]\n",
      "[False, False, False, False, False]\n",
      "[False, False, False, False, False]\n",
      "[False, False, False, False, False]\n",
      "[False, False, False, False, False]\n",
      "[False, True, False, False, False]\n",
      "[False, True, False, False, False]\n"
     ]
    }
   ],
   "source": [
    "import random\n",
    "\n",
    "def generate_none_empth_modality_list():\n",
    "    modality_list = random.choices(\n",
    "        [True, False],\n",
    "        k= 5,\n",
    "        weights=[1, 99]\n",
    "    )\n",
    "    print(modality_list)\n",
    "    if sum(modality_list) == 0:\n",
    "        modality_list = generate_none_empth_modality_list()\n",
    "        return modality_list\n",
    "    else:\n",
    "        return modality_list\n",
    "\n",
    "modality_list = generate_none_empth_modality_list()\n",
    "print(modality_list)"
   ]
  },
  {
   "cell_type": "code",
   "execution_count": 1,
   "metadata": {},
   "outputs": [
    {
     "name": "stdout",
     "output_type": "stream",
     "text": [
      "torch.Size([16, 17, 3])\n"
     ]
    }
   ],
   "source": [
    "'model with pos encoding'\n",
    "import torch\n",
    "import sys\n",
    "from MI_model_5 import modality_invariant_model\n",
    "\n",
    "model = modality_invariant_model()\n",
    "model.cuda()\n",
    "\n",
    "rgb_data = torch.randn(16, 3, 480, 640).cuda()\n",
    "depth_data = torch.randn(16, 3, 480, 640).cuda()\n",
    "lidar_data = torch.randn(16, 1432, 3).cuda()\n",
    "mmwave_data = torch.randn(16, 67, 5).cuda()\n",
    "wifi_data = torch.randn(16, 3, 114, 10).cuda()\n",
    "modality_list = [False, True, False, True, False]\n",
    "# modality_list = [True, True, True, True, True]\n",
    "# modality_list = [False, False, False, False, False]\n",
    "\n",
    "out = model(rgb_data, depth_data,  mmwave_data, lidar_data, wifi_data, modality_list)\n",
    "\n",
    "print(out.shape)\n",
    "# print(model)"
   ]
  },
  {
   "cell_type": "code",
   "execution_count": null,
   "metadata": {},
   "outputs": [],
   "source": []
  }
 ],
 "metadata": {
  "kernelspec": {
   "display_name": "pytorch",
   "language": "python",
   "name": "python3"
  },
  "language_info": {
   "codemirror_mode": {
    "name": "ipython",
    "version": 3
   },
   "file_extension": ".py",
   "mimetype": "text/x-python",
   "name": "python",
   "nbconvert_exporter": "python",
   "pygments_lexer": "ipython3",
   "version": "3.9.7"
  }
 },
 "nbformat": 4,
 "nbformat_minor": 2
}

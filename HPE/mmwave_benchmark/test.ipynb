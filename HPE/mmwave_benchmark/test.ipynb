{
 "cells": [
  {
   "cell_type": "code",
   "execution_count": 1,
   "metadata": {},
   "outputs": [],
   "source": [
    "from mmwave_util import *\n",
    "from mmwave_point_transformer_TD import *"
   ]
  },
  {
   "cell_type": "code",
   "execution_count": 2,
   "metadata": {},
   "outputs": [],
   "source": [
    "x = torch.randn(16,45,5)\n",
    "p = torch.randn(16,45,32)"
   ]
  },
  {
   "cell_type": "code",
   "execution_count": 7,
   "metadata": {},
   "outputs": [
    {
     "name": "stdout",
     "output_type": "stream",
     "text": [
      "torch.Size([16, 32, 5])\n",
      "torch.Size([16, 32, 7, 37])\n"
     ]
    }
   ],
   "source": [
    "# y = farthest_point_sample(x, 10)\n",
    "new_xyz, new_points = sample_and_group(32, 0.5, 7, x, p, False, True)\n",
    "print(new_xyz.shape)\n",
    "print(new_points.shape)"
   ]
  },
  {
   "cell_type": "code",
   "execution_count": 3,
   "metadata": {},
   "outputs": [
    {
     "name": "stdout",
     "output_type": "stream",
     "text": [
      "points: torch.Size([16, 45, 32])\n",
      "points: torch.Size([16, 32, 64])\n",
      "points: torch.Size([16, 32, 64])\n",
      "points: torch.Size([16, 32, 128])\n",
      "points: torch.Size([16, 32, 128])\n",
      "points: torch.Size([16, 32, 256])\n",
      "points: torch.Size([16, 32, 256])\n",
      "points: torch.Size([16, 32, 512])\n",
      "points: torch.Size([16, 32, 512])\n",
      "torch.Size([16, 17, 3])\n"
     ]
    }
   ],
   "source": [
    "model = mmwave_PointTransformerReg()\n",
    "y = model(x)\n",
    "print(y.shape)"
   ]
  }
 ],
 "metadata": {
  "kernelspec": {
   "display_name": "pytorch",
   "language": "python",
   "name": "python3"
  },
  "language_info": {
   "codemirror_mode": {
    "name": "ipython",
    "version": 3
   },
   "file_extension": ".py",
   "mimetype": "text/x-python",
   "name": "python",
   "nbconvert_exporter": "python",
   "pygments_lexer": "ipython3",
   "version": "3.9.7"
  }
 },
 "nbformat": 4,
 "nbformat_minor": 2
}

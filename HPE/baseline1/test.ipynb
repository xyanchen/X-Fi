{
 "cells": [
  {
   "cell_type": "code",
   "execution_count": 2,
   "metadata": {},
   "outputs": [],
   "source": [
    "import numpy as np\n",
    "import glob\n",
    "import scipy.io as sio\n",
    "import torch\n",
    "from torch import nn\n",
    "import csv\n",
    "import os\n",
    "from tqdm import tqdm\n",
    "from torch.utils.data import Dataset, DataLoader\n",
    "import yaml\n",
    "from evaluate import error\n",
    "import time\n",
    "import re\n",
    "import random\n",
    "import sys\n",
    "\n",
    "from einops import rearrange, reduce, repeat\n",
    "from einops.layers.torch import Rearrange, Reduce\n",
    "\n",
    "from torchvision.transforms import Resize"
   ]
  },
  {
   "cell_type": "code",
   "execution_count": 6,
   "metadata": {},
   "outputs": [],
   "source": [
    "from syn_DI_dataset import make_dataset, make_dataloader\n",
    "path = os.getcwd()\n",
    "parentdir = os.path.abspath(os.path.join(path, os.pardir))\n",
    "sys.path.insert(0, parentdir)\n",
    "from RGB_benchmark.rgb_ResNet18.RGB_ResNet import *\n",
    "from depth_benchmark.depth_ResNet18 import *\n",
    "from mmwave_benchmark.mmwave_point_transformer import *\n",
    "from lidar_benchmark.lidar_point_transformer import *\n",
    "from lidar_benchmark.pointnet_util import *"
   ]
  },
  {
   "cell_type": "code",
   "execution_count": 3,
   "metadata": {},
   "outputs": [
    {
     "name": "stdout",
     "output_type": "stream",
     "text": [
      "torch.Size([1, 3, 224, 224])\n",
      "torch.Size([1, 3, 224, 224])\n",
      "torch.Size([1, 3, 224, 224])\n"
     ]
    },
    {
     "ename": "NameError",
     "evalue": "name 'input_4' is not defined",
     "output_type": "error",
     "traceback": [
      "\u001b[0;31m---------------------------------------------------------------------------\u001b[0m",
      "\u001b[0;31mNameError\u001b[0m                                 Traceback (most recent call last)",
      "Cell \u001b[0;32mIn[3], line 12\u001b[0m\n\u001b[1;32m     10\u001b[0m \u001b[39mprint\u001b[39m(input_2\u001b[39m.\u001b[39mshape)\n\u001b[1;32m     11\u001b[0m \u001b[39mprint\u001b[39m(input_3\u001b[39m.\u001b[39mshape)\n\u001b[0;32m---> 12\u001b[0m \u001b[39mprint\u001b[39m(input_4\u001b[39m.\u001b[39mshape)\n",
      "\u001b[0;31mNameError\u001b[0m: name 'input_4' is not defined"
     ]
    }
   ],
   "source": [
    "input_list = []\n",
    "for i in range(3):\n",
    "    input_list.append(torch.randn(1, 3, 224, 224))\n",
    "\n",
    "for i, inputs in enumerate(input_list):\n",
    "    globals()[f'input_{str(i+1)}'] = inputs\n",
    "\n",
    "# print(input_0.shape)\n",
    "print(input_1.shape)\n",
    "print(input_2.shape)\n",
    "print(input_3.shape)\n",
    "print(input_4.shape)"
   ]
  },
  {
   "cell_type": "code",
   "execution_count": null,
   "metadata": {},
   "outputs": [],
   "source": []
  }
 ],
 "metadata": {
  "kernelspec": {
   "display_name": "torch_nightly",
   "language": "python",
   "name": "python3"
  },
  "language_info": {
   "codemirror_mode": {
    "name": "ipython",
    "version": 3
   },
   "file_extension": ".py",
   "mimetype": "text/x-python",
   "name": "python",
   "nbconvert_exporter": "python",
   "pygments_lexer": "ipython3",
   "version": "3.9.18"
  },
  "orig_nbformat": 4
 },
 "nbformat": 4,
 "nbformat_minor": 2
}
